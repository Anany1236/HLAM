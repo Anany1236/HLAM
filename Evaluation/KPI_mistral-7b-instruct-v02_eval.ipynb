{
 "cells": [
  {
   "cell_type": "code",
   "execution_count": 25,
   "id": "f9ded184",
   "metadata": {},
   "outputs": [
    {
     "name": "stdout",
     "output_type": "stream",
     "text": [
      "Python 3.8.10\n"
     ]
    }
   ],
   "source": [
    "!python --version"
   ]
  },
  {
   "cell_type": "code",
   "execution_count": 26,
   "id": "dd8edc47-bcdd-42b7-b2d0-c2c2e7d24ecc",
   "metadata": {},
   "outputs": [],
   "source": [
    "sys_prompt = \"\"\"\n",
    "\n",
    "You are a smart home IOT agent.\n",
    "You will be given a user command enclosed within @@@ Task @@@.\n",
    "\n",
    "You have to generate step by step execution plan for the given user command in json format enclosed between !!!:\n",
    "!!!\n",
    "%%%%%%%\n",
    "{\n",
    "\n",
    "    \"tool_calls\": [\n",
    "        {\n",
    "            \"function_name\": \"function 1\",\n",
    "            \"arguments\": \n",
    "                {\n",
    "                    \"argument_name 1\": \"argument value\"\n",
    "                }\n",
    "         },\n",
    "         {\n",
    "            \"function_name\": \"function 2\",\n",
    "            \"arguments\": \n",
    "                {\n",
    "                    \"argument_name 1\": \"argument value\",\n",
    "                    \"argument_name 2\": \"argument value\"\n",
    "                }\n",
    "        }\n",
    "    ]\n",
    "}\n",
    "%%%%%%%\n",
    "!!!\n",
    "Keywords are defined as below:\n",
    "\n",
    "tool_calls: List of tool call objects, where each tool call object contains:  \n",
    "    - function_name: It is name of single execution step for the complete plan. (e.g., identify_device, powerSwitch_getStatus, etc.) Plan can have 1 or more functions in response.\n",
    "    - arguments: Dictionary of arguments for the function_name, which are required for execution of the function. (e.g., device, location, application, title, etc.)\n",
    "\n",
    "Do not add any superfluous steps. Make sure that each step has all the information needed - do not skip steps.\n",
    "If it is impossible to generate step by step plan, reply empty list of function. Ensure to enclose the output with \"%%%%%%%\" after generating with the json format. Do not generate anything after the second %%%%%%%.\n",
    "\n",
    "\n",
    "\n",
    "\"\"\""
   ]
  },
  {
   "cell_type": "code",
   "execution_count": 27,
   "id": "7b4f953c-354b-471b-a721-9edf15ebbe66",
   "metadata": {},
   "outputs": [],
   "source": [
    "sys_prompt_v2 = \"\"\"\n",
    "\n",
    "You are a smart home IOT agent.\n",
    "You will be given a user command enclosed within @@@`Task`@@@ .\n",
    "\n",
    "You have to generate step by step execution plan for the given user command in json format same as `OUTPUT_FORMAT`.\n",
    "OUTPUT_FORMAT = !!!\n",
    "%%%%%%%\n",
    "{\n",
    "\n",
    "    \"tool_calls\": [\n",
    "        {\n",
    "            \"function_name\": \"function 1\",\n",
    "            \"arguments\": \n",
    "                {\n",
    "                    \"argument_name 1\": \"argument value\"\n",
    "                }\n",
    "         },\n",
    "         {\n",
    "            \"function_name\": \"function 2\",\n",
    "            \"arguments\": \n",
    "                {\n",
    "                    \"argument_name 1\": \"argument value\",\n",
    "                    \"argument_name 2\": \"argument value\"\n",
    "                }\n",
    "        }\n",
    "    ]\n",
    "}\n",
    "%%%%%%%\n",
    "!!!\n",
    "\n",
    "Keywords are defined as below:\n",
    "\n",
    "tool_calls: List of tool call objects, where each tool call object contains:  \n",
    "    - function_name: It is name of single execution step for the complete plan. (e.g., identify_device, powerSwitch_getStatus, etc.) Plan can have 1 or more functions in response.\n",
    "    - arguments: Dictionary of arguments for the function_name, which are required for execution of the function. (e.g., device, location, application, title, etc.)\n",
    "\n",
    "Steps Followed to Generate tool_calls and response:\n",
    "\n",
    "- Refer `TOOLS` provided to get inference based on description of functions to be used and how to refer their arguments.\n",
    "- Do not add any superfluous steps. Make sure that each step has all the information needed - do not skip steps.\n",
    "- If it is impossible to generate step by step plan, reply empty list of function. Ensure to enclose the output with \"%%%%%%%\" after generating with the json format.\n",
    "- Generated the tool_calls enclosed with %%%%%%%.\n",
    "- Generate RESPONSE which is the response from regarding execution of commands, enclosed with %%%%%%%.\n",
    "\n",
    "\n",
    "[Example: @@@User utterance@@@]\n",
    "\n",
    "OUTPUT=\n",
    "<s>\n",
    "%%%%%%%\n",
    "{\n",
    "  \"tool_calls\": [\n",
    "    {\n",
    "      \"type\": \"function\",\n",
    "      \"function\": [\n",
    "        {\n",
    "          \"name\": `function_name`,\n",
    "          \"arguments\": {\n",
    "              `arguments`\n",
    "          }\n",
    "        }\n",
    "      ]\n",
    "    }\n",
    "  ]\n",
    "}\n",
    "%%%%%%% TOOLS RESPONSE %%%%%%% I have executed `function_name`\n",
    "</s>\n",
    "\n",
    "\n",
    "\"\"\""
   ]
  },
  {
   "cell_type": "code",
   "execution_count": 28,
   "id": "bbc4d846-cbcb-4cb8-b820-f791f881dbb3",
   "metadata": {},
   "outputs": [],
   "source": [
    "sys_prompt_implicit_v2 = \"\"\"\n",
    "\n",
    "You are a smart home IOT agent.\n",
    "You will be given a user command enclosed within [`Task`] .\n",
    "\n",
    "You have to generate step by step execution plan for the given user command in json format same as `OUTPUT_FORMAT`.\n",
    "OUTPUT_FORMAT = {\n",
    "\n",
    "    \"tool_calls\": [\n",
    "        {\n",
    "            \"function_name\": \"function 1\",\n",
    "            \"arguments\": \n",
    "                {\n",
    "                    \"argument_name 1\": \"argument value\"\n",
    "                }\n",
    "         },\n",
    "         {\n",
    "            \"function_name\": \"function 2\",\n",
    "            \"arguments\": \n",
    "                {\n",
    "                    \"argument_name 1\": \"argument value\",\n",
    "                    \"argument_name 2\": \"argument value\"\n",
    "                }\n",
    "        }\n",
    "    ]\n",
    "}\n",
    "\n",
    "Keywords are defined as below:\n",
    "\n",
    "tool_calls: List of tool call objects, where each tool call object contains:  \n",
    "    - function_name: It is name of single execution step for the complete plan. (e.g., identify_device, powerSwitch_getStatus, etc.) Plan can have 1 or more functions in response.\n",
    "    - arguments: Dictionary of arguments for the function_name, which are required for execution of the function. (e.g., device, location, application, title, etc.)\n",
    "\n",
    "Steps to generate tool_calls:\n",
    "  - Refer `TOOLS` provided to get inference based on description of functions to be used and how to refer their arguments.\n",
    "  - If it is impossible to generate step by step plan, reply empty list of function. Ensure to enclose the output with \"%%%%%%%\" after generating with the json format.\n",
    "  - Use homecontext to understand the devices, and only consider devices mentioned in the homecontext data.\n",
    "  - Before Outputting the deviceId in the functions. Check whether this deviceId is actually there or not in `homeContext`\n",
    "  - Generated the final output in `OUTPUT_FORMAT` enclosed with %%%%%%%.\n",
    "  - The `RESPONSE` should be enclosed in %%%%%%%.\n",
    "\n",
    "\n",
    "[Example: @@@User Utterance@@@]\n",
    "\n",
    "{\n",
    "    \"homecontext\": \n",
    "    [\n",
    "      {\n",
    "        \"deviceId\": \"tv1_ddd\",\n",
    "        \"deviceName\": \"Television\",\n",
    "        \"deviceType\": \"tv\",\n",
    "        \"deviceStatus\": \"on\",\n",
    "        \"location\": \n",
    "        {\n",
    "          \"locationName\": \"house\",\n",
    "          \"locationId\": \"l1\",\n",
    "          \"roomName\": \"Living Room\",\n",
    "          \"roomId\": \"r1\"\n",
    "        }\n",
    "      }\n",
    "    ]\n",
    "}\n",
    "\n",
    "OUTPUT=\"%%%%%%%\n",
    "{\n",
    "  \"tool_calls\": [\n",
    "    {\n",
    "      \"type\": \"function\",\n",
    "      \"function\": [\n",
    "        {\n",
    "          \"name\": `function_name`,\n",
    "          \"arguments\": {\n",
    "              `arguments`\n",
    "          }\n",
    "        }\n",
    "      ]\n",
    "    }\n",
    "  ]\n",
    "}\n",
    "%%%%%%% RESPONSE %%%%%%% I can execute this. Should i do it?\n",
    "\"\n",
    "\n",
    "\"\"\""
   ]
  },
  {
   "cell_type": "code",
   "execution_count": 29,
   "id": "eafc136c-b027-410f-80a8-fd62ef8d9978",
   "metadata": {},
   "outputs": [],
   "source": [
    "sys_prompt_v3 = \"\"\"\n",
    "\n",
    "You are a smart home IOT agent.\n",
    "You will be given a user command enclosed within @@@ Task @@@.\n",
    "\n",
    "You have to generate step by step execution plan for the given user command in json format enclosed between !!!:\n",
    "!!!\n",
    "%%%%%%%\n",
    "{\n",
    "\n",
    "    \"tool_calls\": [\n",
    "        {\n",
    "            \"function_name\": \"function 1\",\n",
    "            \"arguments\": \n",
    "                {\n",
    "                    \"argument_name 1\": \"argument value\"\n",
    "                }\n",
    "         },\n",
    "         {\n",
    "            \"function_name\": \"function 2\",\n",
    "            \"arguments\": \n",
    "                {\n",
    "                    \"argument_name 1\": \"argument value\",\n",
    "                    \"argument_name 2\": \"argument value\"\n",
    "                }\n",
    "        }\n",
    "    ]\n",
    "}\n",
    "%%%%%%%\n",
    "!!!\n",
    "Keywords are defined as below:\n",
    "\n",
    "tool_calls: List of tool call objects, where each tool call object ONLY contains:  \n",
    "    - function_name: It is name of single execution step for the complete plan. (e.g., identify_device, powerSwitch_getStatus, etc.) Plan can have 1 or more functions in response.\n",
    "    - arguments: Dictionary of arguments for the function_name, which are required for execution of the function. (e.g., device, location, application, title, etc.)\n",
    "Only have function name and arguments. Do not output any other fields like description. \n",
    "\n",
    "Do not add any superfluous steps. Make sure that each step has all the information needed - do not skip steps.\n",
    "If it is impossible to generate step by step plan, reply empty list of function.\n",
    "\n",
    "Use only relavant devices from the homecontext. Do not add devices which are not required.\n",
    "\n",
    "\n",
    "[Example: @@@User utterance@@@]\n",
    "\n",
    "OUTPUT=\n",
    "<s>\n",
    "%%%%%%%\n",
    "{\n",
    "  \"tool_calls\": [\n",
    "    {\n",
    "      \"type\": \"function\",\n",
    "      \"function\": [\n",
    "        {\n",
    "          \"name\": `function_name`,\n",
    "          \"arguments\": {\n",
    "              `arguments`\n",
    "          }\n",
    "        }\n",
    "      ]\n",
    "    }\n",
    "  ]\n",
    "}\n",
    "%%%%%%% TOOLS RESPONSE %%%%%%% I have executed `function_name`\n",
    "</s>\n",
    "\n",
    "\n",
    "\"\"\""
   ]
  },
  {
   "cell_type": "code",
   "execution_count": 30,
   "id": "6d5cd7aa-3ef1-4ce0-9460-47dce22a24c9",
   "metadata": {},
   "outputs": [],
   "source": [
    "sys_prompt_implicit_v3 = \"\"\"\n",
    "\n",
    "You are a smart home IOT agent.\n",
    "You will be given a user command enclosed within @@@ Task @@@.\n",
    "\n",
    "You have to generate step by step execution plan for the given user command in json format enclosed between !!!:\n",
    "!!!\n",
    "%%%%%%%\n",
    "{\n",
    "\n",
    "    \"tool_calls\": [\n",
    "        {\n",
    "            \"function_name\": \"function 1\",\n",
    "            \"arguments\": \n",
    "                {\n",
    "                    \"argument_name 1\": \"argument value\"\n",
    "                }\n",
    "         },\n",
    "         {\n",
    "            \"function_name\": \"function 2\",\n",
    "            \"arguments\": \n",
    "                {\n",
    "                    \"argument_name 1\": \"argument value\",\n",
    "                    \"argument_name 2\": \"argument value\"\n",
    "                }\n",
    "        }\n",
    "    ]\n",
    "}\n",
    "%%%%%%%\n",
    "!!!\n",
    "Keywords are defined as below:\n",
    "\n",
    "tool_calls: List of tool call objects, where each tool call object contains:  \n",
    "    - function_name: It is name of single execution step for the complete plan. (e.g., identify_device, powerSwitch_getStatus, etc.) Plan can have 1 or more functions in response.\n",
    "    - arguments: Dictionary of arguments for the function_name, which are required for execution of the function. (e.g., device, location, application, title, etc.)\n",
    "\n",
    "Use homecontext to understand the devices, and only consider devices mentioned in the homecontext data. Do not generate prediction for irrelavant devices.\n",
    "\n",
    "Do not add any superfluous steps. Make sure that each step has all the information needed - do not skip steps.\n",
    "If it is impossible to generate step by step plan, reply empty list of function. Ensure to enclose the output with \"%%%%%%%\" after generating with the json format. Do not generate anything after the second %%%%%%%.\n",
    "\n",
    "\n",
    "[Example: @@@User utterance@@@]\n",
    "\n",
    "OUTPUT=\n",
    "<s>\n",
    "%%%%%%%\n",
    "{\n",
    "  \"tool_calls\": [\n",
    "    {\n",
    "      \"type\": \"function\",\n",
    "      \"function\": [\n",
    "        {\n",
    "          \"name\": `function_name`,\n",
    "          \"arguments\": {\n",
    "              `arguments`\n",
    "          }\n",
    "        }\n",
    "      ]\n",
    "    }\n",
    "  ]\n",
    "}\n",
    "%%%%%%% TOOLS RESPONSE %%%%%%% I can execute `function_name`. Should i do it\n",
    "</s>\n",
    "\n",
    "\n",
    "\"\"\""
   ]
  },
  {
   "cell_type": "code",
   "execution_count": 31,
   "id": "3364f85f-35b4-4862-9ff9-48371d5cf291",
   "metadata": {},
   "outputs": [],
   "source": [
    "# INPUTS\n",
    "\n",
    "index = 6\n",
    "max_token_size = 4000\n",
    "main_prompt = sys_prompt_v3\n",
    "csvFileName = \"results_version_24.csv\""
   ]
  },
  {
   "cell_type": "code",
   "execution_count": 32,
   "id": "b53e4b9b-a0a4-4867-8b48-456cf8fe9436",
   "metadata": {},
   "outputs": [],
   "source": [
    "base_model = \"custom-finetuned_mistral-7b-instruct-v02-24\"\n",
    "tokenizer_model = \"./mistral-7b-instruct-v02\""
   ]
  },
  {
   "cell_type": "code",
   "execution_count": 33,
   "id": "12e15eaa",
   "metadata": {},
   "outputs": [
    {
     "name": "stdout",
     "output_type": "stream",
     "text": [
      "True\n",
      "A100-SXM-80GB\n"
     ]
    }
   ],
   "source": [
    "import torch\n",
    "\n",
    "print(torch.cuda.is_available())\n",
    "\n",
    "for i in range(torch.cuda.device_count()):\n",
    "   print(torch.cuda.get_device_properties(i).name)\n",
    "\n",
    "torch.cuda.empty_cache()\n",
    "\n",
    "torch.backends.cuda.matmul.allow_tf32 = True\n",
    "torch.backends.cudnn.allow_tf32 = True"
   ]
  },
  {
   "cell_type": "code",
   "execution_count": 34,
   "id": "00158451",
   "metadata": {},
   "outputs": [
    {
     "name": "stdout",
     "output_type": "stream",
     "text": [
      "total    : 85198045184\n",
      "free     : 66075164672\n",
      "used     : 19122880512\n"
     ]
    }
   ],
   "source": [
    "from pynvml import *\n",
    "nvmlInit()\n",
    "h = nvmlDeviceGetHandleByIndex(0)\n",
    "info = nvmlDeviceGetMemoryInfo(h)\n",
    "print(f'total    : {info.total}')\n",
    "print(f'free     : {info.free}')\n",
    "print(f'used     : {info.used}')"
   ]
  },
  {
   "cell_type": "code",
   "execution_count": 35,
   "id": "dbe713c6",
   "metadata": {},
   "outputs": [],
   "source": [
    "from transformers import AutoModelForCausalLM, AutoTokenizer, BitsAndBytesConfig,HfArgumentParser,TrainingArguments,pipeline, logging\n",
    "from peft import LoraConfig, PeftModel, prepare_model_for_kbit_training, get_peft_model\n",
    "import os, torch\n",
    "from datasets import load_dataset, load_from_disk\n",
    "from trl import SFTTrainer"
   ]
  },
  {
   "cell_type": "code",
   "execution_count": 36,
   "id": "c80a0707",
   "metadata": {},
   "outputs": [],
   "source": [
    "device = 'cuda'"
   ]
  },
  {
   "cell_type": "code",
   "execution_count": 37,
   "id": "73ee60ce",
   "metadata": {
    "scrolled": true
   },
   "outputs": [
    {
     "data": {
      "application/vnd.jupyter.widget-view+json": {
       "model_id": "daf27243e665462493f2cbc8570a34d0",
       "version_major": 2,
       "version_minor": 0
      },
      "text/plain": [
       "Loading checkpoint shards:   0%|          | 0/3 [00:00<?, ?it/s]"
      ]
     },
     "metadata": {},
     "output_type": "display_data"
    }
   ],
   "source": [
    "model = AutoModelForCausalLM.from_pretrained(\n",
    "        base_model,\n",
    "        torch_dtype=torch.bfloat16,\n",
    "        device_map=\"cuda\",\n",
    "        trust_remote_code=True,\n",
    ")\n",
    "\n",
    "model.config.use_cache = False\n",
    "model.config.pretraining_tp = 1\n",
    "model.gradient_checkpointing_enable()\n",
    "\n",
    "tokenizer = AutoTokenizer.from_pretrained(tokenizer_model, trust_remote_code=True)\n",
    "tokenizer.padding_side = 'right'\n",
    "tokenizer.pad_token = tokenizer.unk_token\n",
    "tokenizer.add_eos_token = False\n",
    "tokenizer.add_bos_token = False\n",
    "tokenizer.max_length = 8000\n",
    "tokenizer.truncation = True"
   ]
  },
  {
   "cell_type": "code",
   "execution_count": 38,
   "id": "86fd4027",
   "metadata": {},
   "outputs": [
    {
     "data": {
      "text/plain": [
       "MistralForCausalLM(\n",
       "  (model): MistralModel(\n",
       "    (embed_tokens): Embedding(32000, 4096)\n",
       "    (layers): ModuleList(\n",
       "      (0-31): 32 x MistralDecoderLayer(\n",
       "        (self_attn): MistralSdpaAttention(\n",
       "          (q_proj): lora.Linear(\n",
       "            (base_layer): Linear(in_features=4096, out_features=4096, bias=False)\n",
       "            (lora_dropout): ModuleDict(\n",
       "              (default): Dropout(p=0.1, inplace=False)\n",
       "            )\n",
       "            (lora_A): ModuleDict(\n",
       "              (default): Linear(in_features=4096, out_features=64, bias=False)\n",
       "            )\n",
       "            (lora_B): ModuleDict(\n",
       "              (default): Linear(in_features=64, out_features=4096, bias=False)\n",
       "            )\n",
       "            (lora_embedding_A): ParameterDict()\n",
       "            (lora_embedding_B): ParameterDict()\n",
       "          )\n",
       "          (k_proj): lora.Linear(\n",
       "            (base_layer): Linear(in_features=4096, out_features=1024, bias=False)\n",
       "            (lora_dropout): ModuleDict(\n",
       "              (default): Dropout(p=0.1, inplace=False)\n",
       "            )\n",
       "            (lora_A): ModuleDict(\n",
       "              (default): Linear(in_features=4096, out_features=64, bias=False)\n",
       "            )\n",
       "            (lora_B): ModuleDict(\n",
       "              (default): Linear(in_features=64, out_features=1024, bias=False)\n",
       "            )\n",
       "            (lora_embedding_A): ParameterDict()\n",
       "            (lora_embedding_B): ParameterDict()\n",
       "          )\n",
       "          (v_proj): lora.Linear(\n",
       "            (base_layer): Linear(in_features=4096, out_features=1024, bias=False)\n",
       "            (lora_dropout): ModuleDict(\n",
       "              (default): Dropout(p=0.1, inplace=False)\n",
       "            )\n",
       "            (lora_A): ModuleDict(\n",
       "              (default): Linear(in_features=4096, out_features=64, bias=False)\n",
       "            )\n",
       "            (lora_B): ModuleDict(\n",
       "              (default): Linear(in_features=64, out_features=1024, bias=False)\n",
       "            )\n",
       "            (lora_embedding_A): ParameterDict()\n",
       "            (lora_embedding_B): ParameterDict()\n",
       "          )\n",
       "          (o_proj): lora.Linear(\n",
       "            (base_layer): Linear(in_features=4096, out_features=4096, bias=False)\n",
       "            (lora_dropout): ModuleDict(\n",
       "              (default): Dropout(p=0.1, inplace=False)\n",
       "            )\n",
       "            (lora_A): ModuleDict(\n",
       "              (default): Linear(in_features=4096, out_features=64, bias=False)\n",
       "            )\n",
       "            (lora_B): ModuleDict(\n",
       "              (default): Linear(in_features=64, out_features=4096, bias=False)\n",
       "            )\n",
       "            (lora_embedding_A): ParameterDict()\n",
       "            (lora_embedding_B): ParameterDict()\n",
       "          )\n",
       "          (rotary_emb): MistralRotaryEmbedding()\n",
       "        )\n",
       "        (mlp): MistralMLP(\n",
       "          (gate_proj): lora.Linear(\n",
       "            (base_layer): Linear(in_features=4096, out_features=14336, bias=False)\n",
       "            (lora_dropout): ModuleDict(\n",
       "              (default): Dropout(p=0.1, inplace=False)\n",
       "            )\n",
       "            (lora_A): ModuleDict(\n",
       "              (default): Linear(in_features=4096, out_features=64, bias=False)\n",
       "            )\n",
       "            (lora_B): ModuleDict(\n",
       "              (default): Linear(in_features=64, out_features=14336, bias=False)\n",
       "            )\n",
       "            (lora_embedding_A): ParameterDict()\n",
       "            (lora_embedding_B): ParameterDict()\n",
       "          )\n",
       "          (up_proj): lora.Linear(\n",
       "            (base_layer): Linear(in_features=4096, out_features=14336, bias=False)\n",
       "            (lora_dropout): ModuleDict(\n",
       "              (default): Dropout(p=0.1, inplace=False)\n",
       "            )\n",
       "            (lora_A): ModuleDict(\n",
       "              (default): Linear(in_features=4096, out_features=64, bias=False)\n",
       "            )\n",
       "            (lora_B): ModuleDict(\n",
       "              (default): Linear(in_features=64, out_features=14336, bias=False)\n",
       "            )\n",
       "            (lora_embedding_A): ParameterDict()\n",
       "            (lora_embedding_B): ParameterDict()\n",
       "          )\n",
       "          (down_proj): lora.Linear(\n",
       "            (base_layer): Linear(in_features=14336, out_features=4096, bias=False)\n",
       "            (lora_dropout): ModuleDict(\n",
       "              (default): Dropout(p=0.1, inplace=False)\n",
       "            )\n",
       "            (lora_A): ModuleDict(\n",
       "              (default): Linear(in_features=14336, out_features=64, bias=False)\n",
       "            )\n",
       "            (lora_B): ModuleDict(\n",
       "              (default): Linear(in_features=64, out_features=4096, bias=False)\n",
       "            )\n",
       "            (lora_embedding_A): ParameterDict()\n",
       "            (lora_embedding_B): ParameterDict()\n",
       "          )\n",
       "          (act_fn): SiLU()\n",
       "        )\n",
       "        (input_layernorm): MistralRMSNorm()\n",
       "        (post_attention_layernorm): MistralRMSNorm()\n",
       "      )\n",
       "    )\n",
       "    (norm): MistralRMSNorm()\n",
       "  )\n",
       "  (lm_head): Linear(in_features=4096, out_features=32000, bias=False)\n",
       ")"
      ]
     },
     "execution_count": 38,
     "metadata": {},
     "output_type": "execute_result"
    }
   ],
   "source": [
    "model.config.use_cache = True\n",
    "model.eval()"
   ]
  },
  {
   "cell_type": "code",
   "execution_count": 39,
   "id": "3ac24b2d-d0c1-47da-bff3-209cf1e4d168",
   "metadata": {},
   "outputs": [],
   "source": [
    "sys_prompt_implicit = \"\"\"\n",
    "\n",
    "You are a smart home IOT agent.\n",
    "You will be given a user command enclosed within @@@ Task @@@.\n",
    "\n",
    "You have to generate step by step execution plan for the given user command in json format enclosed between !!!:\n",
    "!!!\n",
    "%%%%%%%\n",
    "{\n",
    "\n",
    "    \"tool_calls\": [\n",
    "        {\n",
    "            \"function_name\": \"function 1\",\n",
    "            \"arguments\": \n",
    "                {\n",
    "                    \"argument_name 1\": \"argument value\"\n",
    "                }\n",
    "         },\n",
    "         {\n",
    "            \"function_name\": \"function 2\",\n",
    "            \"arguments\": \n",
    "                {\n",
    "                    \"argument_name 1\": \"argument value\",\n",
    "                    \"argument_name 2\": \"argument value\"\n",
    "                }\n",
    "        }\n",
    "    ]\n",
    "}\n",
    "%%%%%%%\n",
    "!!!\n",
    "Keywords are defined as below:\n",
    "\n",
    "tool_calls: List of tool call objects, where each tool call object contains:  \n",
    "    - function_name: It is name of single execution step for the complete plan. (e.g., identify_device, powerSwitch_getStatus, etc.) Plan can have 1 or more functions in response.\n",
    "    - arguments: Dictionary of arguments for the function_name, which are required for execution of the function. (e.g., device, location, application, title, etc.)\n",
    "\n",
    "Use homecontext to understand the devices, and only consider devices mentioned in the homecontext data. Do not generate prediction for irrelavant devices.\n",
    "\n",
    "Do not add any superfluous steps. Make sure that each step has all the information needed - do not skip steps.\n",
    "If it is impossible to generate step by step plan, reply empty list of function. Ensure to enclose the output with \"%%%%%%%\" after generating with the json format. Do not generate anything after the second %%%%%%%.\n",
    "\n",
    "\n",
    "\n",
    "\"\"\""
   ]
  },
  {
   "cell_type": "code",
   "execution_count": 40,
   "id": "0b54794d-40da-4877-add9-c7683f22f328",
   "metadata": {},
   "outputs": [],
   "source": [
    "import json\n",
    "def display(s):\n",
    "    t = json.loads(s)\n",
    "    t2 = json.dumps(t,indent=4)\n",
    "    print(t2)"
   ]
  },
  {
   "cell_type": "code",
   "execution_count": 41,
   "id": "2160549c-014a-4f0f-abe9-67c9e57c7239",
   "metadata": {},
   "outputs": [],
   "source": [
    "# sys_prompt = \"\"\"\n",
    "\n",
    "# You are a smart home IOT agent.\n",
    "# You will be given a user command enclosed within @@@`Task`@@@ .\n",
    "\n",
    "# You have to generate step by step execution plan for the given user command in json format same as `OUTPUT_FORMAT`.\n",
    "# OUTPUT_FORMAT = !!!\n",
    "# %%%%%%%\n",
    "# {\n",
    "\n",
    "#     \"tool_calls\": [\n",
    "#         {\n",
    "#             \"function_name\": \"function 1\",\n",
    "#             \"arguments\": \n",
    "#                 {\n",
    "#                     \"argument_name 1\": \"argument value\"\n",
    "#                 }\n",
    "#          },\n",
    "#          {\n",
    "#             \"function_name\": \"function 2\",\n",
    "#             \"arguments\": \n",
    "#                 {\n",
    "#                     \"argument_name 1\": \"argument value\",\n",
    "#                     \"argument_name 2\": \"argument value\"\n",
    "#                 }\n",
    "#         }\n",
    "#     ]\n",
    "# }\n",
    "# %%%%%%%\n",
    "# !!!\n",
    "\n",
    "# Keywords are defined as below:\n",
    "\n",
    "# tool_calls: List of tool call objects, where each tool call object contains:  \n",
    "#     - function_name: It is name of single execution step for the complete plan. (e.g., identify_device, powerSwitch_getStatus, etc.) Plan can have 1 or more functions in response.\n",
    "#     - arguments: Dictionary of arguments for the function_name, which are required for execution of the function. (e.g., device, location, application, title, etc.)\n",
    "\n",
    "# Steps Followed to Generate tool_calls:\n",
    "\n",
    "# - Refer `TOOLS` provided to get inference based on description of functions to be used and how to refer their arguments.\n",
    "# - Output the tool_calls and response in the length necessary. If the generated output is repeating stop generating.\n",
    "# - Do not add any superfluous steps. Make sure that each step has all the information needed - do not skip steps.\n",
    "# - If it is impossible to generate step by step plan, reply empty list of function. Ensure to enclose the output with \"%%%%%%%\" after generating with the json format.\n",
    "# - Generated the tool_calls enclosed with %%%%%%%.\n",
    "\n",
    "\n",
    "# [Example: @@@Turn on the TV@@@]\n",
    "\n",
    "# OUTPUT=%%%%%%%\n",
    "# {\n",
    "#   \"tool_calls\": [\n",
    "#     {\n",
    "#       \"type\": \"function\",\n",
    "#       \"function\": [\n",
    "#         {\n",
    "#           \"name\": \"identify_device\",\n",
    "#           \"arguments\": \n",
    "#             {\n",
    "#               \"device\": \"TV\"\n",
    "#             }\n",
    "#         },\n",
    "#         {\n",
    "#           \"name\": \"powerSwitch_getStatus\",\n",
    "#           \"arguments\":\n",
    "#             {\n",
    "#               \"device\": \"#E1\"\n",
    "#             }\n",
    "#         },\n",
    "#         {\n",
    "#           \"name\": \"device_turnOn\",\n",
    "#           \"arguments\":\n",
    "#             {\n",
    "#               \"device\": \"#E1\"\n",
    "#             }\n",
    "#         }\n",
    "#       ]\n",
    "#     }\n",
    "#   ]\n",
    "# }\n",
    "# %%%%%%%\n",
    "\n",
    "# #### RESPONSE #### I have turned on the TV.\n",
    "\n",
    "# %%%%%%%\n",
    "\n",
    "# \"\"\""
   ]
  },
  {
   "cell_type": "code",
   "execution_count": 42,
   "id": "2044b705-c1cd-4801-9b06-2003a30a6779",
   "metadata": {},
   "outputs": [],
   "source": [
    "# user_query = \"\"\"Set the light brightness to 50%\"\"\"\n",
    "# logging.set_verbosity(logging.CRITICAL)\n",
    "\n",
    "# prompt = sys_prompt + \"\"\"@@@ \"\"\" + user_query + \"@@@\" + \"\"\n",
    "# pipe = pipeline(task=\"text-generation\", model=model, tokenizer=tokenizer, max_length=4000)\n",
    "# result = pipe(f\"<s>[INST] {prompt} [/INST]\")\n",
    "# display(result[0]['generated_text'].split('%%%%%%%')[8])"
   ]
  },
  {
   "cell_type": "code",
   "execution_count": 43,
   "id": "b47c6d92-f52c-4bd3-9b49-c47f59fb816b",
   "metadata": {},
   "outputs": [],
   "source": [
    "def model_predict(utt, prompt, index, max_token_size):\n",
    "    user_query = f\"\"\"{utt}\"\"\"\n",
    "    logging.set_verbosity(logging.CRITICAL)\n",
    "\n",
    "    prompt = prompt + \"\"\"@@@ \"\"\" + user_query + \"@@@\" + \"\"\n",
    "    pipe = pipeline(task=\"text-generation\", model=model, tokenizer=tokenizer, max_length=max_token_size)\n",
    "    result = pipe(f\"<s>[INST] {prompt} [/INST]\")\n",
    "#     display(result[0]['generated_text'].split('%%%%%%%')[index])\n",
    "    return json.loads(result[0]['generated_text'].split('%%%%%%%')[index])"
   ]
  },
  {
   "cell_type": "code",
   "execution_count": 44,
   "id": "3f49c596-028c-402a-8483-3624ed00e546",
   "metadata": {},
   "outputs": [
    {
     "data": {
      "text/plain": [
       "{'type': 'function',\n",
       " 'function': [{'name': 'identify_device', 'arguments': {'device': 'light'}},\n",
       "  {'name': 'powerSwitch_getStatus', 'arguments': {'device': '#E1'}},\n",
       "  {'name': 'device_turnOn', 'arguments': {'device': '#E1'}},\n",
       "  {'name': 'brightness_setValue',\n",
       "   'arguments': {'device': '#E1', 'brightness': '50'}}]}"
      ]
     },
     "execution_count": 44,
     "metadata": {},
     "output_type": "execute_result"
    }
   ],
   "source": [
    "model_predict(\"Set the light brightness to 50%\", main_prompt, index, max_token_size)"
   ]
  },
  {
   "cell_type": "code",
   "execution_count": 45,
   "id": "52d44761-bc9b-44b8-948e-ef93654710a6",
   "metadata": {},
   "outputs": [],
   "source": [
    "user_query = \"Set the light brightness to 50%\"\n",
    "logging.set_verbosity(logging.CRITICAL)\n",
    "prompt = sys_prompt + \"\"\"@@@ \"\"\" + user_query + \"@@@\"\n",
    "pipe = pipeline(task=\"text-generation\", model=model, tokenizer=tokenizer, max_length=4000)\n",
    "result = pipe(f\"<s>[INST] {prompt} [/INST]\")\n",
    "# display(result[0]['generated_text'].split('%%%%%%%')[5])"
   ]
  },
  {
   "cell_type": "code",
   "execution_count": 46,
   "id": "98cf8e4d-0a98-4f0b-a15d-ab36d320bdd4",
   "metadata": {},
   "outputs": [
    {
     "name": "stdout",
     "output_type": "stream",
     "text": [
      "<s>[INST] \n",
      "\n",
      "You are a smart home IOT agent.\n",
      "You will be given a user command enclosed within @@@ Task @@@.\n",
      "\n",
      "You have to generate step by step execution plan for the given user command in json format enclosed between !!!:\n",
      "!!!\n",
      "%%%%%%%\n",
      "{\n",
      "\n",
      "    \"tool_calls\": [\n",
      "        {\n",
      "            \"function_name\": \"function 1\",\n",
      "            \"arguments\": \n",
      "                {\n",
      "                    \"argument_name 1\": \"argument value\"\n",
      "                }\n",
      "         },\n",
      "         {\n",
      "            \"function_name\": \"function 2\",\n",
      "            \"arguments\": \n",
      "                {\n",
      "                    \"argument_name 1\": \"argument value\",\n",
      "                    \"argument_name 2\": \"argument value\"\n",
      "                }\n",
      "        }\n",
      "    ]\n",
      "}\n",
      "%%%%%%%\n",
      "!!!\n",
      "Keywords are defined as below:\n",
      "\n",
      "tool_calls: List of tool call objects, where each tool call object contains:  \n",
      "    - function_name: It is name of single execution step for the complete plan. (e.g., identify_device, powerSwitch_getStatus, etc.) Plan can have 1 or more functions in response.\n",
      "    - arguments: Dictionary of arguments for the function_name, which are required for execution of the function. (e.g., device, location, application, title, etc.)\n",
      "\n",
      "Do not add any superfluous steps. Make sure that each step has all the information needed - do not skip steps.\n",
      "If it is impossible to generate step by step plan, reply empty list of function. Ensure to enclose the output with \"%%%%%%%\" after generating with the json format. Do not generate anything after the second %%%%%%%.\n",
      "\n",
      "\n",
      "\n",
      "@@@ Set the light brightness to 50%@@@ [/INST] %%%%%%% {\"type\": \"object\", \"properties\": {\"location\": {\"type\": \"string\", \"description\": \"The location where the device which needs brightness setting is located.\"}, \"room\": {\"type\": \"string\", \"description\": \"The room where the device which needs brightness setting is located.\"}, \"device\": {\"type\": \"string\", \"description\": \"The name or type of the device on which the brightness needs to be increased.\"}, \"brightness\": {\"type\": \"integer\", \"description\": \"The amount by which the brightness needs to be set on the device.\"}}, \"required\": []}}]} %%%%%%% \n"
     ]
    }
   ],
   "source": [
    "print(result[0]['generated_text'])"
   ]
  },
  {
   "cell_type": "code",
   "execution_count": 47,
   "id": "adbbdd33-e54e-48ab-aa2f-1d253385744b",
   "metadata": {},
   "outputs": [],
   "source": [
    "import re\n",
    "\n",
    "def get_utt_slot(data):\n",
    "    slots = {}\n",
    "    pattern = re.compile(\"(\\(([^\\)]*)\\) *\\[([^\\)]*)\\])\")\n",
    "    tag_extracted_nl = pattern.sub(r\"\\g<2>\", data)  # .lower()\n",
    "    matched_slots = pattern.finditer(data)\n",
    "    for matched_slot in matched_slots:\n",
    "        _, raw_slot, tags = matched_slot.groups()\n",
    "        slots[tags] = raw_slot\n",
    "    return tag_extracted_nl, slots"
   ]
  },
  {
   "cell_type": "code",
   "execution_count": 48,
   "id": "2f15ea7f-d8bf-46f0-99ff-ba9b37b01074",
   "metadata": {},
   "outputs": [],
   "source": [
    "def get_intent_slots(result):\n",
    "    slots = {}\n",
    "    vi = result['function'][-1]['name'].replace('_', '-')\n",
    "    for key, value in result['function'][-1]['arguments'].items():\n",
    "        if isinstance(value, str) and '#E' in value:\n",
    "            idx = int(value.replace('#E', '')) - 1\n",
    "            slots[key] = str(result['function'][idx]['arguments'][key])\n",
    "        else:\n",
    "            slots[key] = str(value)\n",
    "    print(\"vi:\", vi, \"slots:\", slots)\n",
    "    return vi, slots"
   ]
  },
  {
   "cell_type": "code",
   "execution_count": 49,
   "id": "a8a9ed9d-f086-44f6-a0b9-1e78cd3a489d",
   "metadata": {},
   "outputs": [
    {
     "name": "stdout",
     "output_type": "stream",
     "text": [
      "vi: brightness-increase slots: {'device': 'light', 'brightness': '50'}\n",
      "('brightness-increase', {'device': 'light', 'brightness': '50'})\n"
     ]
    }
   ],
   "source": [
    "res = {\n",
    "    \"type\": \"function\",\n",
    "    \"function\": [\n",
    "        {\n",
    "            \"name\": \"identify-device\",\n",
    "            \"arguments\": {\n",
    "                \"device\": \"light\"\n",
    "            }\n",
    "        },\n",
    "        {\n",
    "            \"name\": \"brightness-increase\",\n",
    "            \"arguments\": {\n",
    "                \"device\": \"#E1\",\n",
    "                \"brightness\": 50\n",
    "            }\n",
    "        }\n",
    "    ]\n",
    "}\n",
    "\n",
    "print(get_intent_slots(res))"
   ]
  },
  {
   "cell_type": "code",
   "execution_count": 50,
   "id": "533c3967-c796-4a41-a97a-89d876ce1b9f",
   "metadata": {},
   "outputs": [],
   "source": [
    "def evaluate_result(result, slots, intent):\n",
    "    pred_vi, pred_slots = get_intent_slots(result)\n",
    "    vi_result = pred_vi == intent\n",
    "    if(vi_result == False):\n",
    "        print(f\"[VI] Predicted {pred_vi}, Actual {intent}\")\n",
    "    \n",
    "    pred_slots, slots = json.dumps(pred_slots, sort_keys=True), json.dumps(slots, sort_keys=True)\n",
    "    slot_result = pred_slots == slots\n",
    "    \n",
    "    if(slot_result == False):\n",
    "        print(f\"[SLOTS] Predicted {pred_slots}, \\n Actual{slots}\")\n",
    "    \n",
    "    print(\"VI_success:\", vi_result, \"slot_success:\", slot_result)\n",
    "    \n",
    "    return vi_result, slot_result, pred_vi, intent, pred_slots, slots\n",
    "\n",
    "# data = 'Set the (light)[device] brightness to (50)[brightness] %'\n",
    "# exp_vi = 'brightness-increase'\n",
    "# utt, slots = get_utt_slot(data)\n",
    "# model_predict(utt, sys_prompt, 8, 4000)\n",
    "# print(\"res\", res)\n",
    "# evaluate_result(res, slots, exp_vi)\n",
    "    "
   ]
  },
  {
   "cell_type": "code",
   "execution_count": 51,
   "id": "95219ebf-d4e8-4915-ba6d-00be5d75affb",
   "metadata": {},
   "outputs": [],
   "source": [
    "import os\n",
    "import json\n",
    "\n",
    "def read_and_extract_params_from_json_files(directory_path):\n",
    "    # List to store the extracted parameters\n",
    "    params_list = []\n",
    "\n",
    "    # Get a list of all files in the directory\n",
    "    files = os.listdir(directory_path)\n",
    "\n",
    "    # Iterate through the list of files\n",
    "    for file_name in files:\n",
    "        # Check if the file has a .json extension\n",
    "        if os.path.splitext(file_name)[1] == '.json':\n",
    "            # Construct the full file path\n",
    "            file_path = os.path.join(directory_path, file_name)\n",
    "            \n",
    "            # Open the JSON file and load its contents\n",
    "            with open(file_path, 'r') as file:\n",
    "                json_data = json.load(file)\n",
    "                \n",
    "                # Extract the required parameters\n",
    "                aligned_nl = json_data.get('utterance', '')\n",
    "                voice_intent = json_data.get('voiceIntent', '')\n",
    "                utterance, slots = get_utt_slot(aligned_nl)\n",
    "                \n",
    "                # Store the extracted parameters in a dictionary\n",
    "                params_dict = {'utterance': utterance, 'slots': slots, 'voiceIntent': voice_intent}\n",
    "                \n",
    "                # Add the dictionary to the list\n",
    "                params_list.append(params_dict)\n",
    "    \n",
    "    return params_list\n",
    "\n",
    "\n",
    "# for params in all_params:\n",
    "#     print(params)"
   ]
  },
  {
   "cell_type": "code",
   "execution_count": 52,
   "id": "4a79eeae-148c-4d05-8b5e-753858f0ac94",
   "metadata": {},
   "outputs": [],
   "source": [
    "import signal\n",
    "import time\n",
    "import json\n",
    "import csv\n",
    "from tqdm import tqdm\n",
    "\n",
    "def timeout_function():\n",
    "    raise TimeoutError(\"Function timed out\")\n",
    "\n",
    "\n",
    "\n",
    "#  Evaluate the performance of the model\n",
    "def evaluate_model_performance(testCaseDir, csvFile):\n",
    "    directory_path = 'tcs//'\n",
    "    testCaseParams = read_and_extract_params_from_json_files(testCaseDir)\n",
    "    \n",
    "    if not os.path.isfile(os.path.join('ModelPerformanceEvaluation', csvFile)):\n",
    "        # Create a new empty CSV file\n",
    "        with open(os.path.join('ModelPerformanceEvaluation', csvFile), 'w', newline='') as csvfile:\n",
    "            writer = csv.writer(csvfile)\n",
    "            writer.writerow([])  # Write an empty row to create the CSV structure\n",
    "        print(f\"Created new CSV file: {csvFile}\")\n",
    "    else:\n",
    "        print(f\"CSV file already exists: {csvFile}\")\n",
    "    \n",
    "    with open(os.path.join('ModelPerformanceEvaluation', csvFile), mode='w', newline='') as csv_file:\n",
    "        fieldnames = ['utterance', 'Pred_vi', 'Actual_vi', 'Pred_slots', 'Actual_slots', 'vi_result', 'slot_result', 'overall_success']\n",
    "        writer = csv.DictWriter(csv_file, fieldnames=fieldnames)\n",
    "        writer.writeheader()\n",
    "              \n",
    "        overall_success_count = 0\n",
    "        vi_success_count = 0\n",
    "        slot_success_count = 0\n",
    "        total_cases = len(testCaseParams)\n",
    "        skip = 0\n",
    "        \n",
    "        # Create a progress bar object with elapsed time and ETA\n",
    "        progress_bar = tqdm(total=total_cases, ncols=80, leave=True, mininterval=0.5, unit='it', unit_scale=True)\n",
    "\n",
    "        # Loop through the range of iterations\n",
    "        start_time = time.time()  # Record the start time\n",
    "        for param in testCaseParams:\n",
    "            model_pred_result = None\n",
    "            skip_bool = False\n",
    "            try:\n",
    "                signal.signal(signal.SIGALRM, timeout_function)\n",
    "                signal.alarm(10)  # Set alarm for 10 seconds\n",
    "            #     function to run\n",
    "                model_pred_result = model_predict(param['utterance'], main_prompt, index, max_token_size)\n",
    "                signal.alarm(0)  # Cancel the alarm if the function finishes within 10 seconds\n",
    "            except TimeoutError:\n",
    "                timout_function()\n",
    "                skip+=1\n",
    "                skip_bool = True\n",
    "            except Exception:\n",
    "                print(\"Error\")\n",
    "                skip+=1\n",
    "                skip_bool = True\n",
    "\n",
    "            if(model_pred_result == None): continue\n",
    "\n",
    "    #       Evaluate model performance\n",
    "#             print(model_pred_result)\n",
    "            vi_result = False\n",
    "            slot_result = False\n",
    "            try:\n",
    "                vi_result, slot_result, pred_vi, actual_vi, pred_slots, actual_slots = evaluate_result(model_pred_result, param['slots'], param['voiceIntent'])\n",
    "            except:\n",
    "                print(f\"Utterance could not be classified: {param['utterance']}\")\n",
    "\n",
    "            overall_success = vi_result and slot_result\n",
    "            overall_success_count += int(overall_success)\n",
    "            vi_success_count += int(vi_result)\n",
    "            slot_success_count += int(slot_result)\n",
    "            \n",
    "            if(skip_bool):\n",
    "                vi_result = None\n",
    "                slot_result = None\n",
    "                overall_success = None\n",
    "\n",
    "            writer.writerow({\n",
    "                'utterance': param['utterance'],\n",
    "                'Pred_vi': pred_vi,\n",
    "                'Actual_vi': actual_vi,\n",
    "                'Pred_slots': pred_slots,\n",
    "                'Actual_slots': actual_slots,\n",
    "                'vi_result': vi_result,\n",
    "                'slot_result': slot_result,\n",
    "                'overall_success': overall_success\n",
    "            })\n",
    "            # Calculate the elapsed time\n",
    "            elapsed_time = time.time() - start_time\n",
    "\n",
    "            # Calculate the ETA\n",
    "            remaining_time = (total_iterations - i) * (elapsed_time / (i + 1))\n",
    "            eta = time.strftime('%H:%M:%S', time.gmtime(remaining_time))\n",
    "\n",
    "            # Update the progress bar with elapsed time and ETA\n",
    "            progress_bar.set_description(f'Elapsed Time: {elapsed_time:.2f}s | ETA: {eta}')\n",
    "            progress_bar.update(1)\n",
    "\n",
    "\n",
    "\n",
    "    success_rate = (overall_success_count * 100) / (total_cases - skip)\n",
    "    vi_success_rate = (vi_success_count * 100) / (total_cases - skip)\n",
    "    slot_success_rate = (slot_success_count * 100)/ (total_cases - skip)\n",
    "    print(f\"Overall Success Rate: {success_rate:.2f}%\")\n",
    "    print(f\"VI Success Rate: {vi_success_rate:.2f}%\")\n",
    "    print(f\"Slot Success Rate: {slot_success_rate:.2f}%\")\n",
    "    print(f\"Test cases not classified: {skip}\")\n",
    "\n",
    "    # Close the progress bar\n",
    "    progress_bar.close()"
   ]
  },
  {
   "cell_type": "code",
   "execution_count": 53,
   "id": "e8b3f388-9074-4699-8cfc-34b31cee48bb",
   "metadata": {},
   "outputs": [
    {
     "name": "stdout",
     "output_type": "stream",
     "text": [
      "CSV file already exists: results_version_24.csv\n"
     ]
    },
    {
     "name": "stderr",
     "output_type": "stream",
     "text": [
      "Elapsed Time: 4.01s | ETA: 01:06:46:   0%|    | 1.00/251 [00:04<16:41, 4.01s/it]"
     ]
    },
    {
     "name": "stdout",
     "output_type": "stream",
     "text": [
      "vi: device-turnOff slots: {'device': 'cooktop hood'}\n",
      "VI_success: True slot_success: True\n"
     ]
    },
    {
     "name": "stderr",
     "output_type": "stream",
     "text": [
      "Elapsed Time: 8.01s | ETA: 02:13:25:   1%|    | 2.00/251 [00:08<16:36, 4.00s/it]"
     ]
    },
    {
     "name": "stdout",
     "output_type": "stream",
     "text": [
      "vi: device-turnOff slots: {'device': 'cooktop hood'}\n",
      "VI_success: True slot_success: True\n"
     ]
    },
    {
     "name": "stderr",
     "output_type": "stream",
     "text": [
      "Elapsed Time: 12.08s | ETA: 03:21:18:   1%|   | 3.00/251 [00:12<16:40, 4.03s/it]"
     ]
    },
    {
     "name": "stdout",
     "output_type": "stream",
     "text": [
      "vi: device-turnOff slots: {'device': 'microwave hood'}\n",
      "VI_success: True slot_success: True\n"
     ]
    },
    {
     "name": "stderr",
     "output_type": "stream",
     "text": [
      "Elapsed Time: 16.07s | ETA: 04:27:54:   2%|   | 4.00/251 [00:16<16:32, 4.02s/it]"
     ]
    },
    {
     "name": "stdout",
     "output_type": "stream",
     "text": [
      "vi: device-turnOff slots: {'device': 'mood lighting'}\n",
      "VI_success: True slot_success: True\n"
     ]
    },
    {
     "name": "stderr",
     "output_type": "stream",
     "text": [
      "Elapsed Time: 19.94s | ETA: 05:32:20:   2%|   | 5.00/251 [00:19<16:15, 3.96s/it]"
     ]
    },
    {
     "name": "stdout",
     "output_type": "stream",
     "text": [
      "vi: device-turnOff slots: {'device': 'vent'}\n",
      "[SLOTS] Predicted {\"device\": \"vent\"}, \n",
      " Actual{\"device\": \"vent switch\"}\n",
      "VI_success: True slot_success: False\n"
     ]
    },
    {
     "name": "stderr",
     "output_type": "stream",
     "text": [
      "Elapsed Time: 24.27s | ETA: 06:44:31:   2%|   | 6.00/251 [00:24<16:41, 4.09s/it]"
     ]
    },
    {
     "name": "stdout",
     "output_type": "stream",
     "text": [
      "vi: device-turnOff slots: {'device': 'lighting'}\n",
      "[SLOTS] Predicted {\"device\": \"lighting\"}, \n",
      " Actual{\"device\": \"interior lighting\", \"location\": \"hall\"}\n",
      "VI_success: True slot_success: False\n"
     ]
    },
    {
     "name": "stderr",
     "output_type": "stream",
     "text": [
      "Elapsed Time: 27.34s | ETA: 07:35:40:   3%|   | 7.00/251 [00:27<15:16, 3.76s/it]"
     ]
    },
    {
     "name": "stdout",
     "output_type": "stream",
     "text": [
      "vi: cleaning-stop slots: {'location': 'house', 'room': 'Living Room'}\n",
      "[VI] Predicted cleaning-stop, Actual cleaning-pause\n",
      "[SLOTS] Predicted {\"location\": \"house\", \"room\": \"Living Room\"}, \n",
      " Actual{}\n",
      "VI_success: False slot_success: False\n"
     ]
    },
    {
     "name": "stderr",
     "output_type": "stream",
     "text": [
      "Elapsed Time: 31.34s | ETA: 08:42:19:   3%|   | 8.00/251 [00:31<15:31, 3.83s/it]"
     ]
    },
    {
     "name": "stdout",
     "output_type": "stream",
     "text": [
      "vi: device-turnOff slots: {'device': 'washing machine'}\n",
      "[VI] Predicted device-turnOff, Actual washing-cancel\n",
      "[SLOTS] Predicted {\"device\": \"washing machine\"}, \n",
      " Actual{}\n",
      "VI_success: False slot_success: False\n"
     ]
    },
    {
     "name": "stderr",
     "output_type": "stream",
     "text": [
      "Elapsed Time: 35.33s | ETA: 09:48:51:   4%|   | 9.00/251 [00:35<15:39, 3.88s/it]"
     ]
    },
    {
     "name": "stdout",
     "output_type": "stream",
     "text": [
      "vi: device-turnOff slots: {'device': 'upper washer'}\n",
      "[VI] Predicted device-turnOff, Actual washing-cancel\n",
      "[SLOTS] Predicted {\"device\": \"upper washer\"}, \n",
      " Actual{\"device\": \"washer\", \"predefinedCompartment:upper\": \"upper\"}\n",
      "VI_success: False slot_success: False\n"
     ]
    },
    {
     "name": "stderr",
     "output_type": "stream",
     "text": [
      "Elapsed Time: 39.67s | ETA: 11:01:05:   4%|   | 10.0/251 [00:39<16:09, 4.02s/it]"
     ]
    },
    {
     "name": "stdout",
     "output_type": "stream",
     "text": [
      "vi: device-turnOff slots: {'device': 'washer'}\n",
      "[VI] Predicted device-turnOff, Actual washing-cancel\n",
      "[SLOTS] Predicted {\"device\": \"washer\"}, \n",
      " Actual{\"device\": \"washer\", \"predefinedCompartment:lower\": \"lower\"}\n",
      "VI_success: False slot_success: False\n"
     ]
    },
    {
     "name": "stderr",
     "output_type": "stream",
     "text": [
      "Elapsed Time: 43.80s | ETA: 12:09:57:   4%|▏  | 11.0/251 [00:43<16:13, 4.06s/it]"
     ]
    },
    {
     "name": "stdout",
     "output_type": "stream",
     "text": [
      "vi: device-turnOff slots: {'device': 'shoe dresser'}\n",
      "[VI] Predicted device-turnOff, Actual dressing-cancel\n",
      "VI_success: False slot_success: True\n"
     ]
    },
    {
     "name": "stderr",
     "output_type": "stream",
     "text": [
      "Elapsed Time: 50.85s | ETA: 14:07:27:   5%|▏  | 12.0/251 [00:50<19:46, 4.97s/it]"
     ]
    },
    {
     "name": "stdout",
     "output_type": "stream",
     "text": [
      "vi: volume-setValue slots: {'device': 'projector', 'volume': '40'}\n",
      "[VI] Predicted volume-setValue, Actual volume-increase\n",
      "[SLOTS] Predicted {\"device\": \"projector\", \"volume\": \"40\"}, \n",
      " Actual{\"device\": \"projector\"}\n",
      "VI_success: False slot_success: False\n"
     ]
    },
    {
     "name": "stderr",
     "output_type": "stream",
     "text": [
      "Elapsed Time: 53.91s | ETA: 14:58:32:   5%|▏  | 13.0/251 [00:53<17:24, 4.39s/it]"
     ]
    },
    {
     "name": "stdout",
     "output_type": "stream",
     "text": [
      "vi: volume-increase slots: {'device': 'projector', 'value': '2'}\n",
      "[SLOTS] Predicted {\"device\": \"projector\", \"value\": \"2\"}, \n",
      " Actual{\"device\": \"projector\", \"volume\": \"2\"}\n",
      "VI_success: True slot_success: False\n"
     ]
    },
    {
     "name": "stderr",
     "output_type": "stream",
     "text": [
      "Elapsed Time: 60.89s | ETA: 16:54:51:   6%|▏  | 14.0/251 [01:00<20:25, 5.17s/it]"
     ]
    },
    {
     "name": "stdout",
     "output_type": "stream",
     "text": [
      "vi: volume-setValue slots: {'device': 'monitor', 'volume': '40'}\n",
      "[VI] Predicted volume-setValue, Actual volume-increase\n",
      "[SLOTS] Predicted {\"device\": \"monitor\", \"volume\": \"40\"}, \n",
      " Actual{\"device\": \"monitor\"}\n",
      "VI_success: False slot_success: False\n"
     ]
    },
    {
     "name": "stderr",
     "output_type": "stream",
     "text": [
      "Elapsed Time: 67.81s | ETA: 18:50:13:   6%|▏  | 15.0/251 [01:07<22:25, 5.70s/it]"
     ]
    },
    {
     "name": "stdout",
     "output_type": "stream",
     "text": [
      "vi: volume-setValue slots: {'device': 'monitor', 'volume': '2'}\n",
      "[VI] Predicted volume-setValue, Actual volume-increase\n",
      "VI_success: False slot_success: True\n"
     ]
    },
    {
     "name": "stderr",
     "output_type": "stream",
     "text": [
      "Elapsed Time: 75.22s | ETA: 20:53:39:   6%|▏  | 16.0/251 [01:15<24:20, 6.21s/it]"
     ]
    },
    {
     "name": "stdout",
     "output_type": "stream",
     "text": [
      "vi: deviceTemperatureSetting-setValue slots: {'device': 'air conditioner', 'temperature': '20'}\n",
      "[VI] Predicted deviceTemperatureSetting-setValue, Actual deviceTemperatureSetting-increase\n",
      "[SLOTS] Predicted {\"device\": \"air conditioner\", \"temperature\": \"20\"}, \n",
      " Actual{\"device\": \"air conditioner\"}\n",
      "VI_success: False slot_success: False\n"
     ]
    },
    {
     "name": "stderr",
     "output_type": "stream",
     "text": [
      "Elapsed Time: 82.22s | ETA: 22:50:19:   7%|▏  | 17.0/251 [01:22<25:09, 6.45s/it]"
     ]
    },
    {
     "name": "stdout",
     "output_type": "stream",
     "text": [
      "vi: volume-setValue slots: {'device': 'TV', 'volume': '40'}\n",
      "[VI] Predicted volume-setValue, Actual volume-increase\n",
      "[SLOTS] Predicted {\"device\": \"TV\", \"volume\": \"40\"}, \n",
      " Actual{\"device\": \"TV\"}\n",
      "VI_success: False slot_success: False\n"
     ]
    },
    {
     "name": "stderr",
     "output_type": "stream",
     "text": [
      "Elapsed Time: 89.14s | ETA: 00:45:37:   7%|▏  | 18.0/251 [01:29<25:35, 6.59s/it]"
     ]
    },
    {
     "name": "stdout",
     "output_type": "stream",
     "text": [
      "vi: volume-setValue slots: {'device': 'TV', 'volume': '2'}\n",
      "[VI] Predicted volume-setValue, Actual volume-increase\n",
      "VI_success: False slot_success: True\n"
     ]
    },
    {
     "name": "stderr",
     "output_type": "stream",
     "text": [
      "Elapsed Time: 96.28s | ETA: 02:44:41:   8%|▏  | 19.0/251 [01:36<26:07, 6.76s/it]"
     ]
    },
    {
     "name": "stdout",
     "output_type": "stream",
     "text": [
      "vi: volume-setValue slots: {'device': 'settop box', 'volume': '40'}\n",
      "[VI] Predicted volume-setValue, Actual volume-increase\n",
      "[SLOTS] Predicted {\"device\": \"settop box\", \"volume\": \"40\"}, \n",
      " Actual{\"device\": \"settop box\"}\n",
      "VI_success: False slot_success: False\n"
     ]
    },
    {
     "name": "stderr",
     "output_type": "stream",
     "text": [
      "Elapsed Time: 102.16s | ETA: 04:22:37:   8%|▏ | 20.0/251 [01:42<24:59, 6.49s/it]"
     ]
    },
    {
     "name": "stdout",
     "output_type": "stream",
     "text": [
      "vi: volume-decrease slots: {'device': 'projector', 'volume': '10'}\n",
      "[SLOTS] Predicted {\"device\": \"projector\", \"volume\": \"10\"}, \n",
      " Actual{\"device\": \"projector\"}\n",
      "VI_success: True slot_success: False\n"
     ]
    },
    {
     "name": "stderr",
     "output_type": "stream",
     "text": [
      "Elapsed Time: 107.96s | ETA: 05:59:19:   8%|▏ | 21.0/251 [01:47<24:05, 6.29s/it]"
     ]
    },
    {
     "name": "stdout",
     "output_type": "stream",
     "text": [
      "vi: volume-decrease slots: {'device': 'projector', 'volume': '2'}\n",
      "VI_success: True slot_success: True\n"
     ]
    },
    {
     "name": "stderr",
     "output_type": "stream",
     "text": [
      "Elapsed Time: 113.29s | ETA: 07:28:13:   9%|▏ | 22.0/251 [01:53<22:53, 6.00s/it]"
     ]
    },
    {
     "name": "stdout",
     "output_type": "stream",
     "text": [
      "vi: volume-decrease slots: {'device': 'monitor'}\n",
      "VI_success: True slot_success: True\n"
     ]
    },
    {
     "name": "stderr",
     "output_type": "stream",
     "text": [
      "Elapsed Time: 119.03s | ETA: 09:03:48:   9%|▏ | 23.0/251 [01:59<22:29, 5.92s/it]"
     ]
    },
    {
     "name": "stdout",
     "output_type": "stream",
     "text": [
      "vi: volume-decrease slots: {'device': 'monitor', 'volume': '2'}\n",
      "VI_success: True slot_success: True\n"
     ]
    },
    {
     "name": "stderr",
     "output_type": "stream",
     "text": [
      "Elapsed Time: 126.10s | ETA: 11:01:40:  10%|▏ | 24.0/251 [02:06<23:42, 6.27s/it]"
     ]
    },
    {
     "name": "stdout",
     "output_type": "stream",
     "text": [
      "vi: volume-setValue slots: {'device': 'settop box', 'volume': '2'}\n",
      "[VI] Predicted volume-setValue, Actual volume-increase\n",
      "VI_success: False slot_success: True\n"
     ]
    },
    {
     "name": "stderr",
     "output_type": "stream",
     "text": [
      "Elapsed Time: 132.31s | ETA: 12:45:13:  10%|▏ | 25.0/251 [02:12<23:32, 6.25s/it]"
     ]
    },
    {
     "name": "stdout",
     "output_type": "stream",
     "text": [
      "vi: deviceTemperatureSetting-decrease slots: {'device': 'air conditioner', 'temperature': '10'}\n",
      "[SLOTS] Predicted {\"device\": \"air conditioner\", \"temperature\": \"10\"}, \n",
      " Actual{\"device\": \"air conditioner\"}\n",
      "VI_success: True slot_success: False\n"
     ]
    },
    {
     "name": "stderr",
     "output_type": "stream",
     "text": [
      "Elapsed Time: 138.05s | ETA: 14:20:51:  10%|▏ | 26.0/251 [02:18<22:51, 6.10s/it]"
     ]
    },
    {
     "name": "stdout",
     "output_type": "stream",
     "text": [
      "vi: volume-decrease slots: {'device': 'TV', 'volume': '2'}\n",
      "VI_success: True slot_success: True\n"
     ]
    },
    {
     "name": "stderr",
     "output_type": "stream",
     "text": [
      "Elapsed Time: 143.52s | ETA: 15:52:04:  11%|▏ | 27.0/251 [02:23<22:03, 5.91s/it]"
     ]
    },
    {
     "name": "stdout",
     "output_type": "stream",
     "text": [
      "vi: device-turnDownVolume slots: {'device': 'settop box'}\n",
      "[VI] Predicted device-turnDownVolume, Actual volume-decrease\n",
      "VI_success: False slot_success: True\n"
     ]
    },
    {
     "name": "stderr",
     "output_type": "stream",
     "text": [
      "Elapsed Time: 148.85s | ETA: 17:20:47:  11%|▏ | 28.0/251 [02:28<21:18, 5.73s/it]"
     ]
    },
    {
     "name": "stdout",
     "output_type": "stream",
     "text": [
      "vi: device-turnOff slots: {'device': 'projector'}\n",
      "[VI] Predicted device-turnOff, Actual channel-setPrevious\n",
      "VI_success: False slot_success: True\n"
     ]
    },
    {
     "name": "stderr",
     "output_type": "stream",
     "text": [
      "Elapsed Time: 156.04s | ETA: 19:20:39:  12%|▏ | 29.0/251 [02:36<22:49, 6.17s/it]"
     ]
    },
    {
     "name": "stdout",
     "output_type": "stream",
     "text": [
      "vi: volume-decrease slots: {'device': 'settop box', 'volume': '2'}\n",
      "VI_success: True slot_success: True\n"
     ]
    },
    {
     "name": "stderr",
     "output_type": "stream",
     "text": [
      "Elapsed Time: 163.64s | ETA: 21:27:16:  12%|▏ | 30.0/251 [02:43<24:18, 6.60s/it]"
     ]
    },
    {
     "name": "stdout",
     "output_type": "stream",
     "text": [
      "vi: channel-setByName slots: {'device': 'TV', 'compartment': 'channel', 'name': 'HBO'}\n",
      "[VI] Predicted channel-setByName, Actual channel-setByNumber\n",
      "[SLOTS] Predicted {\"compartment\": \"channel\", \"device\": \"TV\", \"name\": \"HBO\"}, \n",
      " Actual{\"channel\": \"13\", \"device\": \"TV\"}\n",
      "VI_success: False slot_success: False\n"
     ]
    },
    {
     "name": "stderr",
     "output_type": "stream",
     "text": [
      "Elapsed Time: 171.22s | ETA: 23:33:43:  12%|▏ | 31.0/251 [02:51<25:16, 6.90s/it]"
     ]
    },
    {
     "name": "stdout",
     "output_type": "stream",
     "text": [
      "vi: channel-setByName slots: {'device': 'TV', 'compartment': 'tv', 'channel': 'MBC'}\n",
      "[SLOTS] Predicted {\"channel\": \"MBC\", \"compartment\": \"tv\", \"device\": \"TV\"}, \n",
      " Actual{\"channel\": \"MBC\", \"device\": \"TV\"}\n",
      "VI_success: True slot_success: False\n"
     ]
    },
    {
     "name": "stderr",
     "output_type": "stream",
     "text": [
      "Elapsed Time: 178.80s | ETA: 01:39:56:  13%|▎ | 32.0/251 [02:58<25:54, 7.10s/it]"
     ]
    },
    {
     "name": "stdout",
     "output_type": "stream",
     "text": [
      "vi: channel-setByName slots: {'device': 'TV', 'compartment': 'channel', 'name': 'HBO'}\n",
      "[VI] Predicted channel-setByName, Actual channel-setByNumber\n",
      "[SLOTS] Predicted {\"compartment\": \"channel\", \"device\": \"TV\", \"name\": \"HBO\"}, \n",
      " Actual{\"channel\": \"13\", \"device\": \"TV\"}\n",
      "VI_success: False slot_success: False\n"
     ]
    },
    {
     "name": "stderr",
     "output_type": "stream",
     "text": [
      "Elapsed Time: 184.59s | ETA: 03:16:29:  13%|▎ | 33.0/251 [03:04<24:22, 6.71s/it]"
     ]
    },
    {
     "name": "stdout",
     "output_type": "stream",
     "text": [
      "vi: deviceMode-setValue slots: {'device': 'air conditioner', 'mode': 'auto'}\n",
      "[VI] Predicted deviceMode-setValue, Actual airConditioningMode-setValue\n",
      "[SLOTS] Predicted {\"device\": \"air conditioner\", \"mode\": \"auto\"}, \n",
      " Actual{\"device\": \"air conditioner\", \"mode:auto\": \"auto\"}\n",
      "VI_success: False slot_success: False\n"
     ]
    },
    {
     "name": "stderr",
     "output_type": "stream",
     "text": [
      "Elapsed Time: 190.44s | ETA: 04:53:58:  14%|▎ | 34.0/251 [03:10<23:19, 6.45s/it]"
     ]
    },
    {
     "name": "stdout",
     "output_type": "stream",
     "text": [
      "vi: deviceMode-setValue slots: {'device': 'air conditioner', 'mode': 'cool'}\n",
      "[VI] Predicted deviceMode-setValue, Actual airConditioningMode-setValue\n",
      "[SLOTS] Predicted {\"device\": \"air conditioner\", \"mode\": \"cool\"}, \n",
      " Actual{\"device\": \"air conditioner\", \"mode:cool\": \"cool\"}\n",
      "VI_success: False slot_success: False\n"
     ]
    },
    {
     "name": "stderr",
     "output_type": "stream",
     "text": [
      "Elapsed Time: 196.30s | ETA: 06:31:41:  14%|▎ | 35.0/251 [03:16<22:35, 6.27s/it]"
     ]
    },
    {
     "name": "stdout",
     "output_type": "stream",
     "text": [
      "vi: deviceMode-setValue slots: {'device': 'air conditioner', 'mode': 'heat'}\n",
      "[VI] Predicted deviceMode-setValue, Actual airConditioningMode-setValue\n",
      "[SLOTS] Predicted {\"device\": \"air conditioner\", \"mode\": \"heat\"}, \n",
      " Actual{\"device\": \"air conditioner\", \"mode:heat\": \"heat\"}\n",
      "VI_success: False slot_success: False\n"
     ]
    },
    {
     "name": "stderr",
     "output_type": "stream",
     "text": [
      "Elapsed Time: 202.22s | ETA: 08:10:22:  14%|▎ | 36.0/251 [03:22<22:06, 6.17s/it]"
     ]
    },
    {
     "name": "stdout",
     "output_type": "stream",
     "text": [
      "vi: deviceMode-setValue slots: {'device': 'air conditioner', 'mode': 'Ventilation'}\n",
      "[VI] Predicted deviceMode-setValue, Actual airConditioningMode-setValue\n",
      "VI_success: False slot_success: True\n"
     ]
    },
    {
     "name": "stderr",
     "output_type": "stream",
     "text": [
      "Elapsed Time: 207.49s | ETA: 09:38:10:  15%|▎ | 37.0/251 [03:27<21:02, 5.90s/it]"
     ]
    },
    {
     "name": "stdout",
     "output_type": "stream",
     "text": [
      "vi: device-turnOff slots: {'device': 'TV'}\n",
      "[VI] Predicted device-turnOff, Actual volume-decrease\n",
      "VI_success: False slot_success: True\n"
     ]
    },
    {
     "name": "stderr",
     "output_type": "stream",
     "text": [
      "Elapsed Time: 215.16s | ETA: 11:45:55:  15%|▎ | 38.0/251 [03:35<22:49, 6.43s/it]"
     ]
    },
    {
     "name": "stdout",
     "output_type": "stream",
     "text": [
      "vi: channel-setByName slots: {'device': 'projector', 'compartment': 'channel', 'name': '11'}\n",
      "[VI] Predicted channel-setByName, Actual channel-setByNumber\n",
      "[SLOTS] Predicted {\"compartment\": \"channel\", \"device\": \"projector\", \"name\": \"11\"}, \n",
      " Actual{\"channel\": \"11\", \"device\": \"projector\"}\n",
      "VI_success: False slot_success: False\n"
     ]
    },
    {
     "name": "stderr",
     "output_type": "stream",
     "text": [
      "Elapsed Time: 222.75s | ETA: 13:52:31:  16%|▎ | 39.0/251 [03:42<23:57, 6.78s/it]"
     ]
    },
    {
     "name": "stdout",
     "output_type": "stream",
     "text": [
      "vi: channel-setByName slots: {'device': 'TV', 'compartment': 'tv', 'channel': '11'}\n",
      "[VI] Predicted channel-setByName, Actual channel-setByNumber\n",
      "[SLOTS] Predicted {\"channel\": \"11\", \"compartment\": \"tv\", \"device\": \"TV\"}, \n",
      " Actual{\"channel\": \"11\", \"device\": \"TV\"}\n",
      "VI_success: False slot_success: False\n"
     ]
    },
    {
     "name": "stderr",
     "output_type": "stream",
     "text": [
      "Elapsed Time: 230.13s | ETA: 15:55:31:  16%|▎ | 40.0/251 [03:50<24:28, 6.96s/it]"
     ]
    },
    {
     "name": "stdout",
     "output_type": "stream",
     "text": [
      "vi: deviceTemperatureSetting-setValue slots: {'device': 'air conditioner', 'temperature': '22'}\n",
      "VI_success: True slot_success: True\n"
     ]
    },
    {
     "name": "stderr",
     "output_type": "stream",
     "text": [
      "Elapsed Time: 237.86s | ETA: 18:04:15:  16%|▎ | 41.0/251 [03:57<25:09, 7.19s/it]"
     ]
    },
    {
     "name": "stdout",
     "output_type": "stream",
     "text": [
      "vi: channel-setByName slots: {'device': 'settop box', 'compartment': 'tv', 'channel': 'MBC'}\n",
      "[SLOTS] Predicted {\"channel\": \"MBC\", \"compartment\": \"tv\", \"device\": \"settop box\"}, \n",
      " Actual{\"channel\": \"MBC\", \"device\": \"settop box\"}\n",
      "VI_success: True slot_success: False\n"
     ]
    },
    {
     "name": "stderr",
     "output_type": "stream",
     "text": [
      "Elapsed Time: 245.03s | ETA: 20:03:51:  17%|▎ | 42.0/251 [04:05<25:01, 7.18s/it]"
     ]
    },
    {
     "name": "stdout",
     "output_type": "stream",
     "text": [
      "vi: mode-setValue slots: {'device': 'refrigerator', 'mode': 'XXX'}\n",
      "VI_success: True slot_success: True\n"
     ]
    },
    {
     "name": "stderr",
     "output_type": "stream",
     "text": [
      "Elapsed Time: 251.09s | ETA: 21:44:50:  17%|▎ | 43.0/251 [04:11<23:44, 6.85s/it]"
     ]
    },
    {
     "name": "stdout",
     "output_type": "stream",
     "text": [
      "vi: deviceMode-setValue slots: {'device': 'refrigerator', 'mode': '400g'}\n",
      "[VI] Predicted deviceMode-setValue, Actual mode-setValue\n",
      "[SLOTS] Predicted {\"device\": \"refrigerator\", \"mode\": \"400g\"}, \n",
      " Actual{\"device\": \"refrigerator\", \"mode\": \"XXX\"}\n",
      "VI_success: False slot_success: False\n"
     ]
    },
    {
     "name": "stderr",
     "output_type": "stream",
     "text": [
      "Elapsed Time: 254.16s | ETA: 22:36:04:  18%|▎ | 44.0/251 [04:14<19:43, 5.72s/it]"
     ]
    },
    {
     "name": "stdout",
     "output_type": "stream",
     "text": [
      "vi: cooktop-getStatus slots: {'location': 'house', 'device': 'cooktop'}\n",
      "[VI] Predicted cooktop-getStatus, Actual powerSwitch-getStatus\n",
      "[SLOTS] Predicted {\"device\": \"cooktop\", \"location\": \"house\"}, \n",
      " Actual{\"device\": \"cooktop\"}\n",
      "VI_success: False slot_success: False\n"
     ]
    },
    {
     "name": "stderr",
     "output_type": "stream",
     "text": [
      "Elapsed Time: 260.16s | ETA: 00:16:01:  18%|▎ | 45.0/251 [04:20<19:54, 5.80s/it]"
     ]
    },
    {
     "name": "stdout",
     "output_type": "stream",
     "text": [
      "vi: deviceMode-setValue slots: {'device': 'air conditioner', 'mode': 'dehumidification'}\n",
      "[VI] Predicted deviceMode-setValue, Actual airConditioningMode-setValue\n",
      "[SLOTS] Predicted {\"device\": \"air conditioner\", \"mode\": \"dehumidification\"}, \n",
      " Actual{\"device\": \"air conditioner\", \"mode:dry\": \"dehumidification\"}\n",
      "VI_success: False slot_success: False\n"
     ]
    },
    {
     "name": "stderr",
     "output_type": "stream",
     "text": [
      "Elapsed Time: 262.83s | ETA: 01:00:28:  18%|▎ | 46.0/251 [04:22<16:36, 4.86s/it]"
     ]
    },
    {
     "name": "stdout",
     "output_type": "stream",
     "text": [
      "vi: device-turnOn slots: {'device': 'microwave'}\n",
      "[VI] Predicted device-turnOn, Actual powerSwitch-getStatus\n",
      "VI_success: False slot_success: True\n"
     ]
    },
    {
     "name": "stderr",
     "output_type": "stream",
     "text": [
      "Elapsed Time: 268.21s | ETA: 02:30:13:  19%|▎ | 47.0/251 [04:28<17:03, 5.02s/it]"
     ]
    },
    {
     "name": "stdout",
     "output_type": "stream",
     "text": [
      "vi: device-turnOff slots: {'device': 'settop box'}\n",
      "[VI] Predicted device-turnOff, Actual mute-turnOn\n",
      "VI_success: False slot_success: True\n"
     ]
    },
    {
     "name": "stderr",
     "output_type": "stream",
     "text": [
      "Elapsed Time: 275.02s | ETA: 04:23:36:  19%|▍ | 48.0/251 [04:35<18:47, 5.55s/it]"
     ]
    },
    {
     "name": "stdout",
     "output_type": "stream",
     "text": [
      "vi: mute-turnOff slots: {'device': 'settop box'}\n",
      "VI_success: True slot_success: True\n"
     ]
    },
    {
     "name": "stderr",
     "output_type": "stream",
     "text": [
      "Elapsed Time: 280.22s | ETA: 05:50:19:  20%|▍ | 49.0/251 [04:40<18:20, 5.45s/it]"
     ]
    },
    {
     "name": "stdout",
     "output_type": "stream",
     "text": [
      "vi: deviceStatus-get slots: {'device': 'vent'}\n",
      "[VI] Predicted deviceStatus-get, Actual powerSwitch-getStatus\n",
      "VI_success: False slot_success: True\n"
     ]
    },
    {
     "name": "stderr",
     "output_type": "stream",
     "text": [
      "Elapsed Time: 284.09s | ETA: 06:54:46:  20%|▍ | 50.0/251 [04:44<16:39, 4.97s/it]"
     ]
    },
    {
     "name": "stdout",
     "output_type": "stream",
     "text": [
      "vi: device-turnOn slots: {'device': 'vent'}\n",
      "[VI] Predicted device-turnOn, Actual powerSwitch-getStatus\n",
      "VI_success: False slot_success: True\n"
     ]
    },
    {
     "name": "stderr",
     "output_type": "stream",
     "text": [
      "Elapsed Time: 287.96s | ETA: 07:59:16:  20%|▍ | 51.0/251 [04:47<15:28, 4.64s/it]"
     ]
    },
    {
     "name": "stdout",
     "output_type": "stream",
     "text": [
      "vi: device-turnOff slots: {'device': 'monitor'}\n",
      "[VI] Predicted device-turnOff, Actual application-exit\n",
      "VI_success: False slot_success: True\n"
     ]
    },
    {
     "name": "stderr",
     "output_type": "stream",
     "text": [
      "Elapsed Time: 290.56s | ETA: 08:42:42:  21%|▍ | 52.0/251 [04:50<13:22, 4.03s/it]"
     ]
    },
    {
     "name": "stdout",
     "output_type": "stream",
     "text": [
      "vi: device-turnOn slots: {'device': 'projector'}\n",
      "[VI] Predicted device-turnOn, Actual powerSwitch-getStatus\n",
      "VI_success: False slot_success: True\n"
     ]
    },
    {
     "name": "stderr",
     "output_type": "stream",
     "text": [
      "Elapsed Time: 298.22s | ETA: 10:50:16:  21%|▍ | 53.0/251 [04:58<16:53, 5.12s/it]"
     ]
    },
    {
     "name": "stdout",
     "output_type": "stream",
     "text": [
      "vi: channel-setByName slots: {'device': 'projector', 'compartment': 'channel', 'name': 'HBO'}\n",
      "[VI] Predicted channel-setByName, Actual channel-getValue\n",
      "[SLOTS] Predicted {\"compartment\": \"channel\", \"device\": \"projector\", \"name\": \"HBO\"}, \n",
      " Actual{\"device\": \"projector\"}\n",
      "VI_success: False slot_success: False\n"
     ]
    },
    {
     "name": "stderr",
     "output_type": "stream",
     "text": [
      "Elapsed Time: 302.15s | ETA: 11:55:53:  22%|▍ | 54.0/251 [05:02<15:38, 4.76s/it]"
     ]
    },
    {
     "name": "stdout",
     "output_type": "stream",
     "text": [
      "vi: volume-getStatus slots: {'device': 'projector'}\n",
      "[VI] Predicted volume-getStatus, Actual volume-getValue\n",
      "VI_success: False slot_success: True\n"
     ]
    },
    {
     "name": "stderr",
     "output_type": "stream",
     "text": [
      "Elapsed Time: 308.68s | ETA: 13:44:39:  22%|▍ | 55.0/251 [05:08<17:17, 5.29s/it]"
     ]
    },
    {
     "name": "stdout",
     "output_type": "stream",
     "text": [
      "vi: volume-getValue slots: {'device': 'monitor'}\n",
      "VI_success: True slot_success: True\n"
     ]
    },
    {
     "name": "stderr",
     "output_type": "stream",
     "text": [
      "Elapsed Time: 312.61s | ETA: 14:50:13:  22%|▍ | 56.0/251 [05:12<15:52, 4.88s/it]"
     ]
    },
    {
     "name": "stdout",
     "output_type": "stream",
     "text": [
      "vi: device-turnOn slots: {'device': 'washer'}\n",
      "[VI] Predicted device-turnOn, Actual powerSwitch-getStatus\n",
      "VI_success: False slot_success: True\n"
     ]
    },
    {
     "name": "stderr",
     "output_type": "stream",
     "text": [
      "Elapsed Time: 316.68s | ETA: 15:58:03:  23%|▍ | 57.0/251 [05:16<15:00, 4.64s/it]"
     ]
    },
    {
     "name": "stdout",
     "output_type": "stream",
     "text": [
      "vi: get-remaining-time slots: {'device': 'washer'}\n",
      "[VI] Predicted get-remaining-time, Actual washing-getRemainingTime\n",
      "VI_success: False slot_success: True\n"
     ]
    },
    {
     "name": "stderr",
     "output_type": "stream",
     "text": [
      "Elapsed Time: 320.55s | ETA: 17:02:30:  23%|▍ | 58.0/251 [05:20<14:10, 4.41s/it]"
     ]
    },
    {
     "name": "stdout",
     "output_type": "stream",
     "text": [
      "vi: device-turnOn slots: {'device': 'TV'}\n",
      "[VI] Predicted device-turnOn, Actual channel-setByName\n",
      "[SLOTS] Predicted {\"device\": \"TV\"}, \n",
      " Actual{\"channel\": \"MBC\", \"device\": \"TV\"}\n",
      "VI_success: False slot_success: False\n"
     ]
    },
    {
     "name": "stderr",
     "output_type": "stream",
     "text": [
      "Elapsed Time: 324.47s | ETA: 18:07:53:  24%|▍ | 59.0/251 [05:24<13:38, 4.26s/it]"
     ]
    },
    {
     "name": "stdout",
     "output_type": "stream",
     "text": [
      "vi: device-turnOn slots: {'device': 'washer'}\n",
      "[VI] Predicted device-turnOn, Actual washing-getProgress\n",
      "VI_success: False slot_success: True\n"
     ]
    },
    {
     "name": "stderr",
     "output_type": "stream",
     "text": [
      "Elapsed Time: 332.19s | ETA: 20:16:34:  24%|▍ | 60.0/251 [05:32<16:52, 5.30s/it]"
     ]
    },
    {
     "name": "stdout",
     "output_type": "stream",
     "text": [
      "vi: media-play slots: {'device': 'monitor', 'compartment': 'Youtube', 'title': 'Emma Watson'}\n",
      "[VI] Predicted media-play, Actual application-searchIn\n",
      "[SLOTS] Predicted {\"compartment\": \"Youtube\", \"device\": \"monitor\", \"title\": \"Emma Watson\"}, \n",
      " Actual{\"appname:youtube\": \"Youtube\", \"device\": \"monitor\", \"title\": \"Emma Watson\"}\n",
      "VI_success: False slot_success: False\n"
     ]
    },
    {
     "name": "stderr",
     "output_type": "stream",
     "text": [
      "Elapsed Time: 336.21s | ETA: 21:23:29:  24%|▍ | 61.0/251 [05:36<15:33, 4.91s/it]"
     ]
    },
    {
     "name": "stdout",
     "output_type": "stream",
     "text": [
      "vi: mute-turnOn slots: {'device': 'projector'}\n",
      "VI_success: True slot_success: True\n"
     ]
    },
    {
     "name": "stderr",
     "output_type": "stream",
     "text": [
      "Elapsed Time: 340.15s | ETA: 22:29:11:  25%|▍ | 62.0/251 [05:40<14:33, 4.62s/it]"
     ]
    },
    {
     "name": "stdout",
     "output_type": "stream",
     "text": [
      "vi: mute-turnOn slots: {'device': 'monitor'}\n",
      "VI_success: True slot_success: True\n"
     ]
    },
    {
     "name": "stderr",
     "output_type": "stream",
     "text": [
      "Elapsed Time: 345.40s | ETA: 23:56:43:  25%|▌ | 63.0/251 [05:45<15:04, 4.81s/it]"
     ]
    },
    {
     "name": "stdout",
     "output_type": "stream",
     "text": [
      "vi: device-turnOff slots: {'device': 'TV'}\n",
      "[VI] Predicted device-turnOff, Actual mute-turnOn\n",
      "VI_success: False slot_success: True\n"
     ]
    },
    {
     "name": "stderr",
     "output_type": "stream",
     "text": [
      "Elapsed Time: 352.14s | ETA: 01:48:56:  25%|▌ | 64.0/251 [05:52<16:47, 5.39s/it]"
     ]
    },
    {
     "name": "stdout",
     "output_type": "stream",
     "text": [
      "vi: mute-turnOff slots: {'device': 'projector'}\n",
      "VI_success: True slot_success: True\n"
     ]
    },
    {
     "name": "stderr",
     "output_type": "stream",
     "text": [
      "Elapsed Time: 358.82s | ETA: 03:40:17:  26%|▌ | 65.0/251 [05:58<17:54, 5.78s/it]"
     ]
    },
    {
     "name": "stdout",
     "output_type": "stream",
     "text": [
      "vi: mute-turnOff slots: {'device': 'monitor'}\n",
      "VI_success: True slot_success: True\n"
     ]
    },
    {
     "name": "stderr",
     "output_type": "stream",
     "text": [
      "Elapsed Time: 365.48s | ETA: 05:31:15:  26%|▌ | 66.0/251 [06:05<18:37, 6.04s/it]"
     ]
    },
    {
     "name": "stdout",
     "output_type": "stream",
     "text": [
      "vi: mute-turnOff slots: {'device': 'TV'}\n",
      "VI_success: True slot_success: True\n"
     ]
    },
    {
     "name": "stderr",
     "output_type": "stream",
     "text": [
      "Elapsed Time: 372.54s | ETA: 07:28:56:  27%|▌ | 67.0/251 [06:12<19:27, 6.35s/it]"
     ]
    },
    {
     "name": "stdout",
     "output_type": "stream",
     "text": [
      "vi: cooking-start slots: {'device': 'oven', 'mode': 'bake'}\n",
      "[VI] Predicted cooking-start, Actual cooking-startCourse\n",
      "[SLOTS] Predicted {\"device\": \"oven\", \"mode\": \"bake\"}, \n",
      " Actual{\"device\": \"oven\", \"mode\": \"bake\", \"timer\": \"90 mins\"}\n",
      "VI_success: False slot_success: False\n"
     ]
    },
    {
     "name": "stderr",
     "output_type": "stream",
     "text": [
      "Elapsed Time: 375.15s | ETA: 08:12:28:  27%|▌ | 68.0/251 [06:15<15:56, 5.23s/it]"
     ]
    },
    {
     "name": "stdout",
     "output_type": "stream",
     "text": [
      "vi: device-turnOn slots: {'device': 'projector'}\n",
      "[VI] Predicted device-turnOn, Actual media-play\n",
      "VI_success: False slot_success: True\n"
     ]
    },
    {
     "name": "stderr",
     "output_type": "stream",
     "text": [
      "Elapsed Time: 379.02s | ETA: 09:16:58:  27%|▌ | 69.0/251 [06:19<14:37, 4.82s/it]"
     ]
    },
    {
     "name": "stdout",
     "output_type": "stream",
     "text": [
      "vi: device-turnOn slots: {'device': 'monitor'}\n",
      "[VI] Predicted device-turnOn, Actual media-play\n",
      "VI_success: False slot_success: True\n"
     ]
    },
    {
     "name": "stderr",
     "output_type": "stream",
     "text": [
      "Elapsed Time: 388.09s | ETA: 11:48:06:  28%|▌ | 70.0/251 [06:28<18:23, 6.09s/it]"
     ]
    },
    {
     "name": "stdout",
     "output_type": "stream",
     "text": [
      "vi: oven-setMode slots: {'device': 'oven', 'mode': 'bake'}\n",
      "[VI] Predicted oven-setMode, Actual cooking-startCourse\n",
      "[SLOTS] Predicted {\"device\": \"oven\", \"mode\": \"bake\"}, \n",
      " Actual{\"device\": \"oven\", \"mode\": \"bake\", \"temperature\": \"180\", \"timer\": \"90 mins\"}\n",
      "VI_success: False slot_success: False\n"
     ]
    },
    {
     "name": "stderr",
     "output_type": "stream",
     "text": [
      "Elapsed Time: 392.02s | ETA: 12:53:39:  28%|▌ | 71.0/251 [06:32<16:20, 5.45s/it]"
     ]
    },
    {
     "name": "stdout",
     "output_type": "stream",
     "text": [
      "vi: device-turnOff slots: {'device': 'projector'}\n",
      "[VI] Predicted device-turnOff, Actual application-exit\n",
      "VI_success: False slot_success: True\n"
     ]
    },
    {
     "name": "stderr",
     "output_type": "stream",
     "text": [
      "Elapsed Time: 399.55s | ETA: 14:59:14:  29%|▌ | 72.0/251 [06:39<18:06, 6.07s/it]"
     ]
    },
    {
     "name": "stdout",
     "output_type": "stream",
     "text": [
      "vi: media-play slots: {'device': 'TV', 'appname': 'Netflix', 'title': 'The Office'}\n",
      "[VI] Predicted media-play, Actual application-launch\n",
      "[SLOTS] Predicted {\"appname\": \"Netflix\", \"device\": \"TV\", \"title\": \"The Office\"}, \n",
      " Actual{\"appname:netflix\": \"Netflix\", \"device\": \"TV\"}\n",
      "VI_success: False slot_success: False\n"
     ]
    },
    {
     "name": "stderr",
     "output_type": "stream",
     "text": [
      "Elapsed Time: 407.14s | ETA: 17:05:42:  29%|▌ | 73.0/251 [06:47<19:21, 6.53s/it]"
     ]
    },
    {
     "name": "stdout",
     "output_type": "stream",
     "text": [
      "vi: media-play slots: {'device': 'projector', 'appname': 'Netflix', 'title': 'The Office'}\n",
      "[VI] Predicted media-play, Actual application-launch\n",
      "[SLOTS] Predicted {\"appname\": \"Netflix\", \"device\": \"projector\", \"title\": \"The Office\"}, \n",
      " Actual{\"appname:netflix\": \"Netflix\", \"device\": \"projector\"}\n",
      "VI_success: False slot_success: False\n"
     ]
    },
    {
     "name": "stderr",
     "output_type": "stream",
     "text": [
      "Elapsed Time: 414.27s | ETA: 19:04:30:  29%|▌ | 74.0/251 [06:54<19:47, 6.71s/it]"
     ]
    },
    {
     "name": "stdout",
     "output_type": "stream",
     "text": [
      "vi: media-play slots: {'device': 'projector', 'appname': 'Sports'}\n",
      "[VI] Predicted media-play, Actual application-launch\n",
      "VI_success: False slot_success: True\n"
     ]
    },
    {
     "name": "stderr",
     "output_type": "stream",
     "text": [
      "Elapsed Time: 418.20s | ETA: 20:10:02:  30%|▌ | 75.0/251 [06:58<17:13, 5.87s/it]"
     ]
    },
    {
     "name": "stdout",
     "output_type": "stream",
     "text": [
      "vi: device-turnOn slots: {'device': 'projector'}\n",
      "[VI] Predicted device-turnOn, Actual channel-setByName\n",
      "[SLOTS] Predicted {\"device\": \"projector\"}, \n",
      " Actual{\"channel\": \"MBC\", \"device\": \"projector\"}\n",
      "VI_success: False slot_success: False\n"
     ]
    },
    {
     "name": "stderr",
     "output_type": "stream",
     "text": [
      "Elapsed Time: 426.00s | ETA: 22:20:00:  30%|▌ | 76.0/251 [07:06<18:49, 6.45s/it]"
     ]
    },
    {
     "name": "stdout",
     "output_type": "stream",
     "text": [
      "vi: media-play slots: {'device': 'projector', 'compartment': 'Youtube', 'title': 'Emma Watson'}\n",
      "[VI] Predicted media-play, Actual application-searchIn\n",
      "[SLOTS] Predicted {\"compartment\": \"Youtube\", \"device\": \"projector\", \"title\": \"Emma Watson\"}, \n",
      " Actual{\"appname:youtube\": \"Youtube\", \"device\": \"projector\", \"title\": \"Emma Watson\"}\n",
      "VI_success: False slot_success: False\n"
     ]
    },
    {
     "name": "stderr",
     "output_type": "stream",
     "text": [
      "Elapsed Time: 430.08s | ETA: 23:27:57:  31%|▌ | 77.0/251 [07:10<16:38, 5.74s/it]"
     ]
    },
    {
     "name": "stdout",
     "output_type": "stream",
     "text": [
      "vi: device-turnOn slots: {'device': 'refrigerator'}\n",
      "[VI] Predicted device-turnOn, Actual door-open\n",
      "VI_success: False slot_success: True\n"
     ]
    },
    {
     "name": "stderr",
     "output_type": "stream",
     "text": [
      "Elapsed Time: 437.21s | ETA: 01:26:48:  31%|▌ | 78.0/251 [07:17<17:45, 6.16s/it]"
     ]
    },
    {
     "name": "stdout",
     "output_type": "stream",
     "text": [
      "vi: door-open slots: {'device': 'refrigerator', 'door': 'left'}\n",
      "[SLOTS] Predicted {\"device\": \"refrigerator\", \"door\": \"left\"}, \n",
      " Actual{\"device\": \"refrigerator\"}\n",
      "VI_success: True slot_success: False\n"
     ]
    },
    {
     "name": "stderr",
     "output_type": "stream",
     "text": [
      "Elapsed Time: 444.35s | ETA: 03:25:54:  31%|▋ | 79.0/251 [07:24<18:30, 6.45s/it]"
     ]
    },
    {
     "name": "stdout",
     "output_type": "stream",
     "text": [
      "vi: door-open slots: {'device': 'refrigerator', 'door': 'right'}\n",
      "[SLOTS] Predicted {\"device\": \"refrigerator\", \"door\": \"right\"}, \n",
      " Actual{\"device\": \"refrigerator\", \"predefinedCompartment:right\": \"right side\"}\n",
      "VI_success: True slot_success: False\n"
     ]
    },
    {
     "name": "stderr",
     "output_type": "stream",
     "text": [
      "Elapsed Time: 448.43s | ETA: 04:33:49:  32%|▋ | 80.0/251 [07:28<16:21, 5.74s/it]"
     ]
    },
    {
     "name": "stdout",
     "output_type": "stream",
     "text": [
      "vi: device-turnOff slots: {'device': 'refrigerator'}\n",
      "[VI] Predicted device-turnOff, Actual door-close\n",
      "VI_success: False slot_success: True\n"
     ]
    },
    {
     "name": "stderr",
     "output_type": "stream",
     "text": [
      "Elapsed Time: 453.90s | ETA: 06:05:00:  32%|▋ | 81.0/251 [07:33<16:02, 5.66s/it]"
     ]
    },
    {
     "name": "stdout",
     "output_type": "stream",
     "text": [
      "vi: device-turnOff slots: {'device': 'refrigerator'}\n",
      "[VI] Predicted device-turnOff, Actual door-close\n",
      "[SLOTS] Predicted {\"device\": \"refrigerator\"}, \n",
      " Actual{\"device\": \"refrigerator\", \"predefinedCompartment:right\": \"right side\"}\n",
      "VI_success: False slot_success: False\n"
     ]
    },
    {
     "name": "stderr",
     "output_type": "stream",
     "text": [
      "Elapsed Time: 457.97s | ETA: 07:12:52:  33%|▋ | 82.0/251 [07:37<14:35, 5.18s/it]"
     ]
    },
    {
     "name": "stdout",
     "output_type": "stream",
     "text": [
      "vi: device-getStatus slots: {'device': 'air dresser'}\n",
      "[VI] Predicted device-getStatus, Actual powerSwitch-getStatus\n",
      "VI_success: False slot_success: True\n"
     ]
    },
    {
     "name": "stderr",
     "output_type": "stream",
     "text": [
      "Elapsed Time: 461.91s | ETA: 08:18:26:  33%|▋ | 83.0/251 [07:41<13:27, 4.81s/it]"
     ]
    },
    {
     "name": "stdout",
     "output_type": "stream",
     "text": [
      "vi: device-turnOn slots: {'device': 'RVC'}\n",
      "[VI] Predicted device-turnOn, Actual camera-show\n",
      "[SLOTS] Predicted {\"device\": \"RVC\"}, \n",
      " Actual{\"device\": \"RVC camera\"}\n",
      "VI_success: False slot_success: False\n"
     ]
    },
    {
     "name": "stderr",
     "output_type": "stream",
     "text": [
      "Elapsed Time: 465.84s | ETA: 09:23:57:  33%|▋ | 84.0/251 [07:45<12:39, 4.55s/it]"
     ]
    },
    {
     "name": "stdout",
     "output_type": "stream",
     "text": [
      "vi: device-turnOn slots: {'device': 'projector'}\n",
      "VI_success: True slot_success: True\n"
     ]
    },
    {
     "name": "stderr",
     "output_type": "stream",
     "text": [
      "Elapsed Time: 469.78s | ETA: 10:29:36:  34%|▋ | 85.0/251 [07:49<12:04, 4.36s/it]"
     ]
    },
    {
     "name": "stdout",
     "output_type": "stream",
     "text": [
      "vi: schedule-get slots: {'device': 'air conditioner'}\n",
      "[VI] Predicted schedule-get, Actual mode-getValue\n",
      "VI_success: False slot_success: True\n"
     ]
    },
    {
     "name": "stderr",
     "output_type": "stream",
     "text": [
      "Elapsed Time: 473.65s | ETA: 11:34:06:  34%|▋ | 86.0/251 [07:53<11:35, 4.22s/it]"
     ]
    },
    {
     "name": "stdout",
     "output_type": "stream",
     "text": [
      "vi: device-turnOn slots: {'device': 'light'}\n",
      "[SLOTS] Predicted {\"device\": \"light\"}, \n",
      " Actual{\"condition:ast:sunset\": \"sunset\", \"device\": \"light\"}\n",
      "VI_success: True slot_success: False\n"
     ]
    },
    {
     "name": "stderr",
     "output_type": "stream",
     "text": [
      "Elapsed Time: 477.65s | ETA: 12:40:50:  35%|▋ | 87.0/251 [07:57<11:20, 4.15s/it]"
     ]
    },
    {
     "name": "stdout",
     "output_type": "stream",
     "text": [
      "vi: device-turnOn slots: {'device': 'air conditioner'}\n",
      "[SLOTS] Predicted {\"device\": \"air conditioner\"}, \n",
      " Actual{\"condition:recurrence:daily\": \"everyday\", \"condition:timeExpression\": \"10 o'clock\", \"device\": \"air conditioner\"}\n",
      "VI_success: True slot_success: False\n"
     ]
    },
    {
     "name": "stderr",
     "output_type": "stream",
     "text": [
      "Elapsed Time: 480.32s | ETA: 13:25:20:  35%|▋ | 88.0/251 [08:00<10:04, 3.71s/it]"
     ]
    },
    {
     "name": "stdout",
     "output_type": "stream",
     "text": [
      "vi: device-turnOn slots: {'device': 'living room'}\n",
      "[SLOTS] Predicted {\"device\": \"living room\"}, \n",
      " Actual{\"location\": \"living room\"}\n",
      "VI_success: True slot_success: False\n"
     ]
    },
    {
     "name": "stderr",
     "output_type": "stream",
     "text": [
      "Elapsed Time: 484.72s | ETA: 14:38:40:  35%|▋ | 89.0/251 [08:04<10:34, 3.92s/it]"
     ]
    },
    {
     "name": "stdout",
     "output_type": "stream",
     "text": [
      "vi: device-turnOff slots: {'device': 'TV'}\n",
      "[SLOTS] Predicted {\"device\": \"TV\"}, \n",
      " Actual{}\n",
      "VI_success: True slot_success: False\n"
     ]
    },
    {
     "name": "stderr",
     "output_type": "stream",
     "text": [
      "Elapsed Time: 488.72s | ETA: 15:45:17:  36%|▋ | 90.0/251 [08:08<10:34, 3.94s/it]"
     ]
    },
    {
     "name": "stdout",
     "output_type": "stream",
     "text": [
      "vi: cleaning-start slots: {'device': 'air conditioner'}\n",
      "[VI] Predicted cleaning-start, Actual airConditioningMode-setValue\n",
      "VI_success: False slot_success: True\n"
     ]
    },
    {
     "name": "stderr",
     "output_type": "stream",
     "text": [
      "Elapsed Time: 492.78s | ETA: 16:53:00:  36%|▋ | 91.0/251 [08:12<10:36, 3.98s/it]"
     ]
    },
    {
     "name": "stdout",
     "output_type": "stream",
     "text": [
      "vi: device-turnOff slots: {'device': 'air dresser'}\n",
      "[VI] Predicted device-turnOff, Actual dressing-cancel\n",
      "VI_success: False slot_success: True\n"
     ]
    },
    {
     "name": "stderr",
     "output_type": "stream",
     "text": [
      "Elapsed Time: 495.32s | ETA: 17:35:20:  37%|▋ | 92.0/251 [08:15<09:23, 3.55s/it]"
     ]
    },
    {
     "name": "stdout",
     "output_type": "stream",
     "text": [
      "vi: device-turnOn slots: {'device': 'monitor'}\n",
      "VI_success: True slot_success: True\n"
     ]
    },
    {
     "name": "stderr",
     "output_type": "stream",
     "text": [
      "Elapsed Time: 502.85s | ETA: 19:40:54:  37%|▋ | 93.0/251 [08:22<12:29, 4.74s/it]"
     ]
    },
    {
     "name": "stdout",
     "output_type": "stream",
     "text": [
      "vi: media-play slots: {'device': 'monitor', 'appname': 'Netflix', 'title': 'The Office'}\n",
      "[VI] Predicted media-play, Actual application-launch\n",
      "[SLOTS] Predicted {\"appname\": \"Netflix\", \"device\": \"monitor\", \"title\": \"The Office\"}, \n",
      " Actual{\"appname:netflix\": \"Netflix\", \"device\": \"monitor\"}\n",
      "VI_success: False slot_success: False\n"
     ]
    },
    {
     "name": "stderr",
     "output_type": "stream",
     "text": [
      "Elapsed Time: 510.37s | ETA: 21:46:12:  37%|▋ | 94.0/251 [08:30<14:35, 5.58s/it]"
     ]
    },
    {
     "name": "stdout",
     "output_type": "stream",
     "text": [
      "vi: search-start slots: {'device': 'TV', 'appname': 'Google', 'title': 'Emma Watson'}\n",
      "[VI] Predicted search-start, Actual application-searchIn\n",
      "VI_success: False slot_success: True\n"
     ]
    },
    {
     "name": "stderr",
     "output_type": "stream",
     "text": [
      "Elapsed Time: 518.11s | ETA: 23:55:10:  38%|▊ | 95.0/251 [08:38<16:10, 6.22s/it]"
     ]
    },
    {
     "name": "stdout",
     "output_type": "stream",
     "text": [
      "vi: preheat-start slots: {'device': 'range', 'compartment': '1', 'temperature': '26'}\n",
      "[VI] Predicted preheat-start, Actual device-turnOn\n",
      "[SLOTS] Predicted {\"compartment\": \"1\", \"device\": \"range\", \"temperature\": \"26\"}, \n",
      " Actual{\"device\": \"range\"}\n",
      "VI_success: False slot_success: False\n"
     ]
    },
    {
     "name": "stderr",
     "output_type": "stream",
     "text": [
      "Elapsed Time: 525.10s | ETA: 01:51:43:  38%|▊ | 96.0/251 [08:45<16:40, 6.45s/it]"
     ]
    },
    {
     "name": "stdout",
     "output_type": "stream",
     "text": [
      "vi: bake-start slots: {'device': 'oven', 'mode': 'range'}\n",
      "[VI] Predicted bake-start, Actual cooking-startCourse\n",
      "[SLOTS] Predicted {\"device\": \"oven\", \"mode\": \"range\"}, \n",
      " Actual{\"device\": \"range\", \"mode\": \"bake\"}\n",
      "VI_success: False slot_success: False\n"
     ]
    },
    {
     "name": "stderr",
     "output_type": "stream",
     "text": [
      "Elapsed Time: 529.23s | ETA: 03:00:28:  39%|▊ | 97.0/251 [08:49<14:46, 5.76s/it]"
     ]
    },
    {
     "name": "stdout",
     "output_type": "stream",
     "text": [
      "vi: device-turnOn slots: {'device': 'shoe dresser'}\n",
      "[VI] Predicted device-turnOn, Actual dressing-start\n",
      "VI_success: False slot_success: True\n"
     ]
    },
    {
     "name": "stderr",
     "output_type": "stream",
     "text": [
      "Elapsed Time: 536.22s | ETA: 04:56:59:  39%|▊ | 98.0/251 [08:56<15:37, 6.13s/it]"
     ]
    },
    {
     "name": "stdout",
     "output_type": "stream",
     "text": [
      "vi: bake-start slots: {'device': 'oven', 'mode': 'upper'}\n",
      "[VI] Predicted bake-start, Actual cooking-startCourse\n",
      "[SLOTS] Predicted {\"device\": \"oven\", \"mode\": \"upper\"}, \n",
      " Actual{\"device\": \"range\", \"mode\": \"bake\", \"predefinedCompartment:upper\": \"upper\"}\n",
      "VI_success: False slot_success: False\n"
     ]
    },
    {
     "name": "stderr",
     "output_type": "stream",
     "text": [
      "Elapsed Time: 543.53s | ETA: 06:58:47:  39%|▊ | 99.0/251 [09:03<16:25, 6.48s/it]"
     ]
    },
    {
     "name": "stdout",
     "output_type": "stream",
     "text": [
      "vi: deviceTemperatureSetting-setValue slots: {'device': 'oven', 'temperature': '180'}\n",
      "[VI] Predicted deviceTemperatureSetting-setValue, Actual cooking-startCourse\n",
      "[SLOTS] Predicted {\"device\": \"oven\", \"temperature\": \"180\"}, \n",
      " Actual{\"device\": \"range\", \"mode\": \"bake\", \"temperature\": \"180\"}\n",
      "VI_success: False slot_success: False\n"
     ]
    },
    {
     "name": "stderr",
     "output_type": "stream",
     "text": [
      "Elapsed Time: 550.59s | ETA: 08:56:26:  40%|█▏ | 100/251 [09:10<16:44, 6.65s/it]"
     ]
    },
    {
     "name": "stdout",
     "output_type": "stream",
     "text": [
      "vi: cooking-start slots: {'device': 'oven', 'mode': 'bake'}\n",
      "[VI] Predicted cooking-start, Actual cooking-startCourse\n",
      "[SLOTS] Predicted {\"device\": \"oven\", \"mode\": \"bake\"}, \n",
      " Actual{\"device\": \"range\", \"mode\": \"bake\", \"timer\": \"90 mins\"}\n",
      "VI_success: False slot_success: False\n"
     ]
    },
    {
     "name": "stderr",
     "output_type": "stream",
     "text": [
      "Elapsed Time: 558.26s | ETA: 11:04:17:  40%|█▏ | 101/251 [09:18<17:23, 6.96s/it]"
     ]
    },
    {
     "name": "stdout",
     "output_type": "stream",
     "text": [
      "vi: cooking-start slots: {'device': 'oven', 'mode': 'bake', 'temperature': '180'}\n",
      "[VI] Predicted cooking-start, Actual cooking-startCourse\n",
      "[SLOTS] Predicted {\"device\": \"oven\", \"mode\": \"bake\", \"temperature\": \"180\"}, \n",
      " Actual{\"device\": \"range\", \"mode\": \"bake\", \"temperature\": \"180\", \"timer\": \"90 mins\"}\n",
      "VI_success: False slot_success: False\n"
     ]
    },
    {
     "name": "stderr",
     "output_type": "stream",
     "text": [
      "Elapsed Time: 562.65s | ETA: 12:17:34:  41%|█▏ | 102/251 [09:22<15:22, 6.19s/it]"
     ]
    },
    {
     "name": "stdout",
     "output_type": "stream",
     "text": [
      "vi: deviceTemperatureSetting-setValue slots: {'device': 'oven'}\n",
      "[VI] Predicted deviceTemperatureSetting-setValue, Actual device-turnOn\n",
      "[SLOTS] Predicted {\"device\": \"oven\"}, \n",
      " Actual{\"device\": \"oven\", \"predefinedCompartment:upper\": \"Upper\"}\n",
      "VI_success: False slot_success: False\n"
     ]
    },
    {
     "name": "stderr",
     "output_type": "stream",
     "text": [
      "Elapsed Time: 570.11s | ETA: 14:21:47:  41%|█▏ | 103/251 [09:30<16:12, 6.57s/it]"
     ]
    },
    {
     "name": "stdout",
     "output_type": "stream",
     "text": [
      "vi: ovenTemperatureSetting-decrease slots: {'device': 'oven', 'temperature': '100'}\n",
      "[VI] Predicted ovenTemperatureSetting-decrease, Actual device-turnOn\n",
      "[SLOTS] Predicted {\"device\": \"oven\", \"temperature\": \"100\"}, \n",
      " Actual{\"device\": \"oven\", \"predefinedCompartment:lower\": \"Lower\"}\n",
      "VI_success: False slot_success: False\n"
     ]
    },
    {
     "name": "stderr",
     "output_type": "stream",
     "text": [
      "Elapsed Time: 577.16s | ETA: 16:19:22:  41%|█▏ | 104/251 [09:37<16:27, 6.71s/it]"
     ]
    },
    {
     "name": "stdout",
     "output_type": "stream",
     "text": [
      "vi: bake-start slots: {'device': 'oven', 'mode': 'bake'}\n",
      "[VI] Predicted bake-start, Actual cooking-startCourse\n",
      "VI_success: False slot_success: True\n"
     ]
    },
    {
     "name": "stderr",
     "output_type": "stream",
     "text": [
      "Elapsed Time: 584.56s | ETA: 18:22:36:  42%|█▎ | 105/251 [09:44<16:50, 6.92s/it]"
     ]
    },
    {
     "name": "stdout",
     "output_type": "stream",
     "text": [
      "vi: bake-start slots: {'device': 'oven', 'mode': 'on'}\n",
      "[VI] Predicted bake-start, Actual cooking-startCourse\n",
      "[SLOTS] Predicted {\"device\": \"oven\", \"mode\": \"on\"}, \n",
      " Actual{\"device\": \"oven\", \"mode\": \"bake\", \"predefinedCompartment:upper\": \"upper\"}\n",
      "VI_success: False slot_success: False\n"
     ]
    },
    {
     "name": "stderr",
     "output_type": "stream",
     "text": [
      "Elapsed Time: 591.83s | ETA: 20:23:48:  42%|█▎ | 106/251 [09:51<16:58, 7.02s/it]"
     ]
    },
    {
     "name": "stdout",
     "output_type": "stream",
     "text": [
      "vi: oven-setTemperature slots: {'device': 'oven', 'temperature': '180'}\n",
      "[VI] Predicted oven-setTemperature, Actual cooking-startCourse\n",
      "[SLOTS] Predicted {\"device\": \"oven\", \"temperature\": \"180\"}, \n",
      " Actual{\"device\": \"oven\", \"mode\": \"bake\", \"temperature\": \"180\"}\n",
      "VI_success: False slot_success: False\n"
     ]
    },
    {
     "name": "stderr",
     "output_type": "stream",
     "text": [
      "Elapsed Time: 595.85s | ETA: 21:30:46:  43%|█▎ | 107/251 [09:55<14:41, 6.12s/it]"
     ]
    },
    {
     "name": "stdout",
     "output_type": "stream",
     "text": [
      "vi: device-turnOn slots: {'device': 'ventilator'}\n",
      "VI_success: True slot_success: True\n"
     ]
    },
    {
     "name": "stderr",
     "output_type": "stream",
     "text": [
      "Elapsed Time: 599.86s | ETA: 22:37:44:  43%|█▎ | 108/251 [09:59<13:05, 5.49s/it]"
     ]
    },
    {
     "name": "stdout",
     "output_type": "stream",
     "text": [
      "vi: device-turnOn slots: {'device': 'air conditioner'}\n",
      "[SLOTS] Predicted {\"device\": \"air conditioner\"}, \n",
      " Actual{\"condition:timeExpression\": \"10 o'clock\", \"device\": \"air conditioner\"}\n",
      "VI_success: True slot_success: False\n"
     ]
    },
    {
     "name": "stderr",
     "output_type": "stream",
     "text": [
      "Elapsed Time: 603.74s | ETA: 23:42:23:  43%|█▎ | 109/251 [10:03<11:51, 5.01s/it]"
     ]
    },
    {
     "name": "stdout",
     "output_type": "stream",
     "text": [
      "vi: device-turnOff slots: {'device': 'lights'}\n",
      "[SLOTS] Predicted {\"device\": \"lights\"}, \n",
      " Actual{\"condition:timeExpression\": \"10 o'clock\", \"device\": \"lights\"}\n",
      "VI_success: True slot_success: False\n"
     ]
    },
    {
     "name": "stderr",
     "output_type": "stream",
     "text": [
      "Elapsed Time: 607.62s | ETA: 00:46:58:  44%|█▎ | 110/251 [10:07<10:58, 4.67s/it]"
     ]
    },
    {
     "name": "stdout",
     "output_type": "stream",
     "text": [
      "vi: device-turnOn slots: {'device': 'fan'}\n",
      "VI_success: True slot_success: True\n"
     ]
    },
    {
     "name": "stderr",
     "output_type": "stream",
     "text": [
      "Elapsed Time: 610.22s | ETA: 01:30:23:  44%|█▎ | 111/251 [10:10<09:26, 4.05s/it]"
     ]
    },
    {
     "name": "stdout",
     "output_type": "stream",
     "text": [
      "vi: device-turnOff slots: {'device': '#E1'}\n",
      "[SLOTS] Predicted {\"device\": \"#E1\"}, \n",
      " Actual{\"condition:ast:sunrise\": \"sunrise\", \"device\": \"light\"}\n",
      "VI_success: True slot_success: False\n"
     ]
    },
    {
     "name": "stderr",
     "output_type": "stream",
     "text": [
      "Elapsed Time: 614.23s | ETA: 02:37:10:  45%|█▎ | 112/251 [10:14<09:21, 4.04s/it]"
     ]
    },
    {
     "name": "stdout",
     "output_type": "stream",
     "text": [
      "vi: device-turnOn slots: {'device': 'air conditioner'}\n",
      "[SLOTS] Predicted {\"device\": \"air conditioner\"}, \n",
      " Actual{\"condition:dayOfWeek:monday\": \"Monday\", \"condition:timeExpression\": \"10 o'clock\", \"device\": \"air conditioner\"}\n",
      "VI_success: True slot_success: False\n"
     ]
    },
    {
     "name": "stderr",
     "output_type": "stream",
     "text": [
      "Elapsed Time: 616.91s | ETA: 03:21:47:  45%|█▎ | 113/251 [10:16<08:20, 3.63s/it]"
     ]
    },
    {
     "name": "stdout",
     "output_type": "stream",
     "text": [
      "vi: device-turnOn slots: {'device': 'air conditioner'}\n",
      "[SLOTS] Predicted {\"device\": \"air conditioner\"}, \n",
      " Actual{\"condition:presence:in\": \"get\", \"condition:presenceLocation\": \"home\", \"device\": \"air conditioner\"}\n",
      "VI_success: True slot_success: False\n"
     ]
    },
    {
     "name": "stderr",
     "output_type": "stream",
     "text": [
      "Elapsed Time: 619.52s | ETA: 04:05:18:  45%|█▎ | 114/251 [10:19<07:35, 3.32s/it]"
     ]
    },
    {
     "name": "stdout",
     "output_type": "stream",
     "text": [
      "vi: device-turnOn slots: {'device': 'tv1'}\n",
      "[SLOTS] Predicted {\"device\": \"tv1\"}, \n",
      " Actual{}\n",
      "VI_success: True slot_success: False\n"
     ]
    },
    {
     "name": "stderr",
     "output_type": "stream",
     "text": [
      "Elapsed Time: 623.92s | ETA: 05:18:36:  46%|█▎ | 115/251 [10:23<08:15, 3.65s/it]"
     ]
    },
    {
     "name": "stdout",
     "output_type": "stream",
     "text": [
      "vi: device-turnOn slots: {'device': 'light'}\n",
      "[SLOTS] Predicted {\"device\": \"light\"}, \n",
      " Actual{\"device\": \"light\", \"location\": \"living room\"}\n",
      "VI_success: True slot_success: False\n"
     ]
    },
    {
     "name": "stderr",
     "output_type": "stream",
     "text": [
      "Elapsed Time: 626.45s | ETA: 06:00:51:  46%|█▍ | 116/251 [10:26<07:27, 3.31s/it]"
     ]
    },
    {
     "name": "stdout",
     "output_type": "stream",
     "text": [
      "vi: device-turnOn slots: {'device': 'tv'}\n",
      "[SLOTS] Predicted {\"device\": \"tv\"}, \n",
      " Actual{\"device\": \"TV\"}\n",
      "VI_success: True slot_success: False\n"
     ]
    },
    {
     "name": "stderr",
     "output_type": "stream",
     "text": [
      "Elapsed Time: 630.45s | ETA: 07:07:27:  47%|█▍ | 117/251 [10:30<07:51, 3.52s/it]"
     ]
    },
    {
     "name": "stdout",
     "output_type": "stream",
     "text": [
      "vi: device-turnOn slots: {'device': 'Air purifier'}\n",
      "VI_success: True slot_success: True\n"
     ]
    },
    {
     "name": "stderr",
     "output_type": "stream",
     "text": [
      "Elapsed Time: 633.05s | ETA: 07:50:49:  47%|█▍ | 118/251 [10:33<07:11, 3.24s/it]"
     ]
    },
    {
     "name": "stdout",
     "output_type": "stream",
     "text": [
      "vi: device-turnOn slots: {'device': 'speaker'}\n",
      "VI_success: True slot_success: True\n"
     ]
    },
    {
     "name": "stderr",
     "output_type": "stream",
     "text": [
      "Elapsed Time: 635.72s | ETA: 08:35:18:  47%|█▍ | 119/251 [10:35<06:45, 3.07s/it]"
     ]
    },
    {
     "name": "stdout",
     "output_type": "stream",
     "text": [
      "vi: device-turnOn slots: {'device': 'air conditioner'}\n",
      "VI_success: True slot_success: True\n"
     ]
    },
    {
     "name": "stderr",
     "output_type": "stream",
     "text": [
      "Elapsed Time: 638.39s | ETA: 09:19:50:  48%|█▍ | 120/251 [10:38<06:26, 2.95s/it]"
     ]
    },
    {
     "name": "stdout",
     "output_type": "stream",
     "text": [
      "vi: device-turnOn slots: {'device': 'air conditioner'}\n",
      "VI_success: True slot_success: True\n"
     ]
    },
    {
     "name": "stderr",
     "output_type": "stream",
     "text": [
      "Elapsed Time: 641.00s | ETA: 10:03:23:  48%|█▍ | 121/251 [10:41<06:10, 2.85s/it]"
     ]
    },
    {
     "name": "stdout",
     "output_type": "stream",
     "text": [
      "vi: device-turnOn slots: {'device': 'outlet'}\n",
      "VI_success: True slot_success: True\n"
     ]
    },
    {
     "name": "stderr",
     "output_type": "stream",
     "text": [
      "Elapsed Time: 644.87s | ETA: 11:07:52:  49%|█▍ | 122/251 [10:44<06:47, 3.16s/it]"
     ]
    },
    {
     "name": "stdout",
     "output_type": "stream",
     "text": [
      "vi: device-turnOn slots: {'device': 'switch'}\n",
      "VI_success: True slot_success: True\n"
     ]
    },
    {
     "name": "stderr",
     "output_type": "stream",
     "text": [
      "Elapsed Time: 648.74s | ETA: 12:12:17:  49%|█▍ | 123/251 [10:48<07:11, 3.37s/it]"
     ]
    },
    {
     "name": "stdout",
     "output_type": "stream",
     "text": [
      "vi: device-turnOn slots: {'device': 'light'}\n",
      "VI_success: True slot_success: True\n"
     ]
    },
    {
     "name": "stderr",
     "output_type": "stream",
     "text": [
      "Elapsed Time: 652.73s | ETA: 13:18:54:  49%|█▍ | 124/251 [10:52<07:31, 3.56s/it]"
     ]
    },
    {
     "name": "stdout",
     "output_type": "stream",
     "text": [
      "vi: device-turnOff slots: {'device': 'living room'}\n",
      "[SLOTS] Predicted {\"device\": \"living room\"}, \n",
      " Actual{\"location\": \"living room\"}\n",
      "VI_success: True slot_success: False\n"
     ]
    },
    {
     "name": "stderr",
     "output_type": "stream",
     "text": [
      "Elapsed Time: 657.12s | ETA: 14:32:02:  50%|█▍ | 125/251 [10:57<07:59, 3.81s/it]"
     ]
    },
    {
     "name": "stdout",
     "output_type": "stream",
     "text": [
      "vi: device-turnOff slots: {'device': 'light'}\n",
      "[SLOTS] Predicted {\"device\": \"light\"}, \n",
      " Actual{\"device\": \"light\", \"location\": \"living room\"}\n",
      "VI_success: True slot_success: False\n"
     ]
    },
    {
     "name": "stderr",
     "output_type": "stream",
     "text": [
      "Elapsed Time: 660.99s | ETA: 15:36:32:  50%|█▌ | 126/251 [11:00<07:58, 3.83s/it]"
     ]
    },
    {
     "name": "stdout",
     "output_type": "stream",
     "text": [
      "vi: device-turnOff slots: {'device': 'TV'}\n",
      "VI_success: True slot_success: True\n"
     ]
    },
    {
     "name": "stderr",
     "output_type": "stream",
     "text": [
      "Elapsed Time: 664.98s | ETA: 16:43:03:  51%|█▌ | 127/251 [11:04<08:00, 3.88s/it]"
     ]
    },
    {
     "name": "stdout",
     "output_type": "stream",
     "text": [
      "vi: device-turnOff slots: {'device': 'Air purifier'}\n",
      "VI_success: True slot_success: True\n"
     ]
    },
    {
     "name": "stderr",
     "output_type": "stream",
     "text": [
      "Elapsed Time: 668.91s | ETA: 17:48:28:  51%|█▌ | 128/251 [11:08<07:58, 3.89s/it]"
     ]
    },
    {
     "name": "stdout",
     "output_type": "stream",
     "text": [
      "vi: device-turnOff slots: {'device': 'speaker'}\n",
      "VI_success: True slot_success: True\n"
     ]
    },
    {
     "name": "stderr",
     "output_type": "stream",
     "text": [
      "Elapsed Time: 672.90s | ETA: 18:55:02:  51%|█▌ | 129/251 [11:12<07:58, 3.92s/it]"
     ]
    },
    {
     "name": "stdout",
     "output_type": "stream",
     "text": [
      "vi: device-turnOff slots: {'device': 'air conditioner'}\n",
      "VI_success: True slot_success: True\n"
     ]
    },
    {
     "name": "stderr",
     "output_type": "stream",
     "text": [
      "Elapsed Time: 675.44s | ETA: 19:37:21:  52%|█▌ | 130/251 [11:15<07:04, 3.51s/it]"
     ]
    },
    {
     "name": "stdout",
     "output_type": "stream",
     "text": [
      "vi: device-turnOn slots: {'device': 'tv'}\n",
      "[SLOTS] Predicted {\"device\": \"tv\"}, \n",
      " Actual{\"device\": \"TV\"}\n",
      "VI_success: True slot_success: False\n"
     ]
    },
    {
     "name": "stderr",
     "output_type": "stream",
     "text": [
      "Elapsed Time: 679.37s | ETA: 20:42:47:  52%|█▌ | 131/251 [11:19<07:15, 3.63s/it]"
     ]
    },
    {
     "name": "stdout",
     "output_type": "stream",
     "text": [
      "vi: device-turnOff slots: {'device': 'outlet'}\n",
      "VI_success: True slot_success: True\n"
     ]
    },
    {
     "name": "stderr",
     "output_type": "stream",
     "text": [
      "Elapsed Time: 683.23s | ETA: 21:47:09:  53%|█▌ | 132/251 [11:23<07:20, 3.70s/it]"
     ]
    },
    {
     "name": "stdout",
     "output_type": "stream",
     "text": [
      "vi: device-turnOff slots: {'device': 'switch'}\n",
      "VI_success: True slot_success: True\n"
     ]
    },
    {
     "name": "stderr",
     "output_type": "stream",
     "text": [
      "Elapsed Time: 687.08s | ETA: 22:51:19:  53%|█▌ | 133/251 [11:27<07:22, 3.75s/it]"
     ]
    },
    {
     "name": "stdout",
     "output_type": "stream",
     "text": [
      "vi: device-turnOff slots: {'device': 'light'}\n",
      "VI_success: True slot_success: True\n"
     ]
    },
    {
     "name": "stderr",
     "output_type": "stream",
     "text": [
      "Elapsed Time: 691.07s | ETA: 23:57:53:  53%|█▌ | 134/251 [11:31<07:26, 3.82s/it]"
     ]
    },
    {
     "name": "stdout",
     "output_type": "stream",
     "text": [
      "vi: device-turnOff slots: {'device': 'thermostat'}\n",
      "VI_success: True slot_success: True\n"
     ]
    },
    {
     "name": "stderr",
     "output_type": "stream",
     "text": [
      "Elapsed Time: 696.02s | ETA: 01:20:20:  54%|█▌ | 135/251 [11:36<08:02, 4.16s/it]"
     ]
    },
    {
     "name": "stdout",
     "output_type": "stream",
     "text": [
      "vi: cleaning-start slots: {'device': 'vaccum', 'location': 'house', 'room': 'Living Room'}\n",
      "[SLOTS] Predicted {\"device\": \"vaccum\", \"location\": \"house\", \"room\": \"Living Room\"}, \n",
      " Actual{}\n",
      "VI_success: True slot_success: False\n"
     ]
    },
    {
     "name": "stderr",
     "output_type": "stream",
     "text": [
      "Elapsed Time: 700.97s | ETA: 02:42:53:  54%|█▋ | 136/251 [11:40<08:25, 4.40s/it]"
     ]
    },
    {
     "name": "stdout",
     "output_type": "stream",
     "text": [
      "vi: cleaning-start slots: {'device': 'Robot vacuum', 'location': 'house', 'room': 'Living Room'}\n",
      "[SLOTS] Predicted {\"device\": \"Robot vacuum\", \"location\": \"house\", \"room\": \"Living Room\"}, \n",
      " Actual{\"device\": \"Robot vacuum\"}\n",
      "VI_success: True slot_success: False\n"
     ]
    },
    {
     "name": "stderr",
     "output_type": "stream",
     "text": [
      "Elapsed Time: 704.98s | ETA: 03:49:43:  55%|█▋ | 137/251 [11:44<08:08, 4.28s/it]"
     ]
    },
    {
     "name": "stdout",
     "output_type": "stream",
     "text": [
      "vi: device-turnOn slots: {'device': 'air purifier'}\n",
      "[SLOTS] Predicted {\"device\": \"air purifier\"}, \n",
      " Actual{\"device\": \"Air purifier\"}\n",
      "VI_success: True slot_success: False\n"
     ]
    },
    {
     "name": "stderr",
     "output_type": "stream",
     "text": [
      "Elapsed Time: 712.80s | ETA: 06:00:00:  55%|█▋ | 138/251 [11:52<10:03, 5.34s/it]"
     ]
    },
    {
     "name": "stdout",
     "output_type": "stream",
     "text": [
      "vi: washing-startCourse slots: {'device': 'washing machine', 'compartment': '1', 'mode': 'auto'}\n",
      "[VI] Predicted washing-startCourse, Actual washing-start\n",
      "[SLOTS] Predicted {\"compartment\": \"1\", \"device\": \"washing machine\", \"mode\": \"auto\"}, \n",
      " Actual{}\n",
      "VI_success: False slot_success: False\n"
     ]
    },
    {
     "name": "stderr",
     "output_type": "stream",
     "text": [
      "Elapsed Time: 716.84s | ETA: 07:07:15:  55%|█▋ | 139/251 [11:56<09:14, 4.95s/it]"
     ]
    },
    {
     "name": "stdout",
     "output_type": "stream",
     "text": [
      "vi: device-turnOn slots: {'device': 'dryer'}\n",
      "[VI] Predicted device-turnOn, Actual drying-start\n",
      "VI_success: False slot_success: True\n"
     ]
    },
    {
     "name": "stderr",
     "output_type": "stream",
     "text": [
      "Elapsed Time: 721.77s | ETA: 08:29:29:  56%|█▋ | 140/251 [12:01<09:08, 4.94s/it]"
     ]
    },
    {
     "name": "stdout",
     "output_type": "stream",
     "text": [
      "vi: cleaning-start slots: {'device': 'vaccum', 'location': 'house', 'room': 'Living Room'}\n",
      "[SLOTS] Predicted {\"device\": \"vaccum\", \"location\": \"house\", \"room\": \"Living Room\"}, \n",
      " Actual{\"device\": \"Vacuum\"}\n",
      "VI_success: True slot_success: False\n"
     ]
    },
    {
     "name": "stderr",
     "output_type": "stream",
     "text": [
      "Elapsed Time: 725.85s | ETA: 09:37:25:  56%|█▋ | 141/251 [12:05<08:35, 4.68s/it]"
     ]
    },
    {
     "name": "stdout",
     "output_type": "stream",
     "text": [
      "vi: device-turnOn slots: {'device': 'air dresser'}\n",
      "[VI] Predicted device-turnOn, Actual dressing-start\n",
      "VI_success: False slot_success: True\n"
     ]
    },
    {
     "name": "stderr",
     "output_type": "stream",
     "text": [
      "Elapsed Time: 729.85s | ETA: 10:44:12:  57%|█▋ | 142/251 [12:09<08:08, 4.48s/it]"
     ]
    },
    {
     "name": "stdout",
     "output_type": "stream",
     "text": [
      "vi: device-turnOn slots: {'device': 'humidifier'}\n",
      "VI_success: True slot_success: True\n"
     ]
    },
    {
     "name": "stderr",
     "output_type": "stream",
     "text": [
      "Elapsed Time: 733.86s | ETA: 11:50:59:  57%|█▋ | 143/251 [12:13<07:48, 4.34s/it]"
     ]
    },
    {
     "name": "stdout",
     "output_type": "stream",
     "text": [
      "vi: device-turnOn slots: {'device': 'diswasher'}\n",
      "[VI] Predicted device-turnOn, Actual dishWashing-start\n",
      "[SLOTS] Predicted {\"device\": \"diswasher\"}, \n",
      " Actual{\"device\": \"dishwasher\"}\n",
      "VI_success: False slot_success: False\n",
      "Error\n"
     ]
    },
    {
     "name": "stderr",
     "output_type": "stream",
     "text": [
      "Elapsed Time: 747.86s | ETA: 15:44:16:  57%|█▋ | 144/251 [12:27<12:54, 7.24s/it]"
     ]
    },
    {
     "name": "stdout",
     "output_type": "stream",
     "text": [
      "vi: device-turnOn slots: {'device': 'siren'}\n",
      "VI_success: True slot_success: True\n"
     ]
    },
    {
     "name": "stderr",
     "output_type": "stream",
     "text": [
      "Elapsed Time: 751.72s | ETA: 16:48:38:  58%|█▋ | 145/251 [12:31<10:59, 6.22s/it]"
     ]
    },
    {
     "name": "stdout",
     "output_type": "stream",
     "text": [
      "vi: device-turnOn slots: {'device': 'hood'}\n",
      "VI_success: True slot_success: True\n"
     ]
    },
    {
     "name": "stderr",
     "output_type": "stream",
     "text": [
      "Elapsed Time: 755.66s | ETA: 17:54:19:  58%|█▋ | 146/251 [12:35<09:41, 5.54s/it]"
     ]
    },
    {
     "name": "stdout",
     "output_type": "stream",
     "text": [
      "vi: device-turnOff slots: {'device': 'projector'}\n",
      "VI_success: True slot_success: True\n",
      "Error\n"
     ]
    },
    {
     "name": "stderr",
     "output_type": "stream",
     "text": [
      "Elapsed Time: 769.66s | ETA: 21:47:35:  59%|█▊ | 147/251 [12:49<13:59, 8.08s/it]"
     ]
    },
    {
     "name": "stdout",
     "output_type": "stream",
     "text": [
      "vi: device-turnOff slots: {'device': 'siren'}\n",
      "VI_success: True slot_success: True\n"
     ]
    },
    {
     "name": "stderr",
     "output_type": "stream",
     "text": [
      "Elapsed Time: 772.72s | ETA: 22:38:43:  59%|█▊ | 148/251 [12:52<11:17, 6.57s/it]"
     ]
    },
    {
     "name": "stdout",
     "output_type": "stream",
     "text": [
      "vi: cleaning-stop slots: {'location': 'house', 'room': 'Living Room'}\n",
      "[VI] Predicted cleaning-stop, Actual cleaning-pause\n",
      "[SLOTS] Predicted {\"location\": \"house\", \"room\": \"Living Room\"}, \n",
      " Actual{}\n",
      "VI_success: False slot_success: False\n"
     ]
    },
    {
     "name": "stderr",
     "output_type": "stream",
     "text": [
      "Elapsed Time: 776.59s | ETA: 23:43:10:  59%|█▊ | 149/251 [12:56<09:47, 5.76s/it]"
     ]
    },
    {
     "name": "stdout",
     "output_type": "stream",
     "text": [
      "vi: device-turnOff slots: {'device': 'monitor'}\n",
      "VI_success: True slot_success: True\n"
     ]
    },
    {
     "name": "stderr",
     "output_type": "stream",
     "text": [
      "Elapsed Time: 780.58s | ETA: 00:49:44:  60%|█▊ | 150/251 [13:00<08:48, 5.23s/it]"
     ]
    },
    {
     "name": "stdout",
     "output_type": "stream",
     "text": [
      "vi: device-turnOff slots: {'device': 'dryer'}\n",
      "[VI] Predicted device-turnOff, Actual drying-cancel\n",
      "VI_success: False slot_success: True\n"
     ]
    },
    {
     "name": "stderr",
     "output_type": "stream",
     "text": [
      "Elapsed Time: 784.58s | ETA: 01:56:22:  60%|█▊ | 151/251 [13:04<08:06, 4.86s/it]"
     ]
    },
    {
     "name": "stdout",
     "output_type": "stream",
     "text": [
      "vi: device-turnOff slots: {'device': 'diswasher'}\n",
      "[VI] Predicted device-turnOff, Actual dishWashing-cancel\n",
      "[SLOTS] Predicted {\"device\": \"diswasher\"}, \n",
      " Actual{\"device\": \"dishwasher\"}\n",
      "VI_success: False slot_success: False\n"
     ]
    },
    {
     "name": "stderr",
     "output_type": "stream",
     "text": [
      "Elapsed Time: 792.02s | ETA: 04:00:24:  61%|█▊ | 152/251 [13:12<09:17, 5.64s/it]"
     ]
    },
    {
     "name": "stdout",
     "output_type": "stream",
     "text": [
      "vi: deviceTemperatureSetting-setValue slots: {'device': 'air conditioner', 'temperature': '20'}\n",
      "[VI] Predicted deviceTemperatureSetting-setValue, Actual deviceTemperatureSetting-increase\n",
      "[SLOTS] Predicted {\"device\": \"air conditioner\", \"temperature\": \"20\"}, \n",
      " Actual{\"device\": \"air conditioner\"}\n",
      "VI_success: False slot_success: False\n"
     ]
    },
    {
     "name": "stderr",
     "output_type": "stream",
     "text": [
      "Elapsed Time: 794.69s | ETA: 04:44:50:  61%|█▊ | 153/251 [13:14<07:44, 4.74s/it]"
     ]
    },
    {
     "name": "stdout",
     "output_type": "stream",
     "text": [
      "vi: volume-increase slots: {'device': 'speaker'}\n",
      "VI_success: True slot_success: True\n"
     ]
    },
    {
     "name": "stderr",
     "output_type": "stream",
     "text": [
      "Elapsed Time: 801.68s | ETA: 06:41:24:  61%|█▊ | 154/251 [13:21<08:45, 5.42s/it]"
     ]
    },
    {
     "name": "stdout",
     "output_type": "stream",
     "text": [
      "vi: volume-setValue slots: {'device': 'TV', 'volume': '60'}\n",
      "[VI] Predicted volume-setValue, Actual volume-increase\n",
      "[SLOTS] Predicted {\"device\": \"TV\", \"volume\": \"60\"}, \n",
      " Actual{\"device\": \"TV\"}\n",
      "VI_success: False slot_success: False\n"
     ]
    },
    {
     "name": "stderr",
     "output_type": "stream",
     "text": [
      "Elapsed Time: 808.59s | ETA: 08:36:33:  62%|█▊ | 155/251 [13:28<09:23, 5.87s/it]"
     ]
    },
    {
     "name": "stdout",
     "output_type": "stream",
     "text": [
      "vi: volume-setValue slots: {'device': 'TV', 'volume': '2'}\n",
      "[VI] Predicted volume-setValue, Actual volume-increase\n",
      "VI_success: False slot_success: True\n"
     ]
    },
    {
     "name": "stderr",
     "output_type": "stream",
     "text": [
      "Elapsed Time: 812.71s | ETA: 09:45:13:  62%|█▊ | 156/251 [13:32<08:27, 5.34s/it]"
     ]
    },
    {
     "name": "stdout",
     "output_type": "stream",
     "text": [
      "vi: device-turnOn slots: {'device': 'shoe dresser'}\n",
      "[VI] Predicted device-turnOn, Actual dressing-start\n",
      "VI_success: False slot_success: True\n"
     ]
    },
    {
     "name": "stderr",
     "output_type": "stream",
     "text": [
      "Elapsed Time: 820.49s | ETA: 11:54:48:  63%|█▉ | 157/251 [13:40<09:30, 6.07s/it]"
     ]
    },
    {
     "name": "stdout",
     "output_type": "stream",
     "text": [
      "vi: brightness-setValue slots: {'device': 'light', 'brightness': '50'}\n",
      "[VI] Predicted brightness-setValue, Actual brightness-increase\n",
      "[SLOTS] Predicted {\"brightness\": \"50\", \"device\": \"light\"}, \n",
      " Actual{\"device\": \"light\", \"location\": \"living room\"}\n",
      "VI_success: False slot_success: False\n"
     ]
    },
    {
     "name": "stderr",
     "output_type": "stream",
     "text": [
      "Elapsed Time: 827.74s | ETA: 13:55:38:  63%|█▉ | 158/251 [13:47<09:57, 6.43s/it]"
     ]
    },
    {
     "name": "stdout",
     "output_type": "stream",
     "text": [
      "vi: brightness-setValue slots: {'device': 'light', 'brightness': '50'}\n",
      "[VI] Predicted brightness-setValue, Actual brightness-increase\n",
      "[SLOTS] Predicted {\"brightness\": \"50\", \"device\": \"light\"}, \n",
      " Actual{\"device\": \"light\"}\n",
      "VI_success: False slot_success: False\n"
     ]
    },
    {
     "name": "stderr",
     "output_type": "stream",
     "text": [
      "Elapsed Time: 833.85s | ETA: 15:37:29:  63%|█▉ | 159/251 [13:53<09:42, 6.33s/it]"
     ]
    },
    {
     "name": "stdout",
     "output_type": "stream",
     "text": [
      "vi: deviceTemperatureSetting-decrease slots: {'device': 'air conditioner', 'temperature': '20'}\n",
      "[SLOTS] Predicted {\"device\": \"air conditioner\", \"temperature\": \"20\"}, \n",
      " Actual{\"device\": \"air conditioner\"}\n",
      "VI_success: True slot_success: False\n"
     ]
    },
    {
     "name": "stderr",
     "output_type": "stream",
     "text": [
      "Elapsed Time: 836.52s | ETA: 16:21:56:  64%|█▉ | 160/251 [13:56<07:56, 5.23s/it]"
     ]
    },
    {
     "name": "stdout",
     "output_type": "stream",
     "text": [
      "vi: volume-decrease slots: {'device': 'speaker'}\n",
      "VI_success: True slot_success: True\n"
     ]
    },
    {
     "name": "stderr",
     "output_type": "stream",
     "text": [
      "Elapsed Time: 841.84s | ETA: 17:50:40:  64%|█▉ | 161/251 [14:01<07:53, 5.26s/it]"
     ]
    },
    {
     "name": "stdout",
     "output_type": "stream",
     "text": [
      "vi: volume-decrease slots: {'device': 'TV'}\n",
      "VI_success: True slot_success: True\n"
     ]
    },
    {
     "name": "stderr",
     "output_type": "stream",
     "text": [
      "Elapsed Time: 845.91s | ETA: 18:58:32:  65%|█▉ | 162/251 [14:05<07:16, 4.90s/it]"
     ]
    },
    {
     "name": "stdout",
     "output_type": "stream",
     "text": [
      "vi: device-turnOff slots: {'device': 'Ventilator'}\n",
      "VI_success: True slot_success: True\n"
     ]
    },
    {
     "name": "stderr",
     "output_type": "stream",
     "text": [
      "Elapsed Time: 851.65s | ETA: 20:34:07:  65%|█▉ | 163/251 [14:11<07:33, 5.15s/it]"
     ]
    },
    {
     "name": "stdout",
     "output_type": "stream",
     "text": [
      "vi: volume-decrease slots: {'device': 'TV', 'volume': '2'}\n",
      "VI_success: True slot_success: True\n"
     ]
    },
    {
     "name": "stderr",
     "output_type": "stream",
     "text": [
      "Elapsed Time: 859.43s | ETA: 22:43:46:  65%|█▉ | 164/251 [14:19<08:36, 5.94s/it]"
     ]
    },
    {
     "name": "stdout",
     "output_type": "stream",
     "text": [
      "vi: brightness-setValue slots: {'device': 'light', 'brightness': '50'}\n",
      "[VI] Predicted brightness-setValue, Actual brightness-decrease\n",
      "[SLOTS] Predicted {\"brightness\": \"50\", \"device\": \"light\"}, \n",
      " Actual{\"device\": \"light\", \"location\": \"living room\"}\n",
      "VI_success: False slot_success: False\n"
     ]
    },
    {
     "name": "stderr",
     "output_type": "stream",
     "text": [
      "Elapsed Time: 866.70s | ETA: 00:44:58:  66%|█▉ | 165/251 [14:26<09:05, 6.34s/it]"
     ]
    },
    {
     "name": "stdout",
     "output_type": "stream",
     "text": [
      "vi: brightness-setValue slots: {'device': 'light', 'brightness': '50'}\n",
      "[VI] Predicted brightness-setValue, Actual brightness-decrease\n",
      "[SLOTS] Predicted {\"brightness\": \"50\", \"device\": \"light\"}, \n",
      " Actual{\"device\": \"light\"}\n",
      "VI_success: False slot_success: False\n"
     ]
    },
    {
     "name": "stderr",
     "output_type": "stream",
     "text": [
      "Elapsed Time: 870.55s | ETA: 01:49:12:  66%|█▉ | 166/251 [14:30<07:55, 5.59s/it]"
     ]
    },
    {
     "name": "stdout",
     "output_type": "stream",
     "text": [
      "vi: device-turnOff slots: {'device': 'fan'}\n",
      "VI_success: True slot_success: True\n"
     ]
    },
    {
     "name": "stderr",
     "output_type": "stream",
     "text": [
      "Elapsed Time: 876.35s | ETA: 03:25:52:  67%|█▉ | 167/251 [14:36<07:55, 5.66s/it]"
     ]
    },
    {
     "name": "stdout",
     "output_type": "stream",
     "text": [
      "vi: deviceMode-setValue slots: {'device': 'air conditioner', 'mode': 'auto'}\n",
      "[VI] Predicted deviceMode-setValue, Actual airConditioningMode-setValue\n",
      "[SLOTS] Predicted {\"device\": \"air conditioner\", \"mode\": \"auto\"}, \n",
      " Actual{\"device\": \"air conditioner\", \"mode:auto\": \"auto\"}\n",
      "VI_success: False slot_success: False\n"
     ]
    },
    {
     "name": "stderr",
     "output_type": "stream",
     "text": [
      "Elapsed Time: 879.56s | ETA: 04:19:15:  67%|██ | 168/251 [14:39<06:48, 4.92s/it]"
     ]
    },
    {
     "name": "stdout",
     "output_type": "stream",
     "text": [
      "vi: deviceMode-setValue slots: {'device': 'air conditioner', 'mode': 'cooling'}\n",
      "[VI] Predicted deviceMode-setValue, Actual airConditioningMode-setValue\n",
      "[SLOTS] Predicted {\"device\": \"air conditioner\", \"mode\": \"cooling\"}, \n",
      " Actual{\"device\": \"air conditioner\", \"mode:cool\": \"cooling\"}\n",
      "VI_success: False slot_success: False\n"
     ]
    },
    {
     "name": "stderr",
     "output_type": "stream",
     "text": [
      "Elapsed Time: 885.41s | ETA: 05:56:49:  67%|██ | 169/251 [14:45<07:06, 5.20s/it]"
     ]
    },
    {
     "name": "stdout",
     "output_type": "stream",
     "text": [
      "vi: deviceMode-setValue slots: {'device': 'air conditioner', 'mode': 'heat'}\n",
      "[VI] Predicted deviceMode-setValue, Actual airConditioningMode-setValue\n",
      "[SLOTS] Predicted {\"device\": \"air conditioner\", \"mode\": \"heat\"}, \n",
      " Actual{\"device\": \"air conditioner\", \"mode:heat\": \"heat\"}\n",
      "VI_success: False slot_success: False\n"
     ]
    },
    {
     "name": "stderr",
     "output_type": "stream",
     "text": [
      "Elapsed Time: 891.26s | ETA: 07:34:23:  68%|██ | 170/251 [14:51<07:17, 5.40s/it]"
     ]
    },
    {
     "name": "stdout",
     "output_type": "stream",
     "text": [
      "vi: deviceMode-setValue slots: {'device': 'air conditioner', 'mode': 'purify'}\n",
      "[VI] Predicted deviceMode-setValue, Actual airConditioningMode-setValue\n",
      "[SLOTS] Predicted {\"device\": \"air conditioner\", \"mode\": \"purify\"}, \n",
      " Actual{\"device\": \"air conditioner\", \"mode:purify\": \"purify\"}\n",
      "VI_success: False slot_success: False\n"
     ]
    },
    {
     "name": "stderr",
     "output_type": "stream",
     "text": [
      "Elapsed Time: 897.18s | ETA: 09:13:03:  68%|██ | 171/251 [14:57<07:24, 5.55s/it]"
     ]
    },
    {
     "name": "stdout",
     "output_type": "stream",
     "text": [
      "vi: deviceMode-setValue slots: {'device': 'air conditioner', 'mode': 'AI comfort cooling'}\n",
      "[VI] Predicted deviceMode-setValue, Actual airConditioningMode-setValue\n",
      "[SLOTS] Predicted {\"device\": \"air conditioner\", \"mode\": \"AI comfort cooling\"}, \n",
      " Actual{\"device\": \"air conditioner\", \"mode:aiComfort\": \"AI comfort\"}\n",
      "VI_success: False slot_success: False\n"
     ]
    },
    {
     "name": "stderr",
     "output_type": "stream",
     "text": [
      "Elapsed Time: 901.19s | ETA: 10:19:48:  69%|██ | 172/251 [15:01<06:42, 5.09s/it]"
     ]
    },
    {
     "name": "stdout",
     "output_type": "stream",
     "text": [
      "vi: device-turnOff slots: {'device': 'air conditioner'}\n",
      "VI_success: True slot_success: True\n"
     ]
    },
    {
     "name": "stderr",
     "output_type": "stream",
     "text": [
      "Elapsed Time: 903.66s | ETA: 11:00:55:  69%|██ | 173/251 [15:03<05:35, 4.30s/it]"
     ]
    },
    {
     "name": "stdout",
     "output_type": "stream",
     "text": [
      "vi: channel-previous slots: {'device': 'TV'}\n",
      "[VI] Predicted channel-previous, Actual channel-setPrevious\n",
      "VI_success: False slot_success: True\n"
     ]
    },
    {
     "name": "stderr",
     "output_type": "stream",
     "text": [
      "Elapsed Time: 910.68s | ETA: 12:58:04:  69%|██ | 174/251 [15:10<06:34, 5.12s/it]"
     ]
    },
    {
     "name": "stdout",
     "output_type": "stream",
     "text": [
      "vi: colorMode-setValue slots: {'device': 'light', 'mode': 'blue'}\n",
      "[VI] Predicted colorMode-setValue, Actual colorControl-setValue\n",
      "[SLOTS] Predicted {\"device\": \"light\", \"mode\": \"blue\"}, \n",
      " Actual{\"device\": \"light\", \"predefinedColorName:blue\": \"Blue\"}\n",
      "VI_success: False slot_success: False\n"
     ]
    },
    {
     "name": "stderr",
     "output_type": "stream",
     "text": [
      "Elapsed Time: 918.46s | ETA: 15:07:39:  70%|██ | 175/251 [15:18<07:29, 5.92s/it]"
     ]
    },
    {
     "name": "stdout",
     "output_type": "stream",
     "text": [
      "vi: brightness-setValue slots: {'device': 'light', 'brightness': '25'}\n",
      "[SLOTS] Predicted {\"brightness\": \"25\", \"device\": \"light\"}, \n",
      " Actual{\"brightness\": \"25\", \"device\": \"light\", \"location\": \"living room\"}\n",
      "VI_success: True slot_success: False\n"
     ]
    },
    {
     "name": "stderr",
     "output_type": "stream",
     "text": [
      "Elapsed Time: 922.33s | ETA: 16:12:08:  70%|██ | 176/251 [15:22<06:37, 5.30s/it]"
     ]
    },
    {
     "name": "stdout",
     "output_type": "stream",
     "text": [
      "vi: device-turnOff slots: {'device': 'TV'}\n",
      "VI_success: True slot_success: True\n"
     ]
    },
    {
     "name": "stderr",
     "output_type": "stream",
     "text": [
      "Elapsed Time: 930.12s | ETA: 18:22:01:  71%|██ | 177/251 [15:30<07:27, 6.05s/it]"
     ]
    },
    {
     "name": "stdout",
     "output_type": "stream",
     "text": [
      "vi: brightness-setValue slots: {'device': 'light', 'brightness': '50'}\n",
      "[VI] Predicted brightness-setValue, Actual brightness-increase\n",
      "[SLOTS] Predicted {\"brightness\": \"50\", \"device\": \"light\"}, \n",
      " Actual{\"brightnessDelta\": \"50\", \"device\": \"light\", \"location\": \"living room\"}\n",
      "VI_success: False slot_success: False\n"
     ]
    },
    {
     "name": "stderr",
     "output_type": "stream",
     "text": [
      "Elapsed Time: 938.05s | ETA: 20:34:12:  71%|██▏| 178/251 [15:38<08:02, 6.61s/it]"
     ]
    },
    {
     "name": "stdout",
     "output_type": "stream",
     "text": [
      "vi: brightness-setValue slots: {'device': 'light', 'brightness': '50'}\n",
      "[VI] Predicted brightness-setValue, Actual brightness-decrease\n",
      "[SLOTS] Predicted {\"brightness\": \"50\", \"device\": \"light\"}, \n",
      " Actual{\"brightnessDelta\": \"50\", \"device\": \"light\", \"location\": \"living room\"}\n",
      "VI_success: False slot_success: False\n"
     ]
    },
    {
     "name": "stderr",
     "output_type": "stream",
     "text": [
      "Elapsed Time: 945.74s | ETA: 22:42:21:  71%|██▏| 179/251 [15:45<08:19, 6.94s/it]"
     ]
    },
    {
     "name": "stdout",
     "output_type": "stream",
     "text": [
      "vi: colorMode-setValue slots: {'device': 'light', 'mode': 'Blue'}\n",
      "[VI] Predicted colorMode-setValue, Actual colorControl-setValue\n",
      "[SLOTS] Predicted {\"device\": \"light\", \"mode\": \"Blue\"}, \n",
      " Actual{\"device\": \"light\", \"location\": \"living room\", \"predefinedColorName:blue\": \"Blue\"}\n",
      "VI_success: False slot_success: False\n"
     ]
    },
    {
     "name": "stderr",
     "output_type": "stream",
     "text": [
      "Elapsed Time: 953.54s | ETA: 00:52:24:  72%|██▏| 180/251 [15:53<08:30, 7.20s/it]"
     ]
    },
    {
     "name": "stdout",
     "output_type": "stream",
     "text": [
      "vi: brightness-setValue slots: {'device': 'light', 'brightness': '25'}\n",
      "[SLOTS] Predicted {\"brightness\": \"25\", \"device\": \"light\"}, \n",
      " Actual{\"brightness\": \"25\", \"device\": \"light\", \"location\": \"living room\"}\n",
      "VI_success: True slot_success: False\n"
     ]
    },
    {
     "name": "stderr",
     "output_type": "stream",
     "text": [
      "Elapsed Time: 960.93s | ETA: 02:55:34:  72%|██▏| 181/251 [16:00<08:27, 7.25s/it]"
     ]
    },
    {
     "name": "stdout",
     "output_type": "stream",
     "text": [
      "vi: deviceTemperatureSetting-setValue slots: {'device': 'air conditioner', 'temperature': '24'}\n",
      "VI_success: True slot_success: True\n"
     ]
    },
    {
     "name": "stderr",
     "output_type": "stream",
     "text": [
      "Elapsed Time: 968.31s | ETA: 04:58:34:  73%|██▏| 182/251 [16:08<08:23, 7.29s/it]"
     ]
    },
    {
     "name": "stdout",
     "output_type": "stream",
     "text": [
      "vi: deviceTemperatureSetting-setValue slots: {'device': 'thermostat', 'temperature': '29'}\n",
      "VI_success: True slot_success: True\n"
     ]
    },
    {
     "name": "stderr",
     "output_type": "stream",
     "text": [
      "Elapsed Time: 972.31s | ETA: 06:05:09:  73%|██▏| 183/251 [16:12<07:08, 6.30s/it]"
     ]
    },
    {
     "name": "stdout",
     "output_type": "stream",
     "text": [
      "vi: device-turnOff slots: {'device': 'Air purifier'}\n",
      "VI_success: True slot_success: True\n"
     ]
    },
    {
     "name": "stderr",
     "output_type": "stream",
     "text": [
      "Elapsed Time: 979.90s | ETA: 08:11:43:  73%|██▏| 184/251 [16:19<07:28, 6.69s/it]"
     ]
    },
    {
     "name": "stdout",
     "output_type": "stream",
     "text": [
      "vi: channel-setByName slots: {'device': 'TV', 'compartment': 'tv', 'channel': '11'}\n",
      "[VI] Predicted channel-setByName, Actual channel-setByNumber\n",
      "[SLOTS] Predicted {\"channel\": \"11\", \"compartment\": \"tv\", \"device\": \"TV\"}, \n",
      " Actual{\"channel\": \"11\", \"device\": \"TV\"}\n",
      "VI_success: False slot_success: False\n"
     ]
    },
    {
     "name": "stderr",
     "output_type": "stream",
     "text": [
      "Elapsed Time: 987.30s | ETA: 10:15:02:  74%|██▏| 185/251 [16:27<07:35, 6.90s/it]"
     ]
    },
    {
     "name": "stdout",
     "output_type": "stream",
     "text": [
      "vi: brightness-setValue slots: {'device': 'light bulb', 'brightness': '25'}\n",
      "VI_success: True slot_success: True\n"
     ]
    },
    {
     "name": "stderr",
     "output_type": "stream",
     "text": [
      "Elapsed Time: 994.56s | ETA: 12:15:59:  74%|██▏| 186/251 [16:34<07:35, 7.01s/it]"
     ]
    },
    {
     "name": "stdout",
     "output_type": "stream",
     "text": [
      "vi: brightness-setValue slots: {'device': 'light', 'brightness': '50'}\n",
      "[VI] Predicted brightness-setValue, Actual brightness-increase\n",
      "[SLOTS] Predicted {\"brightness\": \"50\", \"device\": \"light\"}, \n",
      " Actual{\"brightnessDelta\": \"50\", \"device\": \"light\"}\n",
      "VI_success: False slot_success: False\n"
     ]
    },
    {
     "name": "stderr",
     "output_type": "stream",
     "text": [
      "Elapsed Time: 1001.83s | ETA: 14:17:05:  75%|█▍| 187/251 [16:41<07:33, 7.09s/it]"
     ]
    },
    {
     "name": "stdout",
     "output_type": "stream",
     "text": [
      "vi: brightness-setValue slots: {'device': 'light', 'brightness': '50'}\n",
      "[VI] Predicted brightness-setValue, Actual brightness-decrease\n",
      "[SLOTS] Predicted {\"brightness\": \"50\", \"device\": \"light\"}, \n",
      " Actual{\"brightnessDelta\": \"50\", \"device\": \"light\"}\n",
      "VI_success: False slot_success: False\n"
     ]
    },
    {
     "name": "stderr",
     "output_type": "stream",
     "text": [
      "Elapsed Time: 1005.82s | ETA: 15:23:36:  75%|█▍| 188/251 [16:45<06:27, 6.16s/it]"
     ]
    },
    {
     "name": "stdout",
     "output_type": "stream",
     "text": [
      "vi: device-turnOn slots: {'device': 'air purifier'}\n",
      "[VI] Predicted device-turnOn, Actual powerSwitch-getStatus\n",
      "[SLOTS] Predicted {\"device\": \"air purifier\"}, \n",
      " Actual{\"device\": \"air pufifier\"}\n",
      "VI_success: False slot_success: False\n"
     ]
    },
    {
     "name": "stderr",
     "output_type": "stream",
     "text": [
      "Elapsed Time: 1009.82s | ETA: 16:30:16:  75%|█▌| 189/251 [16:49<05:41, 5.51s/it]"
     ]
    },
    {
     "name": "stdout",
     "output_type": "stream",
     "text": [
      "vi: cleaning-stop slots: {'device': 'vaccum'}\n",
      "[SLOTS] Predicted {\"device\": \"vaccum\"}, \n",
      " Actual{\"device\": \"Vacuum\"}\n",
      "VI_success: True slot_success: False\n"
     ]
    },
    {
     "name": "stderr",
     "output_type": "stream",
     "text": [
      "Elapsed Time: 1013.82s | ETA: 17:36:58:  76%|█▌| 190/251 [16:53<05:08, 5.06s/it]"
     ]
    },
    {
     "name": "stdout",
     "output_type": "stream",
     "text": [
      "vi: device-turnOff slots: {'device': 'humidifier'}\n",
      "VI_success: True slot_success: True\n"
     ]
    },
    {
     "name": "stderr",
     "output_type": "stream",
     "text": [
      "Elapsed Time: 1020.76s | ETA: 19:32:40:  76%|█▌| 191/251 [17:00<05:37, 5.62s/it]"
     ]
    },
    {
     "name": "stdout",
     "output_type": "stream",
     "text": [
      "vi: range-setValue slots: {'device': 'range', 'value': 'on'}\n",
      "[VI] Predicted range-setValue, Actual powerSwitch-getStatus\n",
      "[SLOTS] Predicted {\"device\": \"range\", \"value\": \"on\"}, \n",
      " Actual{\"device\": \"range\"}\n",
      "VI_success: False slot_success: False\n"
     ]
    },
    {
     "name": "stderr",
     "output_type": "stream",
     "text": [
      "Elapsed Time: 1024.75s | ETA: 20:39:14:  76%|█▌| 192/251 [17:04<05:02, 5.13s/it]"
     ]
    },
    {
     "name": "stdout",
     "output_type": "stream",
     "text": [
      "vi: device-turnOn slots: {'device': 'dryer'}\n",
      "[VI] Predicted device-turnOn, Actual powerSwitch-getStatus\n",
      "VI_success: False slot_success: True\n"
     ]
    },
    {
     "name": "stderr",
     "output_type": "stream",
     "text": [
      "Elapsed Time: 1028.62s | ETA: 21:43:39:  77%|█▌| 193/251 [17:08<04:35, 4.75s/it]"
     ]
    },
    {
     "name": "stdout",
     "output_type": "stream",
     "text": [
      "vi: device-turnOff slots: {'device': 'hood'}\n",
      "VI_success: True slot_success: True\n"
     ]
    },
    {
     "name": "stderr",
     "output_type": "stream",
     "text": [
      "Elapsed Time: 1031.29s | ETA: 22:28:09:  77%|█▌| 194/251 [17:11<03:55, 4.13s/it]"
     ]
    },
    {
     "name": "stdout",
     "output_type": "stream",
     "text": [
      "vi: device-turnOn slots: {'device': 'airConditioner'}\n",
      "[VI] Predicted device-turnOn, Actual powerSwitch-getStatus\n",
      "[SLOTS] Predicted {\"device\": \"airConditioner\"}, \n",
      " Actual{\"device\": \"air conditioner\"}\n",
      "VI_success: False slot_success: False\n"
     ]
    },
    {
     "name": "stderr",
     "output_type": "stream",
     "text": [
      "Elapsed Time: 1035.41s | ETA: 23:36:54:  78%|█▌| 195/251 [17:15<03:51, 4.13s/it]"
     ]
    },
    {
     "name": "stdout",
     "output_type": "stream",
     "text": [
      "vi: deviceTemperatureSetting-get slots: {'device': 'air conditioner'}\n",
      "[VI] Predicted deviceTemperatureSetting-get, Actual deviceTemperatureSetting-getValue\n",
      "VI_success: False slot_success: True\n"
     ]
    },
    {
     "name": "stderr",
     "output_type": "stream",
     "text": [
      "Elapsed Time: 1039.41s | ETA: 00:43:27:  78%|█▌| 196/251 [17:19<03:44, 4.09s/it]"
     ]
    },
    {
     "name": "stdout",
     "output_type": "stream",
     "text": [
      "vi: deviceMode-get slots: {'device': 'air conditioner'}\n",
      "[VI] Predicted deviceMode-get, Actual airConditioningMode-getValue\n",
      "VI_success: False slot_success: True\n"
     ]
    },
    {
     "name": "stderr",
     "output_type": "stream",
     "text": [
      "Elapsed Time: 1044.33s | ETA: 02:05:34:  78%|█▌| 197/251 [17:24<03:54, 4.34s/it]"
     ]
    },
    {
     "name": "stdout",
     "output_type": "stream",
     "text": [
      "vi: cleaning-start slots: {'device': 'vaccum', 'location': 'house', 'room': 'Living Room'}\n",
      "[SLOTS] Predicted {\"device\": \"vaccum\", \"location\": \"house\", \"room\": \"Living Room\"}, \n",
      " Actual{}\n",
      "VI_success: True slot_success: False\n"
     ]
    },
    {
     "name": "stderr",
     "output_type": "stream",
     "text": [
      "Elapsed Time: 1047.28s | ETA: 02:54:35:  79%|█▌| 198/251 [17:27<03:27, 3.92s/it]"
     ]
    },
    {
     "name": "stdout",
     "output_type": "stream",
     "text": [
      "vi: oven-getStatus slots: {'location': 'house', 'device': 'oven'}\n",
      "[VI] Predicted oven-getStatus, Actual powerSwitch-getStatus\n",
      "[SLOTS] Predicted {\"device\": \"oven\", \"location\": \"house\"}, \n",
      " Actual{\"device\": \"oven\"}\n",
      "VI_success: False slot_success: False\n"
     ]
    },
    {
     "name": "stderr",
     "output_type": "stream",
     "text": [
      "Elapsed Time: 1049.88s | ETA: 03:38:00:  79%|█▌| 199/251 [17:29<03:03, 3.53s/it]"
     ]
    },
    {
     "name": "stdout",
     "output_type": "stream",
     "text": [
      "vi: device-turnOn slots: {'device': 'speaker'}\n",
      "[VI] Predicted device-turnOn, Actual powerSwitch-getStatus\n",
      "VI_success: False slot_success: True\n"
     ]
    },
    {
     "name": "stderr",
     "output_type": "stream",
     "text": [
      "Elapsed Time: 1053.87s | ETA: 04:44:33:  80%|█▌| 200/251 [17:33<03:06, 3.67s/it]"
     ]
    },
    {
     "name": "stdout",
     "output_type": "stream",
     "text": [
      "vi: powerSwitch-getStatus slots: {'device': 'speaker'}\n",
      "[VI] Predicted powerSwitch-getStatus, Actual volume-getValue\n",
      "VI_success: False slot_success: True\n"
     ]
    },
    {
     "name": "stderr",
     "output_type": "stream",
     "text": [
      "Elapsed Time: 1058.41s | ETA: 06:00:06:  80%|█▌| 201/251 [17:38<03:16, 3.93s/it]"
     ]
    },
    {
     "name": "stdout",
     "output_type": "stream",
     "text": [
      "vi: cleaning-start slots: {'device': 'vaccum', 'location': 'living room'}\n",
      "[SLOTS] Predicted {\"device\": \"vaccum\", \"location\": \"living room\"}, \n",
      " Actual{\"rvcLocation\": \"living room\"}\n",
      "VI_success: True slot_success: False\n"
     ]
    },
    {
     "name": "stderr",
     "output_type": "stream",
     "text": [
      "Elapsed Time: 1062.87s | ETA: 07:14:29:  80%|█▌| 202/251 [17:42<03:20, 4.09s/it]"
     ]
    },
    {
     "name": "stdout",
     "output_type": "stream",
     "text": [
      "vi: get-brightness slots: {'device': 'light'}\n",
      "[VI] Predicted get-brightness, Actual brightness-getValue\n",
      "[SLOTS] Predicted {\"device\": \"light\"}, \n",
      " Actual{\"device\": \"light\", \"location\": \"living room\"}\n",
      "VI_success: False slot_success: False\n"
     ]
    },
    {
     "name": "stderr",
     "output_type": "stream",
     "text": [
      "Elapsed Time: 1065.94s | ETA: 08:05:35:  81%|█▌| 203/251 [17:45<03:01, 3.78s/it]"
     ]
    },
    {
     "name": "stdout",
     "output_type": "stream",
     "text": [
      "vi: device-turnOn slots: {'device': 'light', 'location': 'Living Room'}\n",
      "[VI] Predicted device-turnOn, Actual powerSwitch-getStatus\n",
      "[SLOTS] Predicted {\"device\": \"light\", \"location\": \"Living Room\"}, \n",
      " Actual{\"device\": \"light\", \"location\": \"living room\"}\n",
      "VI_success: False slot_success: False\n"
     ]
    },
    {
     "name": "stderr",
     "output_type": "stream",
     "text": [
      "Elapsed Time: 1068.47s | ETA: 08:47:54:  81%|█▋| 204/251 [17:48<02:40, 3.41s/it]"
     ]
    },
    {
     "name": "stdout",
     "output_type": "stream",
     "text": [
      "vi: device-turnOn slots: {'device': 'light'}\n",
      "[VI] Predicted device-turnOn, Actual powerSwitch-getStatus\n",
      "VI_success: False slot_success: True\n"
     ]
    },
    {
     "name": "stderr",
     "output_type": "stream",
     "text": [
      "Elapsed Time: 1075.13s | ETA: 10:38:48:  82%|█▋| 205/251 [17:55<03:21, 4.38s/it]"
     ]
    },
    {
     "name": "stdout",
     "output_type": "stream",
     "text": [
      "vi: brightness-getValue slots: {'device': 'light'}\n",
      "VI_success: True slot_success: True\n"
     ]
    },
    {
     "name": "stderr",
     "output_type": "stream",
     "text": [
      "Elapsed Time: 1079.13s | ETA: 11:45:27:  82%|█▋| 206/251 [17:59<03:12, 4.27s/it]"
     ]
    },
    {
     "name": "stdout",
     "output_type": "stream",
     "text": [
      "vi: cleaning-start slots: {'device': 'air conditioner'}\n",
      "[SLOTS] Predicted {\"device\": \"air conditioner\"}, \n",
      " Actual{\"rvcObject\": \"air conditioner\"}\n",
      "VI_success: True slot_success: False\n"
     ]
    },
    {
     "name": "stderr",
     "output_type": "stream",
     "text": [
      "Elapsed Time: 1081.74s | ETA: 12:28:55:  82%|█▋| 207/251 [18:01<02:45, 3.77s/it]"
     ]
    },
    {
     "name": "stdout",
     "output_type": "stream",
     "text": [
      "vi: device-turnOn slots: {'device': 'outlet'}\n",
      "[VI] Predicted device-turnOn, Actual powerSwitch-getStatus\n",
      "VI_success: False slot_success: True\n"
     ]
    },
    {
     "name": "stderr",
     "output_type": "stream",
     "text": [
      "Elapsed Time: 1084.27s | ETA: 13:11:09:  83%|█▋| 208/251 [18:04<02:26, 3.40s/it]"
     ]
    },
    {
     "name": "stdout",
     "output_type": "stream",
     "text": [
      "vi: device-turnOn slots: {'device': 'switch'}\n",
      "[VI] Predicted device-turnOn, Actual powerSwitch-getStatus\n",
      "VI_success: False slot_success: True\n"
     ]
    },
    {
     "name": "stderr",
     "output_type": "stream",
     "text": [
      "Elapsed Time: 1088.26s | ETA: 14:17:38:  83%|█▋| 209/251 [18:08<02:30, 3.58s/it]"
     ]
    },
    {
     "name": "stdout",
     "output_type": "stream",
     "text": [
      "vi: device-turnOn slots: {'device': 'heat mat'}\n",
      "VI_success: True slot_success: True\n"
     ]
    },
    {
     "name": "stderr",
     "output_type": "stream",
     "text": [
      "Elapsed Time: 1092.25s | ETA: 15:24:12:  84%|█▋| 210/251 [18:12<02:31, 3.70s/it]"
     ]
    },
    {
     "name": "stdout",
     "output_type": "stream",
     "text": [
      "vi: device-turnOn slots: {'device': 'thermostat'}\n",
      "[VI] Predicted device-turnOn, Actual powerSwitch-getStatus\n",
      "VI_success: False slot_success: True\n"
     ]
    },
    {
     "name": "stderr",
     "output_type": "stream",
     "text": [
      "Elapsed Time: 1094.79s | ETA: 16:06:25:  84%|█▋| 211/251 [18:14<02:14, 3.35s/it]"
     ]
    },
    {
     "name": "stdout",
     "output_type": "stream",
     "text": [
      "vi: device-turnOn slots: {'device': 'TV'}\n",
      "[VI] Predicted device-turnOn, Actual powerSwitch-getStatus\n",
      "VI_success: False slot_success: True\n"
     ]
    },
    {
     "name": "stderr",
     "output_type": "stream",
     "text": [
      "Elapsed Time: 1102.37s | ETA: 18:12:51:  84%|█▋| 212/251 [18:22<03:00, 4.62s/it]"
     ]
    },
    {
     "name": "stdout",
     "output_type": "stream",
     "text": [
      "vi: channel-setByName slots: {'device': 'TV', 'compartment': 'channel', 'name': 'HBO'}\n",
      "[VI] Predicted channel-setByName, Actual channel-getValue\n",
      "[SLOTS] Predicted {\"compartment\": \"channel\", \"device\": \"TV\", \"name\": \"HBO\"}, \n",
      " Actual{\"device\": \"TV\"}\n",
      "VI_success: False slot_success: False\n"
     ]
    },
    {
     "name": "stderr",
     "output_type": "stream",
     "text": [
      "Elapsed Time: 1108.89s | ETA: 20:01:28:  85%|█▋| 213/251 [18:28<03:17, 5.19s/it]"
     ]
    },
    {
     "name": "stdout",
     "output_type": "stream",
     "text": [
      "vi: volume-getValue slots: {'device': 'TV'}\n",
      "VI_success: True slot_success: True\n"
     ]
    },
    {
     "name": "stderr",
     "output_type": "stream",
     "text": [
      "Elapsed Time: 1112.96s | ETA: 21:09:19:  85%|█▋| 214/251 [18:32<02:59, 4.85s/it]"
     ]
    },
    {
     "name": "stdout",
     "output_type": "stream",
     "text": [
      "vi: device-getStatus slots: {'device': 'dishwasher'}\n",
      "[VI] Predicted device-getStatus, Actual powerSwitch-getStatus\n",
      "VI_success: False slot_success: True\n"
     ]
    },
    {
     "name": "stderr",
     "output_type": "stream",
     "text": [
      "Elapsed Time: 1118.23s | ETA: 22:37:06:  86%|█▋| 215/251 [18:38<02:59, 4.98s/it]"
     ]
    },
    {
     "name": "stdout",
     "output_type": "stream",
     "text": [
      "vi: device-turnOff slots: {'device': 'TV'}\n",
      "[VI] Predicted device-turnOff, Actual mute-turnOn\n",
      "VI_success: False slot_success: True\n"
     ]
    },
    {
     "name": "stderr",
     "output_type": "stream",
     "text": [
      "Elapsed Time: 1122.25s | ETA: 23:44:13:  86%|█▋| 216/251 [18:42<02:44, 4.69s/it]"
     ]
    },
    {
     "name": "stdout",
     "output_type": "stream",
     "text": [
      "vi: mute-turnOn slots: {'device': 'speaker'}\n",
      "VI_success: True slot_success: True\n"
     ]
    },
    {
     "name": "stderr",
     "output_type": "stream",
     "text": [
      "Elapsed Time: 1128.90s | ETA: 01:34:59:  86%|█▋| 217/251 [18:48<02:59, 5.28s/it]"
     ]
    },
    {
     "name": "stdout",
     "output_type": "stream",
     "text": [
      "vi: mute-turnOff slots: {'device': 'TV'}\n",
      "VI_success: True slot_success: True\n"
     ]
    },
    {
     "name": "stderr",
     "output_type": "stream",
     "text": [
      "Elapsed Time: 1136.94s | ETA: 03:49:03:  87%|█▋| 218/251 [18:56<03:21, 6.11s/it]"
     ]
    },
    {
     "name": "stdout",
     "output_type": "stream",
     "text": [
      "vi: mute-turnOff slots: {'device': 'speaker'}\n",
      "VI_success: True slot_success: True\n"
     ]
    },
    {
     "name": "stderr",
     "output_type": "stream",
     "text": [
      "Elapsed Time: 1140.94s | ETA: 04:55:43:  87%|█▋| 219/251 [19:00<02:55, 5.48s/it]"
     ]
    },
    {
     "name": "stdout",
     "output_type": "stream",
     "text": [
      "vi: device-turnOn slots: {'device': 'cooktop hood'}\n",
      "VI_success: True slot_success: True\n"
     ]
    },
    {
     "name": "stderr",
     "output_type": "stream",
     "text": [
      "Elapsed Time: 1143.55s | ETA: 05:39:09:  88%|█▊| 220/251 [19:03<02:23, 4.61s/it]"
     ]
    },
    {
     "name": "stdout",
     "output_type": "stream",
     "text": [
      "vi: device-turnOn slots: {'device': 'speaker'}\n",
      "[VI] Predicted device-turnOn, Actual media-play\n",
      "VI_success: False slot_success: True\n"
     ]
    },
    {
     "name": "stderr",
     "output_type": "stream",
     "text": [
      "Elapsed Time: 1146.09s | ETA: 06:21:28:  88%|█▊| 221/251 [19:06<01:59, 3.99s/it]"
     ]
    },
    {
     "name": "stdout",
     "output_type": "stream",
     "text": [
      "vi: device-turnOn slots: {'device': 'tv'}\n",
      "[VI] Predicted device-turnOn, Actual media-play\n",
      "[SLOTS] Predicted {\"device\": \"tv\"}, \n",
      " Actual{\"device\": \"TV\"}\n",
      "VI_success: False slot_success: False\n"
     ]
    },
    {
     "name": "stderr",
     "output_type": "stream",
     "text": [
      "Elapsed Time: 1150.03s | ETA: 07:27:09:  88%|█▊| 222/251 [19:10<01:55, 3.98s/it]"
     ]
    },
    {
     "name": "stdout",
     "output_type": "stream",
     "text": [
      "vi: device-turnOff slots: {'device': 'speaker'}\n",
      "[VI] Predicted device-turnOff, Actual media-pause\n",
      "VI_success: False slot_success: True\n"
     ]
    },
    {
     "name": "stderr",
     "output_type": "stream",
     "text": [
      "Elapsed Time: 1154.02s | ETA: 08:33:43:  89%|█▊| 223/251 [19:14<01:51, 3.98s/it]"
     ]
    },
    {
     "name": "stdout",
     "output_type": "stream",
     "text": [
      "vi: device-turnOn slots: {'device': 'cooktop hood'}\n",
      "VI_success: True slot_success: True\n"
     ]
    },
    {
     "name": "stderr",
     "output_type": "stream",
     "text": [
      "Elapsed Time: 1156.63s | ETA: 09:17:08:  89%|█▊| 224/251 [19:16<01:36, 3.57s/it]"
     ]
    },
    {
     "name": "stdout",
     "output_type": "stream",
     "text": [
      "vi: device-listing slots: {'location': 'office'}\n",
      "[VI] Predicted device-listing, Actual device-getList\n",
      "VI_success: False slot_success: True\n"
     ]
    },
    {
     "name": "stderr",
     "output_type": "stream",
     "text": [
      "Elapsed Time: 1159.11s | ETA: 09:58:26:  90%|█▊| 225/251 [19:19<01:24, 3.24s/it]"
     ]
    },
    {
     "name": "stdout",
     "output_type": "stream",
     "text": [
      "vi: device-list slots: {'location': 'home'}\n",
      "[VI] Predicted device-list, Actual device-getList\n",
      "VI_success: False slot_success: True\n"
     ]
    },
    {
     "name": "stderr",
     "output_type": "stream",
     "text": [
      "Elapsed Time: 1161.65s | ETA: 10:40:48:  90%|█▊| 226/251 [19:21<01:15, 3.03s/it]"
     ]
    },
    {
     "name": "stdout",
     "output_type": "stream",
     "text": [
      "vi: device-turnOff slots: {'device': 'tv'}\n",
      "[VI] Predicted device-turnOff, Actual application-exit\n",
      "[SLOTS] Predicted {\"device\": \"tv\"}, \n",
      " Actual{\"device\": \"TV\"}\n",
      "VI_success: False slot_success: False\n"
     ]
    },
    {
     "name": "stderr",
     "output_type": "stream",
     "text": [
      "Elapsed Time: 1169.17s | ETA: 12:46:05:  90%|█▊| 227/251 [19:29<01:45, 4.38s/it]"
     ]
    },
    {
     "name": "stdout",
     "output_type": "stream",
     "text": [
      "vi: media-play slots: {'device': 'TV', 'appname': 'Netflix', 'title': 'The Office'}\n",
      "[VI] Predicted media-play, Actual application-launch\n",
      "[SLOTS] Predicted {\"appname\": \"Netflix\", \"device\": \"TV\", \"title\": \"The Office\"}, \n",
      " Actual{\"appname:netflix\": \"Netflix\", \"device\": \"TV\"}\n",
      "VI_success: False slot_success: False\n"
     ]
    },
    {
     "name": "stderr",
     "output_type": "stream",
     "text": [
      "Elapsed Time: 1173.23s | ETA: 13:53:53:  91%|█▊| 228/251 [19:33<01:38, 4.28s/it]"
     ]
    },
    {
     "name": "stdout",
     "output_type": "stream",
     "text": [
      "vi: device-turnOn slots: {'device': 'microwave hood'}\n",
      "VI_success: True slot_success: True\n"
     ]
    },
    {
     "name": "stderr",
     "output_type": "stream",
     "text": [
      "Elapsed Time: 1180.37s | ETA: 15:52:51:  91%|█▊| 229/251 [19:40<01:53, 5.14s/it]"
     ]
    },
    {
     "name": "stdout",
     "output_type": "stream",
     "text": [
      "vi: media-play slots: {'device': 'TV', 'compartment': 'music'}\n",
      "[VI] Predicted media-play, Actual application-launch\n",
      "[SLOTS] Predicted {\"compartment\": \"music\", \"device\": \"TV\"}, \n",
      " Actual{\"appname:music\": \"Music\", \"device\": \"TV\"}\n",
      "VI_success: False slot_success: False\n"
     ]
    },
    {
     "name": "stderr",
     "output_type": "stream",
     "text": [
      "Elapsed Time: 1187.10s | ETA: 17:44:58:  92%|█▊| 230/251 [19:47<01:57, 5.62s/it]"
     ]
    },
    {
     "name": "stdout",
     "output_type": "stream",
     "text": [
      "vi: homeShopping-launch slots: {'device': 'TV'}\n",
      "[VI] Predicted homeShopping-launch, Actual application-launch\n",
      "[SLOTS] Predicted {\"device\": \"TV\"}, \n",
      " Actual{\"appname:homeShoppingPlus\": \"home shopping plus\", \"device\": \"TV\"}\n",
      "VI_success: False slot_success: False\n"
     ]
    },
    {
     "name": "stderr",
     "output_type": "stream",
     "text": [
      "Elapsed Time: 1194.41s | ETA: 19:46:49:  92%|█▊| 231/251 [19:54<02:02, 6.12s/it]"
     ]
    },
    {
     "name": "stdout",
     "output_type": "stream",
     "text": [
      "vi: browser-open slots: {'device': 'TV', 'url': 'https://www.google.com'}\n",
      "[VI] Predicted browser-open, Actual application-launch\n",
      "[SLOTS] Predicted {\"device\": \"TV\", \"url\": \"https://www.google.com\"}, \n",
      " Actual{\"appname:webBrowser\": \"web browser\", \"device\": \"TV\", \"title\": \"google\"}\n",
      "VI_success: False slot_success: False\n"
     ]
    },
    {
     "name": "stderr",
     "output_type": "stream",
     "text": [
      "Elapsed Time: 1202.15s | ETA: 21:55:51:  92%|█▊| 232/251 [20:02<02:05, 6.61s/it]"
     ]
    },
    {
     "name": "stdout",
     "output_type": "stream",
     "text": [
      "vi: media-play slots: {'device': 'TV', 'compartment': 'Youtube', 'title': 'Emma Watson'}\n",
      "[VI] Predicted media-play, Actual application-searchIn\n",
      "[SLOTS] Predicted {\"compartment\": \"Youtube\", \"device\": \"TV\", \"title\": \"Emma Watson\"}, \n",
      " Actual{\"appname:youtube\": \"Youtube\", \"device\": \"TV\", \"title\": \"Emma Watson\"}\n",
      "VI_success: False slot_success: False\n"
     ]
    },
    {
     "name": "stderr",
     "output_type": "stream",
     "text": [
      "Elapsed Time: 1204.69s | ETA: 22:38:11:  93%|█▊| 233/251 [20:04<01:37, 5.39s/it]"
     ]
    },
    {
     "name": "stdout",
     "output_type": "stream",
     "text": [
      "vi: identify-device slots: {'location': 'house'}\n",
      "[VI] Predicted identify-device, Actual device-getList\n",
      "[SLOTS] Predicted {\"location\": \"house\"}, \n",
      " Actual{\"location\": \"home\"}\n",
      "VI_success: False slot_success: False\n"
     ]
    },
    {
     "name": "stderr",
     "output_type": "stream",
     "text": [
      "Elapsed Time: 1207.36s | ETA: 23:22:42:  93%|█▊| 234/251 [20:07<01:17, 4.57s/it]"
     ]
    },
    {
     "name": "stdout",
     "output_type": "stream",
     "text": [
      "vi: device-getList slots: {'location': 'livingroom'}\n",
      "VI_success: True slot_success: True\n",
      "Error\n"
     ]
    },
    {
     "name": "stderr",
     "output_type": "stream",
     "text": [
      "Elapsed Time: 1221.37s | ETA: 03:16:09:  94%|█▊| 235/251 [20:21<01:58, 7.40s/it]"
     ]
    },
    {
     "name": "stdout",
     "output_type": "stream",
     "text": [
      "vi: device-turnOn slots: {'device': 'microwave'}\n",
      "VI_success: True slot_success: True\n"
     ]
    },
    {
     "name": "stderr",
     "output_type": "stream",
     "text": [
      "Elapsed Time: 1225.44s | ETA: 04:23:55:  94%|█▉| 236/251 [20:25<01:36, 6.40s/it]"
     ]
    },
    {
     "name": "stdout",
     "output_type": "stream",
     "text": [
      "vi: device-turnOff slots: {'device': 'refrigerator'}\n",
      "[VI] Predicted device-turnOff, Actual door-close\n",
      "VI_success: False slot_success: True\n"
     ]
    },
    {
     "name": "stderr",
     "output_type": "stream",
     "text": [
      "Elapsed Time: 1229.44s | ETA: 05:30:35:  94%|█▉| 237/251 [20:29<01:19, 5.68s/it]"
     ]
    },
    {
     "name": "stdout",
     "output_type": "stream",
     "text": [
      "vi: device-turnOff slots: {'device': 'garage door'}\n",
      "[VI] Predicted device-turnOff, Actual door-close\n",
      "VI_success: False slot_success: True\n"
     ]
    },
    {
     "name": "stderr",
     "output_type": "stream",
     "text": [
      "Elapsed Time: 1236.64s | ETA: 07:30:39:  95%|█▉| 238/251 [20:36<01:19, 6.14s/it]"
     ]
    },
    {
     "name": "stdout",
     "output_type": "stream",
     "text": [
      "vi: cooking-start slots: {'device': 'microwave', 'mode': 'bake'}\n",
      "[VI] Predicted cooking-start, Actual cooking-startCourse\n",
      "[SLOTS] Predicted {\"device\": \"microwave\", \"mode\": \"bake\"}, \n",
      " Actual{\"device\": \"microwave\", \"mode\": \"speed bake\"}\n",
      "VI_success: False slot_success: False\n"
     ]
    },
    {
     "name": "stderr",
     "output_type": "stream",
     "text": [
      "Elapsed Time: 1244.43s | ETA: 09:40:29:  95%|█▉| 239/251 [20:44<01:19, 6.63s/it]"
     ]
    },
    {
     "name": "stdout",
     "output_type": "stream",
     "text": [
      "vi: cooking-start slots: {'device': 'microwave', 'mode': 'bake', 'temperature': '180'}\n",
      "[VI] Predicted cooking-start, Actual cooking-startCourse\n",
      "[SLOTS] Predicted {\"device\": \"microwave\", \"mode\": \"bake\", \"temperature\": \"180\"}, \n",
      " Actual{\"device\": \"microwave\", \"mode\": \"speed bake\", \"temperature\": \"180\"}\n",
      "VI_success: False slot_success: False\n"
     ]
    },
    {
     "name": "stderr",
     "output_type": "stream",
     "text": [
      "Elapsed Time: 1251.63s | ETA: 11:40:30:  96%|█▉| 240/251 [20:51<01:14, 6.80s/it]"
     ]
    },
    {
     "name": "stdout",
     "output_type": "stream",
     "text": [
      "vi: cooking-start slots: {'device': 'microwave', 'mode': 'bake'}\n",
      "[VI] Predicted cooking-start, Actual cooking-startCourse\n",
      "[SLOTS] Predicted {\"device\": \"microwave\", \"mode\": \"bake\"}, \n",
      " Actual{\"device\": \"microwave\", \"mode\": \"speed bake\", \"timer\": \"30 mins\"}\n",
      "VI_success: False slot_success: False\n"
     ]
    },
    {
     "name": "stderr",
     "output_type": "stream",
     "text": [
      "Elapsed Time: 1259.43s | ETA: 13:50:33:  96%|█▉| 241/251 [20:59<01:11, 7.10s/it]"
     ]
    },
    {
     "name": "stdout",
     "output_type": "stream",
     "text": [
      "vi: cooking-start slots: {'device': 'microwave', 'mode': 'bake', 'temperature': '180'}\n",
      "[VI] Predicted cooking-start, Actual cooking-startCourse\n",
      "[SLOTS] Predicted {\"device\": \"microwave\", \"mode\": \"bake\", \"temperature\": \"180\"}, \n",
      " Actual{\"device\": \"microwave\", \"mode\": \"speed bake\", \"temperature\": \"180\", \"timer\": \"30 mins\"}\n",
      "VI_success: False slot_success: False\n"
     ]
    },
    {
     "name": "stderr",
     "output_type": "stream",
     "text": [
      "Elapsed Time: 1263.43s | ETA: 14:57:08:  96%|█▉| 242/251 [21:03<00:55, 6.17s/it]"
     ]
    },
    {
     "name": "stdout",
     "output_type": "stream",
     "text": [
      "vi: device-turnOn slots: {'device': 'mood lighting'}\n",
      "VI_success: True slot_success: True\n"
     ]
    },
    {
     "name": "stderr",
     "output_type": "stream",
     "text": [
      "Elapsed Time: 1267.35s | ETA: 16:02:33:  97%|█▉| 243/251 [21:07<00:43, 5.50s/it]"
     ]
    },
    {
     "name": "stdout",
     "output_type": "stream",
     "text": [
      "vi: device-turnOn slots: {'device': 'vent switch'}\n",
      "VI_success: True slot_success: True\n"
     ]
    },
    {
     "name": "stderr",
     "output_type": "stream",
     "text": [
      "Elapsed Time: 1271.49s | ETA: 17:11:25:  97%|█▉| 244/251 [21:11<00:35, 5.09s/it]"
     ]
    },
    {
     "name": "stdout",
     "output_type": "stream",
     "text": [
      "vi: device-turnOn slots: {'device': 'shoe dresser'}\n",
      "[VI] Predicted device-turnOn, Actual dressing-start\n",
      "VI_success: False slot_success: True\n"
     ]
    },
    {
     "name": "stderr",
     "output_type": "stream",
     "text": [
      "Elapsed Time: 1275.48s | ETA: 18:18:01:  98%|█▉| 245/251 [21:15<00:28, 4.76s/it]"
     ]
    },
    {
     "name": "stdout",
     "output_type": "stream",
     "text": [
      "vi: device-turnOff slots: {'device': 'heating mat'}\n",
      "VI_success: True slot_success: True\n"
     ]
    },
    {
     "name": "stderr",
     "output_type": "stream",
     "text": [
      "Elapsed Time: 1281.48s | ETA: 19:57:55:  98%|█▉| 246/251 [21:21<00:25, 5.13s/it]"
     ]
    },
    {
     "name": "stdout",
     "output_type": "stream",
     "text": [
      "vi: deviceMode-setValue slots: {'device': 'air conditioner', 'mode': 'dehumidification'}\n",
      "[VI] Predicted deviceMode-setValue, Actual airConditioningMode-setValue\n",
      "[SLOTS] Predicted {\"device\": \"air conditioner\", \"mode\": \"dehumidification\"}, \n",
      " Actual{\"device\": \"air conditioner\", \"mode:dry\": \"dehumidification\"}\n",
      "VI_success: False slot_success: False\n"
     ]
    },
    {
     "name": "stderr",
     "output_type": "stream",
     "text": [
      "Elapsed Time: 1289.21s | ETA: 22:06:46:  98%|█▉| 247/251 [21:29<00:23, 5.91s/it]"
     ]
    },
    {
     "name": "stdout",
     "output_type": "stream",
     "text": [
      "vi: washing-startCourse slots: {'device': 'dishes', 'compartment': 'top', 'mode': 'auto'}\n",
      "[VI] Predicted washing-startCourse, Actual dishWashing-start\n",
      "[SLOTS] Predicted {\"compartment\": \"top\", \"device\": \"dishes\", \"mode\": \"auto\"}, \n",
      " Actual{\"device\": \"dishwasher\"}\n",
      "VI_success: False slot_success: False\n"
     ]
    },
    {
     "name": "stderr",
     "output_type": "stream",
     "text": [
      "Elapsed Time: 1293.62s | ETA: 23:20:16:  99%|█▉| 248/251 [21:33<00:15, 5.22s/it]"
     ]
    },
    {
     "name": "stdout",
     "output_type": "stream",
     "text": [
      "vi: device-turnOn slots: {'device': 'lighting'}\n",
      "[SLOTS] Predicted {\"device\": \"lighting\"}, \n",
      " Actual{\"device\": \"interior lighting\", \"location\": \"kitchen\"}\n",
      "VI_success: True slot_success: False\n",
      "Overall Success Rate: 28.63%\n",
      "VI Success Rate: 43.15%\n",
      "Slot Success Rate: 51.61%\n",
      "Test cases not classified: 3\n"
     ]
    },
    {
     "name": "stderr",
     "output_type": "stream",
     "text": [
      "\n"
     ]
    }
   ],
   "source": [
    "evaluate_model_performance(\"tcs//\", csvFileName)"
   ]
  },
  {
   "cell_type": "code",
   "execution_count": null,
   "id": "b2ba449c-3375-46e6-88f3-35adad831e71",
   "metadata": {},
   "outputs": [],
   "source": []
  }
 ],
 "metadata": {
  "kernelspec": {
   "display_name": "griham",
   "language": "python",
   "name": "griham"
  },
  "language_info": {
   "codemirror_mode": {
    "name": "ipython",
    "version": 3
   },
   "file_extension": ".py",
   "mimetype": "text/x-python",
   "name": "python",
   "nbconvert_exporter": "python",
   "pygments_lexer": "ipython3",
   "version": "3.10.14"
  }
 },
 "nbformat": 4,
 "nbformat_minor": 5
}
