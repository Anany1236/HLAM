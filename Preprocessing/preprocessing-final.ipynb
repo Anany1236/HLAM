{
 "cells": [
  {
   "cell_type": "markdown",
   "id": "6f65bbb8-10e0-47fa-962f-88e300988644",
   "metadata": {},
   "source": [
    "## Pre-Processing"
   ]
  },
  {
   "cell_type": "code",
   "execution_count": 1,
   "id": "c12c5be8-65fa-4a17-b838-2503db7b559c",
   "metadata": {},
   "outputs": [],
   "source": [
    "base_model = \"./mistral-7b-instruct-v02\""
   ]
  },
  {
   "cell_type": "code",
   "execution_count": 2,
   "id": "7c64ec79-d068-4bb3-bc77-d475fc7cd655",
   "metadata": {},
   "outputs": [],
   "source": [
    "from transformers import AutoModelForCausalLM, AutoTokenizer, BitsAndBytesConfig,HfArgumentParser,TrainingArguments,pipeline, logging\n",
    "from peft import LoraConfig, PeftModel, prepare_model_for_kbit_training, get_peft_model\n",
    "import os, torch\n",
    "from datasets import load_dataset, load_from_disk\n",
    "from trl import SFTTrainer\n",
    "import pandas as pd\n",
    "import json, re\n",
    "tokenizer = AutoTokenizer.from_pretrained(base_model, trust_remote_code=True)"
   ]
  },
  {
   "cell_type": "markdown",
   "id": "fa853c5c-d70a-439b-b37f-2d1e675bc980",
   "metadata": {},
   "source": [
    "Directory containing the JSON files"
   ]
  },
  {
   "cell_type": "code",
   "execution_count": 3,
   "id": "9ba791ef-2b01-449f-a7d5-360307f3f6d1",
   "metadata": {},
   "outputs": [],
   "source": [
    "directory = 'training_data-18'\n",
    "numbers = re.findall(r'\\d+', directory)"
   ]
  },
  {
   "cell_type": "code",
   "execution_count": 4,
   "id": "8cc34a7b-940b-426f-a60a-bd74cf9cbf4e",
   "metadata": {},
   "outputs": [],
   "source": [
    "sys_prompt = \"\"\"\n",
    "\n",
    "You are a smart home IOT agent.\n",
    "You will be given a user command enclosed within @@@ Task @@@.\n",
    "\n",
    "You have to generate step by step execution plan for the given user command in json format enclosed between !!!:\n",
    "!!!\n",
    "%%%%%%%\n",
    "{\n",
    "\n",
    "    \"tool_calls\": [\n",
    "        {\n",
    "            \"function_name\": \"function 1\",\n",
    "            \"arguments\": \n",
    "                {\n",
    "                    \"argument_name 1\": \"argument value\"\n",
    "                }\n",
    "         },\n",
    "         {\n",
    "            \"function_name\": \"function 2\",\n",
    "            \"arguments\": \n",
    "                {\n",
    "                    \"argument_name 1\": \"argument value\",\n",
    "                    \"argument_name 2\": \"argument value\"\n",
    "                }\n",
    "        }\n",
    "    ]\n",
    "}\n",
    "%%%%%%%\n",
    "!!!\n",
    "Keywords are defined as below:\n",
    "\n",
    "tool_calls: List of tool call objects, where each tool call object contains:  \n",
    "    - function_name: It is name of single execution step for the complete plan. (e.g., identify_device, powerSwitch_getStatus, etc.) Plan can have 1 or more functions in response.\n",
    "    - arguments: Dictionary of arguments for the function_name, which are required for execution of the function. (e.g., device, location, application, title, etc.)\n",
    "\n",
    "Do not add any superfluous steps. Make sure that each step has all the information needed - do not skip steps.\n",
    "If it is impossible to generate step by step plan, reply empty list of function. Ensure to enclose the output with \"%%%%%%%\" after generating with the json format. Do not generate anything after the second %%%%%%%.\n",
    "\n",
    "\n",
    "\n",
    "\"\"\""
   ]
  },
  {
   "cell_type": "code",
   "execution_count": 5,
   "id": "446b2c69-bc65-4270-a2b1-fcbd19913d86",
   "metadata": {},
   "outputs": [],
   "source": [
    "sys_prompt_implicit = \"\"\"\n",
    "\n",
    "You are a smart home IOT agent.\n",
    "You will be given a user command enclosed within @@@ Task @@@.\n",
    "\n",
    "You have to generate step by step execution plan for the given user command in json format enclosed between !!!:\n",
    "!!!\n",
    "%%%%%%%\n",
    "{\n",
    "\n",
    "    \"tool_calls\": [\n",
    "        {\n",
    "            \"function_name\": \"function 1\",\n",
    "            \"arguments\": \n",
    "                {\n",
    "                    \"argument_name 1\": \"argument value\"\n",
    "                }\n",
    "         },\n",
    "         {\n",
    "            \"function_name\": \"function 2\",\n",
    "            \"arguments\": \n",
    "                {\n",
    "                    \"argument_name 1\": \"argument value\",\n",
    "                    \"argument_name 2\": \"argument value\"\n",
    "                }\n",
    "        }\n",
    "    ]\n",
    "}\n",
    "%%%%%%%\n",
    "!!!\n",
    "Keywords are defined as below:\n",
    "\n",
    "tool_calls: List of tool call objects, where each tool call object contains:  \n",
    "    - function_name: It is name of single execution step for the complete plan. (e.g., identify_device, powerSwitch_getStatus, etc.) Plan can have 1 or more functions in response.\n",
    "    - arguments: Dictionary of arguments for the function_name, which are required for execution of the function. (e.g., device, location, application, title, etc.)\n",
    "\n",
    "Use homecontext to understand the devices, and only consider devices mentioned in the homecontext data. Do not generate prediction for irrelavant devices.\n",
    "\n",
    "Do not add any superfluous steps. Make sure that each step has all the information needed - do not skip steps.\n",
    "If it is impossible to generate step by step plan, reply empty list of function. Ensure to enclose the output with \"%%%%%%%\" after generating with the json format. Do not generate anything after the second %%%%%%%.\n",
    "\n",
    "\n",
    "\n",
    "\"\"\""
   ]
  },
  {
   "cell_type": "markdown",
   "id": "602b42fe-3f5c-4a1d-934d-3d59313488c3",
   "metadata": {},
   "source": [
    "Function to transform a single JSON file"
   ]
  },
  {
   "cell_type": "code",
   "execution_count": 6,
   "id": "1d2a4989-96a6-4e80-8152-0807cc84d309",
   "metadata": {},
   "outputs": [],
   "source": [
    "def transform_json(input_json):\n",
    "    chat = []\n",
    "    \n",
    "    # Extract system prompt, user content, and tools content\n",
    "    system_prompt = sys_prompt\n",
    "    user_content = \"\"\n",
    "    tools_content = \"### TOOLS ### \"\n",
    "\n",
    "    for message in input_json['messages']:\n",
    "#        if message['role'] == 'system':\n",
    "#            system_prompt = sys_prompt\n",
    "        if message['role'] == 'context':\n",
    "            system_prompt = sys_prompt\n",
    "            system_prompt += \" \" + json.dumps(message['content'])\n",
    "        elif message['role'] == 'user':\n",
    "            user_content = '@@@'+message['content'] + \"@@@\"\n",
    "#         elif message['role'] == 'tool':\n",
    "#             tools_content = '### Tools ###'+json.dumps(message['content'])\n",
    "\n",
    "    if 'tools' in input_json:\n",
    "        tools_content += \" \" + json.dumps(input_json['tools'])\n",
    "\n",
    "    combined_content = f\"{system_prompt} {user_content} {tools_content}\"\n",
    "    chat.append({'role': 'user', 'content': combined_content})\n",
    "\n",
    "    for message in input_json['messages']:\n",
    "        if message['role'] == 'assistant' and 'tool_calls' in message:\n",
    "            for call in message['tool_calls']:\n",
    "                chat.append({'role': 'assistant', 'content': json.dumps(call)})\n",
    "    \n",
    "\n",
    "    for message in input_json['messages']:\n",
    "        if message['role'] == 'tool':\n",
    "            chat.append({'role': 'user', 'content': '### TOOLS RESPONSE ### '+json.dumps(message['content'])})\n",
    "\n",
    "    final_assistant_message = next(\n",
    "        (message['content'] for message in input_json['messages'] if message['role'] == 'assistant' and 'tool_calls' not in message), \n",
    "        None\n",
    "    )\n",
    "    if final_assistant_message:\n",
    "        chat.append({'role': 'assistant', 'content': final_assistant_message})\n",
    "    chat[1]['content'] = \" %%%%%%% \" + chat[1]['content']\n",
    "    chat[1]['content'] += \" %%%%%%% \"\n",
    "    \n",
    "    return chat"
   ]
  },
  {
   "cell_type": "markdown",
   "id": "105c86ad-e3e2-4f7e-9d21-18f9773420f8",
   "metadata": {},
   "source": [
    "#### Transform 2.0 code\n",
    "\n",
    "This would convert the input json into the required formal using transform v1.0 approach.\n",
    "Additionally it will add tools inside it which would be generated using the actions dir."
   ]
  },
  {
   "cell_type": "code",
   "execution_count": 7,
   "id": "5df67a0f-476b-4ab3-8fd8-b5b6059a3141",
   "metadata": {},
   "outputs": [],
   "source": [
    "def transform_json_v2(input_json):\n",
    "    chat = []\n",
    "    \n",
    "    # Extract system prompt, user content, and tools content\n",
    "    system_prompt = sys_prompt\n",
    "    user_content = \"\"\n",
    "    tools_content = \"### TOOLS ### \"\n",
    "    function_list = []\n",
    "    DIR_NAME = \"griham_actions\"\n",
    "\n",
    "    for message in input_json['messages']:\n",
    "#        if message['role'] == 'system':\n",
    "#            system_prompt = sys_prompt\n",
    "        if message['role'] == 'context':\n",
    "            system_prompt = sys_prompt\n",
    "            system_prompt += \" \" + json.dumps(message['content'])\n",
    "        elif message['role'] == 'user':\n",
    "            user_content = '@@@'+message['content'] + \"@@@\"\n",
    "#         elif message['role'] == 'tool':\n",
    "#             tools_content = '### Tools ###'+json.dumps(message['content'])\n",
    "        elif \"tool_calls\" in message:\n",
    "            # update the functions used in the function_list\n",
    "            for tool in message[\"tool_calls\"]:\n",
    "                for function in tool['function']:\n",
    "                    function_list.append(function['name'])\n",
    "\n",
    "\n",
    "    if 'tools' in input_json:\n",
    "        transformed_tools = []\n",
    "        for functionName in function_list:\n",
    "            file_path = f\"{DIR_NAME}/{functionName}.json\"\n",
    "            try:\n",
    "                with open(file_path, 'r') as file:\n",
    "                    function_data = json.load(file)\n",
    "                    transformed_tools.append(convert_tools_to_required_format(function_data))\n",
    "            except:\n",
    "                print(\"Data could not be transformed for \"+functionName)\n",
    "        tools_content += \" \" + json.dumps(transformed_tools)\n",
    "\n",
    "    combined_content = f\"{system_prompt} {user_content} {tools_content}\"\n",
    "    chat.append({'role': 'user', 'content': combined_content})\n",
    "\n",
    "    for message in input_json['messages']:\n",
    "        if message['role'] == 'assistant' and 'tool_calls' in message:\n",
    "            for call in message['tool_calls']:\n",
    "                chat.append({'role': 'assistant', 'content': json.dumps(call)})\n",
    "    \n",
    "\n",
    "    for message in input_json['messages']:\n",
    "        if message['role'] == 'tool':\n",
    "            chat.append({'role': 'user', 'content': '### TOOLS RESPONSE ### '+json.dumps(message['content'])})\n",
    "\n",
    "    final_assistant_message = next(\n",
    "        (message['content'] for message in input_json['messages'] if message['role'] == 'assistant' and 'tool_calls' not in message), \n",
    "        None\n",
    "    )\n",
    "    if final_assistant_message:\n",
    "        chat.append({'role': 'assistant', 'content': final_assistant_message})\n",
    "    chat[1]['content'] = \" %%%%%%% \" + chat[1]['content']\n",
    "    chat[1]['content'] += \" %%%%%%% \"\n",
    "    \n",
    "    return chat\n",
    "\n",
    "\n",
    "def convert_tools_to_required_format(input_json):\n",
    "    # Parse the input JSON string into a dictionary\n",
    "    input_dict = input_json\n",
    "\n",
    "    # Create a new dictionary to store the converted JSON data\n",
    "    output_dict = {\n",
    "        \"type\": \"function\",\n",
    "        \"function\": [\n",
    "            {\n",
    "                \"name\": input_dict[\"name\"],\n",
    "                \"description\": input_dict[\"description\"],\n",
    "                \"parameters\": {\n",
    "                    \"type\": \"object\",\n",
    "                    \"properties\": {},\n",
    "                    \"required\": []\n",
    "                }\n",
    "            }\n",
    "        ]\n",
    "    }\n",
    "    # Extract the parameters from the input dictionary and format them accordingly\n",
    "    for param in input_dict[\"parameters\"]:\n",
    "        param_info = {\n",
    "            \"type\": param[\"type\"],\n",
    "            \"description\": param[\"description\"]\n",
    "        }\n",
    "        output_dict[\"function\"][0][\"parameters\"][\"properties\"][param[\"name\"]] = param_info\n",
    "        \n",
    "        if not param[\"optional\"]:\n",
    "            output_dict[\"function\"][0][\"parameters\"][\"required\"].append(param[\"name\"])\n",
    "\n",
    "    return output_dict"
   ]
  },
  {
   "cell_type": "code",
   "execution_count": 10,
   "id": "cd60b5e1-b1ec-49e6-b3ed-5bbc09a4a2ec",
   "metadata": {},
   "outputs": [
    {
     "name": "stdout",
     "output_type": "stream",
     "text": [
      "[{'role': 'user', 'content': '\\n\\nYou are a smart home IOT agent.\\nYou will be given a user command enclosed within @@@ Task @@@.\\n\\nYou have to generate step by step execution plan for the given user command in json format enclosed between !!!:\\n!!!\\n%%%%%%%\\n{\\n\\n    \"tool_calls\": [\\n        {\\n            \"function_name\": \"function 1\",\\n            \"arguments\": \\n                {\\n                    \"argument_name 1\": \"argument value\"\\n                }\\n         },\\n         {\\n            \"function_name\": \"function 2\",\\n            \"arguments\": \\n                {\\n                    \"argument_name 1\": \"argument value\",\\n                    \"argument_name 2\": \"argument value\"\\n                }\\n        }\\n    ]\\n}\\n%%%%%%%\\n!!!\\nKeywords are defined as below:\\n\\ntool_calls: List of tool call objects, where each tool call object contains:  \\n    - function_name: It is name of single execution step for the complete plan. (e.g., identify_device, powerSwitch_getStatus, etc.) Plan can have 1 or more functions in response.\\n    - arguments: Dictionary of arguments for the function_name, which are required for execution of the function. (e.g., device, location, application, title, etc.)\\n\\nDo not add any superfluous steps. Make sure that each step has all the information needed - do not skip steps.\\nIf it is impossible to generate step by step plan, reply empty list of function. Ensure to enclose the output with \"%%%%%%%\" after generating with the json format. Do not generate anything after the second %%%%%%%.\\n\\n\\n\\n @@@What is the current brightness of the kitchen light?@@@ ### TOOLS ###  [{\"type\": \"function\", \"function\": [{\"name\": \"identify-device\", \"description\": \"Infer the device name or type from the user utterance or prompt the user if inference is not possible.\", \"parameters\": {\"type\": \"object\", \"properties\": {\"utterance\": {\"type\": \"string\", \"description\": \"User spoken utterance.\"}, \"context_data\": {\"type\": \"string\", \"description\": \"used to Infer the device from the context data provided.\"}}, \"required\": [\"utterance\"]}}]}, {\"type\": \"function\", \"function\": [{\"name\": \"brightness-getValue\", \"description\": \"This function is used to get the brightness of a smart home appliance or device.\", \"parameters\": {\"type\": \"object\", \"properties\": {\"location\": {\"type\": \"string\", \"description\": \"The location where the device for which brightness is requested is located.\"}, \"room\": {\"type\": \"string\", \"description\": \"The room where the air conditioner is located. e.g. living room, bedroom, bathroom, etc.\"}, \"device\": {\"type\": \"string\", \"description\": \"The name or type of the device on which the brightness is requested.\"}}, \"required\": []}}]}]'}, {'role': 'assistant', 'content': ' %%%%%%% {\"type\": \"function\", \"function\": [{\"name\": \"identify_device\", \"arguments\": {\"device\": \"light\", \"location\": \"kitchen\"}}, {\"name\": \"brightness_getValue\", \"arguments\": {\"device\": \"#E1\"}}]} %%%%%%% '}, {'role': 'user', 'content': '### TOOLS RESPONSE ### {\"status\": \"success\"}'}, {'role': 'assistant', 'content': 'The brightness for kitchen light is 100.'}]\n"
     ]
    }
   ],
   "source": [
    "import json\n",
    "\n",
    "# Opening JSON file\n",
    "f = open(directory + '/brightness_getValue_0.json')\n",
    "\n",
    "# returns JSON object as \n",
    "# a dictionary\n",
    "x = json.load(f)\n",
    "y = transform_json_v2(x)\n",
    "print(y)"
   ]
  },
  {
   "cell_type": "code",
   "execution_count": null,
   "id": "ec34a0cb-f6de-4fce-a74c-aa7ad5198585",
   "metadata": {},
   "outputs": [],
   "source": [
    "# Opening JSON file\n",
    "f = open(directory+'/Template1_TC_01.json')\n",
    "\n",
    "# returns JSON object as \n",
    "# a dictionary\n",
    "x = json.load(f)\n",
    "y = transform_json(x)\n",
    "print(y)"
   ]
  },
  {
   "cell_type": "code",
   "execution_count": 45,
   "id": "02e678f2-85e9-456a-a020-3523e93de077",
   "metadata": {},
   "outputs": [
    {
     "data": {
      "text/plain": [
       "[' ',\n",
       " ' {\"type\": \"function\", \"function\": [{\"name\": \"identify_device\", \"arguments\": {\"device\": \"light\", \"location\": \"kitchen\"}}, {\"name\": \"brightness_getValue\", \"arguments\": {\"device\": \"#E1\"}}]} ',\n",
       " ' ']"
      ]
     },
     "execution_count": 45,
     "metadata": {},
     "output_type": "execute_result"
    }
   ],
   "source": [
    "temp = y[1]\n",
    "temp['content'].split(\"%%%%%%%\")"
   ]
  },
  {
   "cell_type": "markdown",
   "id": "4b8a7825-11ed-4f59-8055-68c6b15d4aa1",
   "metadata": {},
   "source": [
    "Initialize list to store encoded strings"
   ]
  },
  {
   "cell_type": "code",
   "execution_count": 12,
   "id": "4093f6c1-b78b-4b67-bf7f-3d42e12edc6a",
   "metadata": {},
   "outputs": [],
   "source": [
    "encoded_strings = []"
   ]
  },
  {
   "cell_type": "markdown",
   "id": "cd649873-d55e-4d28-b04b-7acb2064b957",
   "metadata": {},
   "source": [
    "Iterate over all JSON files in the directory"
   ]
  },
  {
   "cell_type": "code",
   "execution_count": 13,
   "id": "071f7b59-1a2b-424b-9948-57199573c654",
   "metadata": {},
   "outputs": [],
   "source": [
    "for filename in os.listdir(directory):\n",
    "    if filename.endswith('.json'):\n",
    "        \n",
    "        filepath = os.path.join(directory, filename)\n",
    "        with open(filepath, 'r') as file:\n",
    "            input_json = json.load(file)\n",
    "        \n",
    "        \n",
    "        transformed_json = transform_json_v2(input_json)\n",
    "        \n",
    "        folder_path = 'edited_transformed_json-tr' + numbers[0]\n",
    "        if not os.path.exists(folder_path):\n",
    "            # Create the folder\n",
    "            os.makedirs(folder_path)\n",
    "        output_filepath = os.path.join(folder_path, 'transformed_' + filename)\n",
    "        with open(output_filepath, 'w') as output_file:\n",
    "            json.dump(transformed_json, output_file, indent=2)\n",
    "        \n",
    "        \n",
    "        with open(output_filepath, 'r') as transformed_file:\n",
    "            transformed_data = json.load(transformed_file)\n",
    "            encoded_string = tokenizer.apply_chat_template(transformed_data, tokenize=False, add_generation_prompt=True)\n",
    "            encoded_strings.append(encoded_string)\n"
   ]
  },
  {
   "cell_type": "markdown",
   "id": "45081c7c-dde0-4c95-bd04-7f4f869a7c5a",
   "metadata": {},
   "source": [
    "convert to csv and save"
   ]
  },
  {
   "cell_type": "code",
   "execution_count": 14,
   "id": "18ad085a-4ac2-4875-98f2-9d89c4f28434",
   "metadata": {},
   "outputs": [],
   "source": [
    "df = pd.DataFrame({'train': encoded_strings})\n",
    "df.to_csv('training_data_encoded-' + numbers[0] +'.csv', index=False)"
   ]
  },
  {
   "cell_type": "code",
   "execution_count": 15,
   "id": "1382e1e3-d3bd-48ab-a865-0dc290ea4185",
   "metadata": {},
   "outputs": [
    {
     "data": {
      "text/html": [
       "<div>\n",
       "<style scoped>\n",
       "    .dataframe tbody tr th:only-of-type {\n",
       "        vertical-align: middle;\n",
       "    }\n",
       "\n",
       "    .dataframe tbody tr th {\n",
       "        vertical-align: top;\n",
       "    }\n",
       "\n",
       "    .dataframe thead th {\n",
       "        text-align: right;\n",
       "    }\n",
       "</style>\n",
       "<table border=\"1\" class=\"dataframe\">\n",
       "  <thead>\n",
       "    <tr style=\"text-align: right;\">\n",
       "      <th></th>\n",
       "      <th>train</th>\n",
       "    </tr>\n",
       "  </thead>\n",
       "  <tbody>\n",
       "    <tr>\n",
       "      <th>0</th>\n",
       "      <td>&lt;s&gt;[INST] \\n\\nYou are a smart home IOT agent.\\...</td>\n",
       "    </tr>\n",
       "    <tr>\n",
       "      <th>1</th>\n",
       "      <td>&lt;s&gt;[INST] \\n\\nYou are a smart home IOT agent.\\...</td>\n",
       "    </tr>\n",
       "    <tr>\n",
       "      <th>2</th>\n",
       "      <td>&lt;s&gt;[INST] \\n\\nYou are a smart home IOT agent.\\...</td>\n",
       "    </tr>\n",
       "    <tr>\n",
       "      <th>3</th>\n",
       "      <td>&lt;s&gt;[INST] \\n\\nYou are a smart home IOT agent.\\...</td>\n",
       "    </tr>\n",
       "    <tr>\n",
       "      <th>4</th>\n",
       "      <td>&lt;s&gt;[INST] \\n\\nYou are a smart home IOT agent.\\...</td>\n",
       "    </tr>\n",
       "    <tr>\n",
       "      <th>...</th>\n",
       "      <td>...</td>\n",
       "    </tr>\n",
       "    <tr>\n",
       "      <th>112</th>\n",
       "      <td>&lt;s&gt;[INST] \\n\\nYou are a smart home IOT agent.\\...</td>\n",
       "    </tr>\n",
       "    <tr>\n",
       "      <th>113</th>\n",
       "      <td>&lt;s&gt;[INST] \\n\\nYou are a smart home IOT agent.\\...</td>\n",
       "    </tr>\n",
       "    <tr>\n",
       "      <th>114</th>\n",
       "      <td>&lt;s&gt;[INST] \\n\\nYou are a smart home IOT agent.\\...</td>\n",
       "    </tr>\n",
       "    <tr>\n",
       "      <th>115</th>\n",
       "      <td>&lt;s&gt;[INST] \\n\\nYou are a smart home IOT agent.\\...</td>\n",
       "    </tr>\n",
       "    <tr>\n",
       "      <th>116</th>\n",
       "      <td>&lt;s&gt;[INST] \\n\\nYou are a smart home IOT agent.\\...</td>\n",
       "    </tr>\n",
       "  </tbody>\n",
       "</table>\n",
       "<p>117 rows × 1 columns</p>\n",
       "</div>"
      ],
      "text/plain": [
       "                                                 train\n",
       "0    <s>[INST] \\n\\nYou are a smart home IOT agent.\\...\n",
       "1    <s>[INST] \\n\\nYou are a smart home IOT agent.\\...\n",
       "2    <s>[INST] \\n\\nYou are a smart home IOT agent.\\...\n",
       "3    <s>[INST] \\n\\nYou are a smart home IOT agent.\\...\n",
       "4    <s>[INST] \\n\\nYou are a smart home IOT agent.\\...\n",
       "..                                                 ...\n",
       "112  <s>[INST] \\n\\nYou are a smart home IOT agent.\\...\n",
       "113  <s>[INST] \\n\\nYou are a smart home IOT agent.\\...\n",
       "114  <s>[INST] \\n\\nYou are a smart home IOT agent.\\...\n",
       "115  <s>[INST] \\n\\nYou are a smart home IOT agent.\\...\n",
       "116  <s>[INST] \\n\\nYou are a smart home IOT agent.\\...\n",
       "\n",
       "[117 rows x 1 columns]"
      ]
     },
     "execution_count": 15,
     "metadata": {},
     "output_type": "execute_result"
    }
   ],
   "source": [
    "df"
   ]
  },
  {
   "cell_type": "code",
   "execution_count": 16,
   "id": "5c08a4e8-60ae-46ce-86c6-201077f97585",
   "metadata": {},
   "outputs": [
    {
     "name": "stdout",
     "output_type": "stream",
     "text": [
      " {\"type\": \"function\", \"function\": [{\"name\": \"identify_device\", \"arguments\": {\"device\": \"AC\"}}, {\"name\": \"airConditioningMode_getValue\", \"arguments\": {\"device\": \"#E1\"}}]} \n"
     ]
    }
   ],
   "source": [
    "st = df['train'][1]\n",
    "temp = st.split(\"%%%%%%%\")\n",
    "print(temp[5])"
   ]
  },
  {
   "cell_type": "code",
   "execution_count": 17,
   "id": "75eb37dd-19e1-4645-a008-3886082ed519",
   "metadata": {},
   "outputs": [
    {
     "name": "stdout",
     "output_type": "stream",
     "text": [
      "Loading dataset training_data_encoded-18.csv ....\n"
     ]
    },
    {
     "data": {
      "text/html": [
       "<div>\n",
       "<style scoped>\n",
       "    .dataframe tbody tr th:only-of-type {\n",
       "        vertical-align: middle;\n",
       "    }\n",
       "\n",
       "    .dataframe tbody tr th {\n",
       "        vertical-align: top;\n",
       "    }\n",
       "\n",
       "    .dataframe thead th {\n",
       "        text-align: right;\n",
       "    }\n",
       "</style>\n",
       "<table border=\"1\" class=\"dataframe\">\n",
       "  <thead>\n",
       "    <tr style=\"text-align: right;\">\n",
       "      <th></th>\n",
       "      <th>train</th>\n",
       "    </tr>\n",
       "  </thead>\n",
       "  <tbody>\n",
       "    <tr>\n",
       "      <th>0</th>\n",
       "      <td>&lt;s&gt;[INST] \\n\\nYou are a smart home IOT agent.\\...</td>\n",
       "    </tr>\n",
       "    <tr>\n",
       "      <th>1</th>\n",
       "      <td>&lt;s&gt;[INST] \\n\\nYou are a smart home IOT agent.\\...</td>\n",
       "    </tr>\n",
       "    <tr>\n",
       "      <th>2</th>\n",
       "      <td>&lt;s&gt;[INST] \\n\\nYou are a smart home IOT agent.\\...</td>\n",
       "    </tr>\n",
       "    <tr>\n",
       "      <th>3</th>\n",
       "      <td>&lt;s&gt;[INST] \\n\\nYou are a smart home IOT agent.\\...</td>\n",
       "    </tr>\n",
       "    <tr>\n",
       "      <th>4</th>\n",
       "      <td>&lt;s&gt;[INST] \\n\\nYou are a smart home IOT agent.\\...</td>\n",
       "    </tr>\n",
       "    <tr>\n",
       "      <th>...</th>\n",
       "      <td>...</td>\n",
       "    </tr>\n",
       "    <tr>\n",
       "      <th>112</th>\n",
       "      <td>&lt;s&gt;[INST] \\n\\nYou are a smart home IOT agent.\\...</td>\n",
       "    </tr>\n",
       "    <tr>\n",
       "      <th>113</th>\n",
       "      <td>&lt;s&gt;[INST] \\n\\nYou are a smart home IOT agent.\\...</td>\n",
       "    </tr>\n",
       "    <tr>\n",
       "      <th>114</th>\n",
       "      <td>&lt;s&gt;[INST] \\n\\nYou are a smart home IOT agent.\\...</td>\n",
       "    </tr>\n",
       "    <tr>\n",
       "      <th>115</th>\n",
       "      <td>&lt;s&gt;[INST] \\n\\nYou are a smart home IOT agent.\\...</td>\n",
       "    </tr>\n",
       "    <tr>\n",
       "      <th>116</th>\n",
       "      <td>&lt;s&gt;[INST] \\n\\nYou are a smart home IOT agent.\\...</td>\n",
       "    </tr>\n",
       "  </tbody>\n",
       "</table>\n",
       "<p>117 rows × 1 columns</p>\n",
       "</div>"
      ],
      "text/plain": [
       "                                                 train\n",
       "0    <s>[INST] \\n\\nYou are a smart home IOT agent.\\...\n",
       "1    <s>[INST] \\n\\nYou are a smart home IOT agent.\\...\n",
       "2    <s>[INST] \\n\\nYou are a smart home IOT agent.\\...\n",
       "3    <s>[INST] \\n\\nYou are a smart home IOT agent.\\...\n",
       "4    <s>[INST] \\n\\nYou are a smart home IOT agent.\\...\n",
       "..                                                 ...\n",
       "112  <s>[INST] \\n\\nYou are a smart home IOT agent.\\...\n",
       "113  <s>[INST] \\n\\nYou are a smart home IOT agent.\\...\n",
       "114  <s>[INST] \\n\\nYou are a smart home IOT agent.\\...\n",
       "115  <s>[INST] \\n\\nYou are a smart home IOT agent.\\...\n",
       "116  <s>[INST] \\n\\nYou are a smart home IOT agent.\\...\n",
       "\n",
       "[117 rows x 1 columns]"
      ]
     },
     "execution_count": 17,
     "metadata": {},
     "output_type": "execute_result"
    }
   ],
   "source": [
    "import pandas as pd \n",
    "print(\"Loading dataset training_data_encoded-\" + numbers[0] +'.csv' + ' ....')\n",
    "df2 = pd.read_csv('training_data_encoded-' + numbers[0] +'.csv')\n",
    "df2"
   ]
  },
  {
   "cell_type": "code",
   "execution_count": 18,
   "id": "0c334359-6a6a-45e9-a74f-efecf80bf539",
   "metadata": {},
   "outputs": [
    {
     "data": {
      "text/plain": [
       "'<s>[INST] \\n\\nYou are a smart home IOT agent.\\nYou will be given a user command enclosed within @@@ Task @@@.\\n\\nYou have to generate step by step execution plan for the given user command in json format enclosed between !!!:\\n!!!\\n%%%%%%%\\n{\\n\\n    \"tool_calls\": [\\n        {\\n            \"function_name\": \"function 1\",\\n            \"arguments\": \\n                {\\n                    \"argument_name 1\": \"argument value\"\\n                }\\n         },\\n         {\\n            \"function_name\": \"function 2\",\\n            \"arguments\": \\n                {\\n                    \"argument_name 1\": \"argument value\",\\n                    \"argument_name 2\": \"argument value\"\\n                }\\n        }\\n    ]\\n}\\n%%%%%%%\\n!!!\\nKeywords are defined as below:\\n\\ntool_calls: List of tool call objects, where each tool call object contains:  \\n    - function_name: It is name of single execution step for the complete plan. (e.g., identify_device, powerSwitch_getStatus, etc.) Plan can have 1 or more functions in response.\\n    - arguments: Dictionary of arguments for the function_name, which are required for execution of the function. (e.g., device, location, application, title, etc.)\\n\\nDo not add any superfluous steps. Make sure that each step has all the information needed - do not skip steps.\\nIf it is impossible to generate step by step plan, reply empty list of function. Ensure to enclose the output with \"%%%%%%%\" after generating with the json format. Do not generate anything after the second %%%%%%%.\\n\\n\\n\\n @@@Can you tell me the current mode of the AC?@@@ ### TOOLS ###  [{\"type\": \"function\", \"function\": [{\"name\": \"identify-device\", \"description\": \"Infer the device name or type from the user utterance or prompt the user if inference is not possible.\", \"parameters\": {\"type\": \"object\", \"properties\": {\"utterance\": {\"type\": \"string\", \"description\": \"User spoken utterance.\"}, \"context_data\": {\"type\": \"string\", \"description\": \"used to Infer the device from the context data provided.\"}}, \"required\": [\"utterance\"]}}]}, {\"type\": \"function\", \"function\": [{\"name\": \"airConditioningMode_getValue\", \"description\": \"This function is used to retrieve the current operation mode of the air conditioner via a voice command. E.g. auto, windfree, etc\", \"parameters\": {\"type\": \"object\", \"properties\": {\"location\": {\"type\": \"string\", \"description\": \"The location where the air conditioner is located. e.g. home, office, etc.\"}, \"room\": {\"type\": \"string\", \"description\": \"The room where the air conditioner is located. e.g. living room, bedroom, bathroom, etc.\"}, \"device\": {\"type\": \"string\", \"description\": \"The name of the air conditioner whose operation mode needs to be checked. e.g. AC1, standing air conditioner, etc.\"}}, \"required\": []}}]}] [/INST] %%%%%%% {\"type\": \"function\", \"function\": [{\"name\": \"identify_device\", \"arguments\": {\"device\": \"AC\"}}, {\"name\": \"airConditioningMode_getValue\", \"arguments\": {\"device\": \"#E1\"}}]} %%%%%%% </s>[INST] ### TOOLS RESPONSE ### {\"status\": \"success\"} [/INST]The mode for AC is auto.</s>'"
      ]
     },
     "execution_count": 18,
     "metadata": {},
     "output_type": "execute_result"
    }
   ],
   "source": [
    "df2['train'][1]"
   ]
  },
  {
   "cell_type": "code",
   "execution_count": null,
   "id": "e31a6bf8-e81d-45ec-98d1-00ffb987235d",
   "metadata": {},
   "outputs": [],
   "source": []
  }
 ],
 "metadata": {
  "kernelspec": {
   "display_name": "griham",
   "language": "python",
   "name": "griham"
  },
  "language_info": {
   "codemirror_mode": {
    "name": "ipython",
    "version": 3
   },
   "file_extension": ".py",
   "mimetype": "text/x-python",
   "name": "python",
   "nbconvert_exporter": "python",
   "pygments_lexer": "ipython3",
   "version": "3.10.14"
  }
 },
 "nbformat": 4,
 "nbformat_minor": 5
}
